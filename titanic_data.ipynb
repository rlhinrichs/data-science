{
 "cells": [
  {
   "cell_type": "markdown",
   "metadata": {},
   "source": [
    "# Data Structures & Algorithms in Python\n",
    "## by Rebecca Hinrichs\n",
    "## Spring 2022"
   ]
  },
  {
   "cell_type": "markdown",
   "metadata": {},
   "source": [
    "## Prob 1. Comparing two text files"
   ]
  },
  {
   "cell_type": "markdown",
   "metadata": {},
   "source": [
    "### Algorithm Steps:\n",
    "1. Import files to compare\n",
    "   - Open files for reading: myfile.txt and correct.txt\n",
    "   - Assign each to a file object\n",
    "   - close the files\n",
    "2. Compare lines of text (assignment says file lengths are matching)\n",
    "   - Iterate per line through the length of either list\n",
    "   - Create an empty list per iteration\n",
    "   - If a mismatch is found: add line value to list & display\n",
    "   - If no mismatch is found: display\n",
    "   - Reference line count per display"
   ]
  },
  {
   "cell_type": "code",
   "execution_count": 100,
   "metadata": {
    "code_folding": [],
    "scrolled": true
   },
   "outputs": [
    {
     "name": "stdout",
     "output_type": "stream",
     "text": [
      "Line>     1   - same\n",
      "Line>     2   - same\n",
      "Line>     3   in myfile is different\n",
      "\n",
      "        CORRECT>>\n",
      "['20           7.00        38,696.84\\n']\n",
      "        MYFILE>>\n",
      "['30           7.00        76,122.55\\n']\n",
      "\n",
      "Line>     4   - same\n",
      "Line>     5   in myfile is different\n",
      "\n",
      "        CORRECT>>\n",
      "['Question 1.B: Present Value Calculation:\\n']\n",
      "        MYFILE>>\n",
      "['Question 1.B: Present Value Calculation: \\n']\n",
      "\n",
      "Line>     6   - same\n",
      "Line>     7   - same\n",
      "Line>     8   - same\n",
      "Line>     9   - same\n",
      "Line>     10   - same\n"
     ]
    }
   ],
   "source": [
    "# Code for this Problem is copied into this function that will be run the in main program\n",
    "def file_compare(myfile,correctfile):\n",
    "   \n",
    "    # *******************************************************************************\n",
    "    # ENTER YOUR FINAL CHECKED CODE AFTER THIS COMMENT BLOCK\n",
    "    # NOTE:  You may want to check and develop your code in another notebook before\n",
    "    # copying it here. \n",
    "    # YOUR CODE MUST BE CORRECTLY INDENTED OR IT WONT RUN\n",
    "    # *******************************************************************************\n",
    "    \n",
    "    # open myfile to receive data input\n",
    "    try:\n",
    "        myfile = open('myfile.txt', 'r')\n",
    "    except IOError:\n",
    "        print('An error occurred trying to read the comparison file.')\n",
    "    \n",
    "    # open correctfile to receive data input\n",
    "    try:\n",
    "        correctfile = open('correct.txt', 'r')\n",
    "    except IOError:\n",
    "        print('An error occurred trying to read the correct source file.')\n",
    "\n",
    "    # create lists of lines per file\n",
    "    mylist = myfile.readlines()\n",
    "    correctlist = correctfile.readlines()\n",
    "    \n",
    "    # close read files\n",
    "    myfile.close()\n",
    "    correctfile.close()\n",
    "\n",
    "    # iterate over each line in the list\n",
    "    for line in range(len(mylist)):\n",
    "        # create empty lists to contain mismatched strings\n",
    "        correction = []\n",
    "        exception = []\n",
    "\n",
    "        # examine each line for a mismatch\n",
    "        if mylist[line] != correctlist[line]:  # if a mismatch is found\n",
    "            correction.append(correctlist[line])\n",
    "            exception.append(mylist[line])\n",
    "            print('Line>    ', line+1, '  in myfile is different')\n",
    "            print()\n",
    "            print('        CORRECT>>')\n",
    "            print(correction)\n",
    "            print('        MYFILE>>')\n",
    "            print(exception)\n",
    "            print()\n",
    "        else:  # if the lines are a match\n",
    "            print('Line>    ', line+1, '  - same')\n",
    "            \n",
    "# run the program using the following files\n",
    "if __name__ == '__main__':\n",
    "    file1 = \"myfile.txt\"\n",
    "    file2 = \"correct.txt\"\n",
    "    file_compare(file1,file2)"
   ]
  },
  {
   "cell_type": "code",
   "execution_count": 21,
   "metadata": {
    "code_folding": [],
    "scrolled": true
   },
   "outputs": [
    {
     "name": "stdout",
     "output_type": "stream",
     "text": [
      "Line>    1  - same\n",
      "Line>    2  - same\n",
      "Line>    3  in myfile is different \n",
      "\n",
      "        CORRECT>>\n",
      "['20           7.00        38,696.84\\n']\n",
      "        MYFILE>>\n",
      "['30           7.00        76,122.55\\n'] \n",
      "\n",
      "Line>    4  - same\n",
      "Line>    5  in myfile is different \n",
      "\n",
      "        CORRECT>>\n",
      "['Question 1.B: Present Value Calculation:\\n']\n",
      "        MYFILE>>\n",
      "['Question 1.B: Present Value Calculation: \\n'] \n",
      "\n",
      "Line>    6  - same\n",
      "Line>    7  - same\n",
      "Line>    8  - same\n",
      "Line>    9  - same\n",
      "Line>   10  - same\n"
     ]
    }
   ],
   "source": [
    "# Run your code by calling the function \n",
    "# Always test your code to check that you get what you expect\n",
    "if __name__ == '__main__':\n",
    "    file1 = \"myfile.txt\"\n",
    "    file2 = \"correct.txt\"\n",
    "    file_compare(file1,file2)  "
   ]
  },
  {
   "cell_type": "markdown",
   "metadata": {},
   "source": [
    "## Prob 2. Counting Duplicate Words"
   ]
  },
  {
   "cell_type": "markdown",
   "metadata": {},
   "source": [
    "### Algorithm Steps:\n",
    "1. task 1\n",
    "   - bullet \n",
    "2. task 2\n",
    "   - bullet\n",
    "3. ..."
   ]
  },
  {
   "cell_type": "code",
   "execution_count": 23,
   "metadata": {
    "code_folding": []
   },
   "outputs": [],
   "source": [
    "# Code for this Problem is copied into this function that will be run the in main program\n",
    "def p1_word_counts(text):\n",
    "\n",
    "    # *******************************************************************************\n",
    "    # EXPECTED OUTPUT FROM YOUR CODE\n",
    "    #\n",
    "    # The following is the expected output from your code that will be tested for\n",
    "    # By the 'DocTest' module.\n",
    "    # Do not change these lines or the test will fail. Your instructor may run \n",
    "    # additional test scenarios on your code so check your code carefully.\n",
    "    # *******************************************************************************\n",
    "    \"\"\"Tokenize a string\n",
    "        \n",
    "    >>> text = ('this is sample Text with several words this is more sample text with some different Words')\n",
    "    >>> p1_word_counts(text)\n",
    "    WORD        COUNT\n",
    "    is          2\n",
    "    sample      2\n",
    "    text        2\n",
    "    this        2\n",
    "    with        2\n",
    "    words       2\n",
    "    \n",
    "    >>> text = ('how much wood could a wood chuck chuck if a wood chuck could chuck wood')\n",
    "    >>> p1_word_counts(text)\n",
    "    WORD        COUNT\n",
    "    a           2\n",
    "    chuck       4\n",
    "    could       2\n",
    "    wood        4\n",
    "    \n",
    "    >>> text = ('this is the time for all good men to come to the aid of their country')\n",
    "    >>> p1_word_counts(text)\n",
    "    WORD        COUNT\n",
    "    the         2\n",
    "    to          2\n",
    "    \"\"\"\n",
    "\n",
    "    # *******************************************************************************\n",
    "    # ENTER YOUR FINAL CHECKED CODE AFTER THIS COMMENT BLOCK\n",
    "    # NOTE:  You may want to check and develop your code in another notebook before\n",
    "    # copying it here. \n",
    "    # YOUR CODE MUST BE CORRECTLY INDENTED OR IT WONT RUN\n",
    "    # *******************************************************************************\n",
    "    \n",
    "    "
   ]
  },
  {
   "cell_type": "code",
   "execution_count": 9,
   "metadata": {
    "code_folding": [],
    "scrolled": true
   },
   "outputs": [
    {
     "name": "stdout",
     "output_type": "stream",
     "text": [
      "WORD        COUNT\n",
      "is          2\n",
      "sample      2\n",
      "text        2\n",
      "this        2\n",
      "with        2\n",
      "words       2\n",
      "\n",
      "WORD        COUNT\n",
      "the         2\n",
      "to          2\n",
      "\n",
      "WORD        COUNT\n",
      "a           2\n",
      "chuck       4\n",
      "could       2\n",
      "wood        4\n",
      "\n"
     ]
    }
   ],
   "source": [
    "# Run your code by calling the function \n",
    "# Always test your code to check that you get what you expect\n",
    "if __name__ == '__main__':\n",
    "    text = ('this is sample Text with several words ' +\n",
    "            'this is more sample text with some different Words')\n",
    "    p1_word_counts(text)\n",
    "    print()\n",
    "    \n",
    "    text = ('this is the time for all good men to come to the aid of their country')\n",
    "    p1_word_counts(text)\n",
    "    print()\n",
    "    \n",
    "    text = ('how much wood could a wood chuck chuck if a wood chuck could chuck wood')\n",
    "    p1_word_counts(text)\n",
    "    print()"
   ]
  },
  {
   "cell_type": "markdown",
   "metadata": {},
   "source": [
    "## Prob 3. Duplicate Word Removal"
   ]
  },
  {
   "cell_type": "markdown",
   "metadata": {},
   "source": [
    "### Algorithm Steps:\n",
    "1. task 1\n",
    "   - bullet \n",
    "2. task 2\n",
    "   - bullet\n",
    "3. ..."
   ]
  },
  {
   "cell_type": "code",
   "execution_count": 24,
   "metadata": {
    "code_folding": []
   },
   "outputs": [],
   "source": [
    "# Code for this Problem is copied into this function that will be run the in main program\n",
    "def p2_unique_words(text):\n",
    "\n",
    "    # *******************************************************************************\n",
    "    # EXPECTED OUTPUT FROM YOUR CODE\n",
    "    #\n",
    "    # The following is the expected output from your code that will be tested for\n",
    "    # By the 'DocTest' module.\n",
    "    # Do not change these lines or the test will fail. Your instructor may run \n",
    "    # additional test scenarios on your code so check your code carefully.\n",
    "    # *******************************************************************************\n",
    "    \"\"\"Unique words in a string\n",
    "        \n",
    "    >>> text = ('This. is. sample. text. with. several. words. This is more sample text with some different Words')\n",
    "    >>> p2_unique_words(text)\n",
    "    UNIQUE SORTED WORDS:\n",
    "    different\n",
    "    is\n",
    "    more\n",
    "    sample\n",
    "    several\n",
    "    some\n",
    "    text\n",
    "    this\n",
    "    with\n",
    "    words\n",
    "    \"\"\"\n",
    "\n",
    "    # *******************************************************************************\n",
    "    # ENTER YOUR FINAL CHECKED CODE AFTER THIS COMMENT BLOCK\n",
    "    # NOTE:  You may want to check and develop your code in another notebook before\n",
    "    # copying it here. \n",
    "    # YOUR CODE MUST BE CORRECTLY INDENTED OR IT WONT RUN\n",
    "    # *******************************************************************************\n",
    "    \n",
    "    \n",
    "    "
   ]
  },
  {
   "cell_type": "code",
   "execution_count": 25,
   "metadata": {
    "code_folding": [],
    "scrolled": true
   },
   "outputs": [
    {
     "name": "stdout",
     "output_type": "stream",
     "text": [
      "UNIQUE SORTED WORDS:\n",
      "different\n",
      "is\n",
      "more\n",
      "sample\n",
      "several\n",
      "some\n",
      "text\n",
      "this\n",
      "with\n",
      "words\n"
     ]
    }
   ],
   "source": [
    "# Run your code by calling the function \n",
    "# Always test your code to check that you get what you expect\n",
    "if __name__ == '__main__':\n",
    "    text = ('This. is. sample. text. with. several. words. This is more sample text with some different Words')\n",
    "    p2_unique_words(text)"
   ]
  },
  {
   "cell_type": "markdown",
   "metadata": {},
   "source": [
    "## Prob 4. Dictionary Manipulations"
   ]
  },
  {
   "cell_type": "markdown",
   "metadata": {},
   "source": [
    "### Algorithm Steps:\n",
    "1. task 1\n",
    "   - bullet \n",
    "2. task 2\n",
    "   - bullet\n",
    "3. ..."
   ]
  },
  {
   "cell_type": "code",
   "execution_count": 26,
   "metadata": {
    "code_folding": []
   },
   "outputs": [],
   "source": [
    "# Code for this Problem is copied into this function that will be run the in main program\n",
    "def p3_Dictionary_Manipulations(d,params):\n",
    "\n",
    "    # *******************************************************************************\n",
    "    # EXPECTED OUTPUT FROM YOUR CODE\n",
    "    #\n",
    "    # The following is the expected output from your code that will be tested for\n",
    "    # By the 'DocTest' module.\n",
    "    # Do not change these lines or the test will fail. Your instructor may run \n",
    "    # additional test scenarios on your code so check your code carefully.\n",
    "    # *******************************************************************************\n",
    "    \"\"\"\n",
    "    >>> d = {'Canada': 'ca', 'United States': 'us', 'Mexico': 'mx'}\n",
    "    >>> params = ['Canada','France','sw','se']\n",
    "    >>> p3_Dictionary_Manipulations(d,params)\n",
    "    Dictionary is:\n",
    "    {'Canada': 'ca', 'United States': 'us', 'Mexico': 'mx'}\n",
    "    <BLANKLINE>\n",
    "    a. Canada in dict:\n",
    "    True\n",
    "    <BLANKLINE>\n",
    "    b. France in dict:\n",
    "    False\n",
    "    <BLANKLINE>\n",
    "    c. Keys and values in dict (key in field width 20):\n",
    "    Canada              ca\n",
    "    United States       us\n",
    "    Mexico              mx\n",
    "    <BLANKLINE>\n",
    "    d. Dict with Sweden set to 'sw':\n",
    "    {'Canada': 'ca', 'United States': 'us', 'Mexico': 'mx', 'Sweden': 'sw'}\n",
    "    <BLANKLINE>\n",
    "    e. Dict with Sweden corrected to 'se':\n",
    "    {'Canada': 'ca', 'United States': 'us', 'Mexico': 'mx', 'Sweden': 'se'}\n",
    "    <BLANKLINE>\n",
    "    f. Reverse mapping using dictionary comprehension:\n",
    "    {'ca': 'Canada', 'us': 'United States', 'mx': 'Mexico', 'se': 'Sweden'}\n",
    "    <BLANKLINE>\n",
    "    g. Reverse mapping uppercase using dictionary comprehension:\n",
    "    {'ca': 'CANADA', 'us': 'UNITED STATES', 'mx': 'MEXICO', 'se': 'SWEDEN'}\n",
    "    <BLANKLINE>\n",
    "    \"\"\"\n",
    "\n",
    "    # *******************************************************************************\n",
    "    # ENTER YOUR FINAL CHECKED CODE AFTER THIS COMMENT BLOCK\n",
    "    # NOTE:  You may want to check and develop your code in another notebook before\n",
    "    # copying it here. \n",
    "    # YOUR CODE MUST BE CORRECTLY INDENTED OR IT WONT RUN\n",
    "    # *******************************************************************************\n",
    "    \n",
    "    \n",
    "    "
   ]
  },
  {
   "cell_type": "code",
   "execution_count": 27,
   "metadata": {
    "code_folding": [],
    "scrolled": true
   },
   "outputs": [
    {
     "name": "stdout",
     "output_type": "stream",
     "text": [
      "Dictionary is:\n",
      "{'Canada': 'ca', 'United States': 'us', 'Mexico': 'mx'}\n",
      "\n",
      "a. Canada in dict:\n",
      "True\n",
      "\n",
      "b. France in dict:\n",
      "False\n",
      "\n",
      "c. Keys and values in dict (key in field width 20):\n",
      "Canada              ca\n",
      "United States       us\n",
      "Mexico              mx\n",
      "\n",
      "d. Dict with Sweden set to 'sw':\n",
      "{'Canada': 'ca', 'United States': 'us', 'Mexico': 'mx', 'Sweden': 'sw'}\n",
      "\n",
      "e. Dict with Sweden corrected to 'se':\n",
      "{'Canada': 'ca', 'United States': 'us', 'Mexico': 'mx', 'Sweden': 'se'}\n",
      "\n",
      "f. Reverse mapping using dictionary comprehension:\n",
      "{'ca': 'Canada', 'us': 'United States', 'mx': 'Mexico', 'se': 'Sweden'}\n",
      "\n",
      "g. Reverse mapping uppercase using dictionary comprehension:\n",
      "{'ca': 'CANADA', 'us': 'UNITED STATES', 'mx': 'MEXICO', 'se': 'SWEDEN'}\n",
      "\n"
     ]
    }
   ],
   "source": [
    "# Run your code by calling the function \n",
    "# Always test your code to check that you get what you expect\n",
    "if __name__ == '__main__':\n",
    "    # set up the dictionary & parameters\n",
    "    d = {'Canada': 'ca', 'United States': 'us', 'Mexico': 'mx'}\n",
    "    params = ['Canada','France','sw','se']\n",
    "\n",
    "    # Call the function to run and print out the scenarios in the script\n",
    "    p3_Dictionary_Manipulations(d,params)"
   ]
  },
  {
   "cell_type": "code",
   "execution_count": 28,
   "metadata": {
    "scrolled": true
   },
   "outputs": [
    {
     "name": "stdout",
     "output_type": "stream",
     "text": [
      "RUNNING UNIT TESTS - SEE THE LOG FOR FEEDBACK>>>\n",
      "Trying:\n",
      "    text = ('this is sample Text with several words this is more sample text with some different Words')\n",
      "Expecting nothing\n",
      "ok\n",
      "Trying:\n",
      "    p1_word_counts(text)\n",
      "Expecting:\n",
      "    WORD        COUNT\n",
      "    is          2\n",
      "    sample      2\n",
      "    text        2\n",
      "    this        2\n",
      "    with        2\n",
      "    words       2\n",
      "ok\n",
      "Trying:\n",
      "    text = ('how much wood could a wood chuck chuck if a wood chuck could chuck wood')\n",
      "Expecting nothing\n",
      "ok\n",
      "Trying:\n",
      "    p1_word_counts(text)\n",
      "Expecting:\n",
      "    WORD        COUNT\n",
      "    a           2\n",
      "    chuck       4\n",
      "    could       2\n",
      "    wood        4\n",
      "ok\n",
      "Trying:\n",
      "    text = ('this is the time for all good men to come to the aid of their country')\n",
      "Expecting nothing\n",
      "ok\n",
      "Trying:\n",
      "    p1_word_counts(text)\n",
      "Expecting:\n",
      "    WORD        COUNT\n",
      "    the         2\n",
      "    to          2\n",
      "ok\n",
      "Trying:\n",
      "    text = ('This. is. sample. text. with. several. words. This is more sample text with some different Words')\n",
      "Expecting nothing\n",
      "ok\n",
      "Trying:\n",
      "    p2_unique_words(text)\n",
      "Expecting:\n",
      "    UNIQUE SORTED WORDS:\n",
      "    different\n",
      "    is\n",
      "    more\n",
      "    sample\n",
      "    several\n",
      "    some\n",
      "    text\n",
      "    this\n",
      "    with\n",
      "    words\n",
      "ok\n",
      "Trying:\n",
      "    d = {'Canada': 'ca', 'United States': 'us', 'Mexico': 'mx'}\n",
      "Expecting nothing\n",
      "ok\n",
      "Trying:\n",
      "    params = ['Canada','France','sw','se']\n",
      "Expecting nothing\n",
      "ok\n",
      "Trying:\n",
      "    p3_Dictionary_Manipulations(d,params)\n",
      "Expecting:\n",
      "    Dictionary is:\n",
      "    {'Canada': 'ca', 'United States': 'us', 'Mexico': 'mx'}\n",
      "    <BLANKLINE>\n",
      "    a. Canada in dict:\n",
      "    True\n",
      "    <BLANKLINE>\n",
      "    b. France in dict:\n",
      "    False\n",
      "    <BLANKLINE>\n",
      "    c. Keys and values in dict (key in field width 20):\n",
      "    Canada              ca\n",
      "    United States       us\n",
      "    Mexico              mx\n",
      "    <BLANKLINE>\n",
      "    d. Dict with Sweden set to 'sw':\n",
      "    {'Canada': 'ca', 'United States': 'us', 'Mexico': 'mx', 'Sweden': 'sw'}\n",
      "    <BLANKLINE>\n",
      "    e. Dict with Sweden corrected to 'se':\n",
      "    {'Canada': 'ca', 'United States': 'us', 'Mexico': 'mx', 'Sweden': 'se'}\n",
      "    <BLANKLINE>\n",
      "    f. Reverse mapping using dictionary comprehension:\n",
      "    {'ca': 'Canada', 'us': 'United States', 'mx': 'Mexico', 'se': 'Sweden'}\n",
      "    <BLANKLINE>\n",
      "    g. Reverse mapping uppercase using dictionary comprehension:\n",
      "    {'ca': 'CANADA', 'us': 'UNITED STATES', 'mx': 'MEXICO', 'se': 'SWEDEN'}\n",
      "    <BLANKLINE>\n",
      "ok\n",
      "2 items had no tests:\n",
      "    __main__\n",
      "    __main__.file_compare\n",
      "3 items passed all tests:\n",
      "   6 tests in __main__.p1_word_counts\n",
      "   2 tests in __main__.p2_unique_words\n",
      "   3 tests in __main__.p3_Dictionary_Manipulations\n",
      "11 tests in 5 items.\n",
      "11 passed and 0 failed.\n",
      "Test passed.\n"
     ]
    }
   ],
   "source": [
    "# ************************************************************************\n",
    "# RUN THIS CELL TO CHECK THAT YOUR CODE MATCHES THE EXPECTED OUTPUT\n",
    "#*************************************************************************\n",
    "# this code checks that your output matches the expected result\n",
    "# continue to test your code until you get an Ok result for your test\n",
    "# the instructor will run this test and possibly others to check your code\n",
    "# Submit your code even if you can't get the tests to run without failures.\n",
    "# The instructor will look at your code and try to spot any errors and provide feedback\n",
    "if __name__ == '__main__':\n",
    "    import doctest\n",
    "    print(\"RUNNING UNIT TESTS - SEE THE LOG FOR FEEDBACK>>>\")\n",
    "    doctest.testmod(verbose=True)"
   ]
  },
  {
   "cell_type": "code",
   "execution_count": null,
   "metadata": {},
   "outputs": [],
   "source": []
  }
 ],
 "metadata": {
  "kernelspec": {
   "display_name": "Python 3 (ipykernel)",
   "language": "python",
   "name": "python3"
  },
  "language_info": {
   "codemirror_mode": {
    "name": "ipython",
    "version": 3
   },
   "file_extension": ".py",
   "mimetype": "text/x-python",
   "name": "python",
   "nbconvert_exporter": "python",
   "pygments_lexer": "ipython3",
   "version": "3.9.7"
  },
  "toc": {
   "base_numbering": 1,
   "nav_menu": {},
   "number_sections": true,
   "sideBar": true,
   "skip_h1_title": false,
   "title_cell": "Table of Contents",
   "title_sidebar": "Contents",
   "toc_cell": false,
   "toc_position": {},
   "toc_section_display": true,
   "toc_window_display": false
  }
 },
 "nbformat": 4,
 "nbformat_minor": 2
}
