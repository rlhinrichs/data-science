{
 "cells": [
  {
   "cell_type": "markdown",
   "metadata": {},
   "source": [
    "# Rebecca Hinrichs\n",
    "DATA 3401 -- Quiz 1 (recode due 15 Feb 22)"
   ]
  },
  {
   "cell_type": "code",
   "execution_count": null,
   "metadata": {},
   "outputs": [],
   "source": [
    "%matplotlib notebook"
   ]
  },
  {
   "cell_type": "code",
   "execution_count": null,
   "metadata": {},
   "outputs": [],
   "source": [
    "# Dependencies\n",
    "import matplotlib.pyplot as plt\n",
    "import numpy as np\n",
    "import pandas as pd"
   ]
  },
  {
   "cell_type": "markdown",
   "metadata": {},
   "source": [
    "### Using MatplotLib to Chart a DataFrame"
   ]
  },
  {
   "cell_type": "code",
   "execution_count": null,
   "metadata": {},
   "outputs": [],
   "source": [
    "# Read in the average state rain data (avg_rain_state.csv)\n",
    "data = pd.read_csv('avg_rain_state.csv')"
   ]
  },
  {
   "cell_type": "code",
   "execution_count": null,
   "metadata": {
    "scrolled": true
   },
   "outputs": [],
   "source": [
    "# Create a list indicating where to write x labels and set figure size, (20,3) to adjust for space\n",
    "fig, ax = plt.subplots(figsize = (20, 3))\n",
    "ax.axes.grid(True)\n",
    "# Set x axis and tick locations\n",
    "plt.xticks(range(50), data['State'], rotation=80)\n",
    "yticks = data['Inches']\n",
    "ax.bar(xticks, yticks, color = 'magenta')\n",
    "# Set x and y limits\n",
    "ax.set_xlim([-1,50])\n",
    "ax.set_ylim([0,75])\n",
    "# Set the Title and labels\n",
    "ax.set(title = 'Average Rainfall per State', xlabel = 'State', ylabel = 'Inches')\n",
    "# Consider using plt.tight_layout() at the end of each plot\n",
    "plt.tight_layout()"
   ]
  },
  {
   "cell_type": "markdown",
   "metadata": {},
   "source": [
    "### Using Pandas to Chart a DataFrame"
   ]
  },
  {
   "cell_type": "code",
   "execution_count": null,
   "metadata": {},
   "outputs": [],
   "source": [
    "# Filter the DataFrame down only to those columns (state and inches) to chart\n",
    "df = pd.DataFrame(data[['State','Inches']])\n",
    "# Set the index to be \"State\" so they will be used as labels\n",
    "df = df.set_index('State')\n",
    "# View the first 5 rows\n",
    "df.head(5)"
   ]
  },
  {
   "cell_type": "code",
   "execution_count": null,
   "metadata": {
    "scrolled": true
   },
   "outputs": [],
   "source": [
    "# Use DataFrame.plot() in order to create a bar chart of the data with the same figure size above\n",
    "# Set the title for the chart\n",
    "df.plot(kind = 'bar', color = 'magenta', figsize = (20, 3), title = 'Average Rainfall per State')\n",
    "plt.tight_layout()"
   ]
  },
  {
   "cell_type": "code",
   "execution_count": null,
   "metadata": {},
   "outputs": [],
   "source": [
    "# Have to copy & paste 'Millimetres' column name because otherwise I get a KeyError\n",
    "data.keys()"
   ]
  },
  {
   "cell_type": "code",
   "execution_count": null,
   "metadata": {
    "scrolled": true
   },
   "outputs": [],
   "source": [
    "# Pandas can also plot multiple columns if the DataFrame includes them. Please use pandas to plot this with figure size (20, 5)\n",
    "df['Millimeters'] = list(data['Milli­metres'])\n",
    "df['Rank'] = list(data['Rank'])\n",
    "# PandasPlot.set_xticklabels() can be used to set the tick labels as well. Please do this.\n",
    "df.plot(y = ['Inches','Millimeters','Rank'], kind = 'bar', figsize = (20,5), title = 'Average Rainfall per State')\n",
    "plt.tight_layout()"
   ]
  }
 ],
 "metadata": {
  "kernel_info": {
   "name": "python3"
  },
  "kernelspec": {
   "display_name": "Python 3",
   "language": "python",
   "name": "python3"
  },
  "language_info": {
   "codemirror_mode": {
    "name": "ipython",
    "version": 3
   },
   "file_extension": ".py",
   "mimetype": "text/x-python",
   "name": "python",
   "nbconvert_exporter": "python",
   "pygments_lexer": "ipython3",
   "version": "3.8.8"
  },
  "nteract": {
   "version": "0.2.0"
  }
 },
 "nbformat": 4,
 "nbformat_minor": 4
}
