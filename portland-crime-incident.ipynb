{
 "cells": [
  {
   "cell_type": "code",
   "execution_count": null,
   "id": "0a7af92c",
   "metadata": {},
   "outputs": [],
   "source": [
    "# EDA: 2017 Crime Incidents in Portland\n",
    "## by Rebecca Hinrichs\n",
    "## 27 Jan 2022"
   ]
  },
  {
   "cell_type": "code",
   "execution_count": null,
   "id": "3f2186df",
   "metadata": {},
   "outputs": [],
   "source": [
    "# LAB 2 (Part A): Portland Crime"
   ]
  },
  {
   "cell_type": "code",
   "execution_count": null,
   "id": "1b450a7e",
   "metadata": {},
   "outputs": [],
   "source": [
    "# Import Dependencies\n",
    "import pandas as pd"
   ]
  },
  {
   "cell_type": "code",
   "execution_count": null,
   "id": "03579c85",
   "metadata": {},
   "outputs": [],
   "source": [
    "# Read in the csv (portland crime incident data2017.csv) using Pandas and\n",
    "# print out the DataFrame that is returned.\n",
    "data = pd.read_csv(\"portland_crime_incident_data2017.csv\")\n",
    "pd.DataFrame(data)"
   ]
  },
  {
   "cell_type": "code",
   "execution_count": null,
   "id": "b3bf86b8",
   "metadata": {},
   "outputs": [],
   "source": [
    "# Get a count of rows within the DataFrame in order to determine if there are\n",
    "# any null values.\n",
    "data.count()"
   ]
  },
  {
   "cell_type": "code",
   "execution_count": null,
   "id": "6331e825",
   "metadata": {},
   "outputs": [],
   "source": [
    "# Drop the rows which contain null values.\n",
    "clean_data = data.dropna()\n",
    "clean_data.count()"
   ]
  },
  {
   "cell_type": "code",
   "execution_count": null,
   "id": "33750833",
   "metadata": {},
   "outputs": [],
   "source": [
    "# Search through the \"Offense Type\" column and \"replace\" any similar values\n",
    "# with one consistent value.\n",
    "sorted_data = clean_data[\"Offense Type\"]\n",
    "sorted_data.value_counts()"
   ]
  },
  {
   "cell_type": "code",
   "execution_count": null,
   "id": "e560e390",
   "metadata": {},
   "outputs": [],
   "source": [
    "sex_data = sorted_data.replace(['Prostitution', 'Pornography/Obscene Material', 'Assisting or Promoting Prostitution', 'Commercial Sex Acts'], \"Sex Crimes\")\n",
    "sex_data.value_counts()"
   ]
  },
  {
   "cell_type": "code",
   "execution_count": null,
   "id": "de9566b9",
   "metadata": {},
   "outputs": [],
   "source": []
  }
 ],
 "metadata": {
  "kernelspec": {
   "display_name": "Python 3",
   "language": "python",
   "name": "python3"
  },
  "language_info": {
   "codemirror_mode": {
    "name": "ipython",
    "version": 3
   },
   "file_extension": ".py",
   "mimetype": "text/x-python",
   "name": "python",
   "nbconvert_exporter": "python",
   "pygments_lexer": "ipython3",
   "version": "3.8.8"
  }
 },
 "nbformat": 4,
 "nbformat_minor": 5
}
