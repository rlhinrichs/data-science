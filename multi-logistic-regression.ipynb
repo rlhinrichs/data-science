{
 "cells": [
  {
   "cell_type": "markdown",
   "id": "3886be06-fbb4-4022-a733-37c8f924c1e2",
   "metadata": {},
   "source": [
    "<center>\n",
    "    <u><font size=\"36\">Multi-Class Logistic Regression</font></u>\n",
    "    <h2>by Rebecca Hinrichs</h2>\n",
    "    <h4>SPRING 2023</h4>\n",
    "</center>"
   ]
  },
  {
   "cell_type": "markdown",
   "id": "4369f4fe-42ea-47fc-a3b7-b424b365748b",
   "metadata": {
    "tags": []
   },
   "source": [
    "---\n",
    "<center><h1> *** Summary *** </h1></center>\n",
    "We will load the Abalone data set available at <a href=\"https://archive.ics.uci.edu/ml/index.php\">the UCI ML Repository</a> and use <code>sklearn</code>'s k-Nearest Neighbors Regressor in order to predict the number of rings in an Abalone shell given its measurable features as recorded in the dataset. We will train our machine learning model and grade our best fit hyperparameters by minimizing the residuals. Finally we will report our findings of the optimal values and report our model performance. <br>    \n",
    "\n",
    "---"
   ]
  },
  {
   "cell_type": "markdown",
   "id": "f3ea5c15-8641-4fcf-8e08-84c95ce9083c",
   "metadata": {},
   "source": [
    "> Import data"
   ]
  },
  {
   "cell_type": "code",
   "execution_count": 76,
   "id": "5dc40bea",
   "metadata": {
    "tags": []
   },
   "outputs": [
    {
     "data": {
      "text/html": [
       "<div>\n",
       "<style scoped>\n",
       "    .dataframe tbody tr th:only-of-type {\n",
       "        vertical-align: middle;\n",
       "    }\n",
       "\n",
       "    .dataframe tbody tr th {\n",
       "        vertical-align: top;\n",
       "    }\n",
       "\n",
       "    .dataframe thead th {\n",
       "        text-align: right;\n",
       "    }\n",
       "</style>\n",
       "<table border=\"1\" class=\"dataframe\">\n",
       "  <thead>\n",
       "    <tr style=\"text-align: right;\">\n",
       "      <th></th>\n",
       "      <th>Sex</th>\n",
       "      <th>Length</th>\n",
       "      <th>Diameter</th>\n",
       "      <th>Height</th>\n",
       "      <th>Whole weight</th>\n",
       "      <th>Shucked weight</th>\n",
       "      <th>Viscera weight</th>\n",
       "      <th>Shell weight</th>\n",
       "      <th>Rings</th>\n",
       "    </tr>\n",
       "  </thead>\n",
       "  <tbody>\n",
       "    <tr>\n",
       "      <th>0</th>\n",
       "      <td>M</td>\n",
       "      <td>0.350</td>\n",
       "      <td>0.265</td>\n",
       "      <td>0.090</td>\n",
       "      <td>0.2255</td>\n",
       "      <td>0.0995</td>\n",
       "      <td>0.0485</td>\n",
       "      <td>0.0700</td>\n",
       "      <td>7</td>\n",
       "    </tr>\n",
       "    <tr>\n",
       "      <th>1</th>\n",
       "      <td>F</td>\n",
       "      <td>0.530</td>\n",
       "      <td>0.420</td>\n",
       "      <td>0.135</td>\n",
       "      <td>0.6770</td>\n",
       "      <td>0.2565</td>\n",
       "      <td>0.1415</td>\n",
       "      <td>0.2100</td>\n",
       "      <td>9</td>\n",
       "    </tr>\n",
       "    <tr>\n",
       "      <th>2</th>\n",
       "      <td>M</td>\n",
       "      <td>0.440</td>\n",
       "      <td>0.365</td>\n",
       "      <td>0.125</td>\n",
       "      <td>0.5160</td>\n",
       "      <td>0.2155</td>\n",
       "      <td>0.1140</td>\n",
       "      <td>0.1550</td>\n",
       "      <td>10</td>\n",
       "    </tr>\n",
       "    <tr>\n",
       "      <th>3</th>\n",
       "      <td>I</td>\n",
       "      <td>0.330</td>\n",
       "      <td>0.255</td>\n",
       "      <td>0.080</td>\n",
       "      <td>0.2050</td>\n",
       "      <td>0.0895</td>\n",
       "      <td>0.0395</td>\n",
       "      <td>0.0550</td>\n",
       "      <td>7</td>\n",
       "    </tr>\n",
       "    <tr>\n",
       "      <th>4</th>\n",
       "      <td>I</td>\n",
       "      <td>0.425</td>\n",
       "      <td>0.300</td>\n",
       "      <td>0.095</td>\n",
       "      <td>0.3515</td>\n",
       "      <td>0.1410</td>\n",
       "      <td>0.0775</td>\n",
       "      <td>0.1200</td>\n",
       "      <td>8</td>\n",
       "    </tr>\n",
       "    <tr>\n",
       "      <th>...</th>\n",
       "      <td>...</td>\n",
       "      <td>...</td>\n",
       "      <td>...</td>\n",
       "      <td>...</td>\n",
       "      <td>...</td>\n",
       "      <td>...</td>\n",
       "      <td>...</td>\n",
       "      <td>...</td>\n",
       "      <td>...</td>\n",
       "    </tr>\n",
       "    <tr>\n",
       "      <th>4171</th>\n",
       "      <td>F</td>\n",
       "      <td>0.565</td>\n",
       "      <td>0.450</td>\n",
       "      <td>0.165</td>\n",
       "      <td>0.8870</td>\n",
       "      <td>0.3700</td>\n",
       "      <td>0.2390</td>\n",
       "      <td>0.2490</td>\n",
       "      <td>11</td>\n",
       "    </tr>\n",
       "    <tr>\n",
       "      <th>4172</th>\n",
       "      <td>M</td>\n",
       "      <td>0.590</td>\n",
       "      <td>0.440</td>\n",
       "      <td>0.135</td>\n",
       "      <td>0.9660</td>\n",
       "      <td>0.4390</td>\n",
       "      <td>0.2145</td>\n",
       "      <td>0.2605</td>\n",
       "      <td>10</td>\n",
       "    </tr>\n",
       "    <tr>\n",
       "      <th>4173</th>\n",
       "      <td>M</td>\n",
       "      <td>0.600</td>\n",
       "      <td>0.475</td>\n",
       "      <td>0.205</td>\n",
       "      <td>1.1760</td>\n",
       "      <td>0.5255</td>\n",
       "      <td>0.2875</td>\n",
       "      <td>0.3080</td>\n",
       "      <td>9</td>\n",
       "    </tr>\n",
       "    <tr>\n",
       "      <th>4174</th>\n",
       "      <td>F</td>\n",
       "      <td>0.625</td>\n",
       "      <td>0.485</td>\n",
       "      <td>0.150</td>\n",
       "      <td>1.0945</td>\n",
       "      <td>0.5310</td>\n",
       "      <td>0.2610</td>\n",
       "      <td>0.2960</td>\n",
       "      <td>10</td>\n",
       "    </tr>\n",
       "    <tr>\n",
       "      <th>4175</th>\n",
       "      <td>M</td>\n",
       "      <td>0.710</td>\n",
       "      <td>0.555</td>\n",
       "      <td>0.195</td>\n",
       "      <td>1.9485</td>\n",
       "      <td>0.9455</td>\n",
       "      <td>0.3765</td>\n",
       "      <td>0.4950</td>\n",
       "      <td>12</td>\n",
       "    </tr>\n",
       "  </tbody>\n",
       "</table>\n",
       "<p>4176 rows × 9 columns</p>\n",
       "</div>"
      ],
      "text/plain": [
       "     Sex  Length  Diameter  Height  Whole weight  Shucked weight  \\\n",
       "0      M   0.350     0.265   0.090        0.2255          0.0995   \n",
       "1      F   0.530     0.420   0.135        0.6770          0.2565   \n",
       "2      M   0.440     0.365   0.125        0.5160          0.2155   \n",
       "3      I   0.330     0.255   0.080        0.2050          0.0895   \n",
       "4      I   0.425     0.300   0.095        0.3515          0.1410   \n",
       "...   ..     ...       ...     ...           ...             ...   \n",
       "4171   F   0.565     0.450   0.165        0.8870          0.3700   \n",
       "4172   M   0.590     0.440   0.135        0.9660          0.4390   \n",
       "4173   M   0.600     0.475   0.205        1.1760          0.5255   \n",
       "4174   F   0.625     0.485   0.150        1.0945          0.5310   \n",
       "4175   M   0.710     0.555   0.195        1.9485          0.9455   \n",
       "\n",
       "      Viscera weight  Shell weight  Rings  \n",
       "0             0.0485        0.0700      7  \n",
       "1             0.1415        0.2100      9  \n",
       "2             0.1140        0.1550     10  \n",
       "3             0.0395        0.0550      7  \n",
       "4             0.0775        0.1200      8  \n",
       "...              ...           ...    ...  \n",
       "4171          0.2390        0.2490     11  \n",
       "4172          0.2145        0.2605     10  \n",
       "4173          0.2875        0.3080      9  \n",
       "4174          0.2610        0.2960     10  \n",
       "4175          0.3765        0.4950     12  \n",
       "\n",
       "[4176 rows x 9 columns]"
      ]
     },
     "metadata": {},
     "output_type": "display_data"
    }
   ],
   "source": [
    "# Import Dependencies\n",
    "import numpy as np\n",
    "import pandas as pd\n",
    "import matplotlib.pyplot as plt\n",
    "import matplotlib.gridspec as gridspec\n",
    "import seaborn as sns\n",
    "\n",
    "# Import ML Libraries\n",
    "from keras.utils import np_utils\n",
    "from sklearn.preprocessing import StandardScaler, OneHotEncoder, LabelBinarizer\n",
    "from sklearn.model_selection import train_test_split\n",
    "\n",
    "# Import Dataset\n",
    "url = \"https://archive.ics.uci.edu/ml/machine-learning-databases/abalone/abalone.data\"\n",
    "df = pd.read_csv(url)\n",
    "\n",
    "# Set Global Variables\n",
    "df.columns = [\"Sex\", \"Length\", \"Diameter\", \"Height\", \"Whole weight\", \"Shucked weight\", \n",
    "              \"Viscera weight\", \"Shell weight\", \"Rings\"]\n",
    "display(df)"
   ]
  },
  {
   "cell_type": "markdown",
   "id": "48c6e75b-8cd3-4860-b0c7-44eb81d5e175",
   "metadata": {},
   "source": [
    "---\n",
    "\n",
    "<center><h2> *** Exploratory Data Analysis *** </h2></center>\n",
    "\n",
    "---"
   ]
  },
  {
   "cell_type": "markdown",
   "id": "467656ad-8a48-4f56-997e-cfb287c2bcb0",
   "metadata": {},
   "source": [
    "> 2. Feature Analysis"
   ]
  },
  {
   "cell_type": "code",
   "execution_count": 2,
   "id": "9d7de7a6-d7f3-4b45-8c6c-61ff94b52377",
   "metadata": {
    "tags": []
   },
   "outputs": [
    {
     "name": "stdout",
     "output_type": "stream",
     "text": [
      "\n",
      "<<<----------------- REVIEWING DATABASE RECORDS ----------------->>>\n",
      "\n",
      "Database :: 4176 samples x 9 features\n",
      "\n",
      "The data types of each column are \n",
      "Sex                object\n",
      "Length            float64\n",
      "Diameter          float64\n",
      "Height            float64\n",
      "Whole weight      float64\n",
      "Shucked weight    float64\n",
      "Viscera weight    float64\n",
      "Shell weight      float64\n",
      "Rings               int64\n",
      "dtype: object\n",
      "\n",
      "The target variable `Rings` is numeric\n",
      "\n",
      "<< ---------- Detecting Null Values ---------- >> \n",
      "\n",
      "0 entries ==  0.0% of the data\n",
      "\n",
      "<< ---------- Detecting Zero Values ---------- >> \n",
      "\n",
      "2 entries ==  0.0053% of the data\n",
      "\n"
     ]
    }
   ],
   "source": [
    "# Evaluate the Features of the Dataset\n",
    "num_rows, num_cols = df.shape[0], df.shape[1]\n",
    "colnames, target_index = [x for x in df.columns], int(-1)\n",
    "print('\\n<<<----------------- REVIEWING DATABASE RECORDS ----------------->>>\\n')\n",
    "# Observe the structure of the data\n",
    "print(f'Database :: {num_rows} samples x {num_cols} features')\n",
    "print(f'\\nThe data types of each column are \\n{df.dtypes}\\n')\n",
    "class_type = 'string' if (df[colnames[target_index]].dtype == object) else 'numeric'\n",
    "print(f'The target variable `{colnames[target_index]}` is {class_type}\\n')\n",
    "\n",
    "# Check for empty values in the data\n",
    "vals = ['null','zero']\n",
    "for x in vals:\n",
    "    col_sum = df.isna().sum() if (x == 'null') else (df==0).sum()\n",
    "    print(f'<< ---------- Detecting {x.capitalize()} Values ---------- >> ')\n",
    "    print(f'\\n{col_sum.sum()} entries == ', \\\n",
    "          f'{round(col_sum.sum()/(num_rows*num_cols)*100,4)}% of the data\\n')"
   ]
  },
  {
   "cell_type": "markdown",
   "id": "9a93a7fa-585e-41b9-b2c5-713a1a195525",
   "metadata": {},
   "source": [
    "> 3. Class Analysis"
   ]
  },
  {
   "cell_type": "code",
   "execution_count": 3,
   "id": "43d53570-ccc5-49f4-bf83-af425acdf957",
   "metadata": {
    "tags": []
   },
   "outputs": [
    {
     "name": "stdout",
     "output_type": "stream",
     "text": [
      "\n",
      "<<<----------------- ANALYZING CLASS DISTRIBUTION ----------------->>>\n",
      "\n",
      "The number of records per class assignment is as follows:\n",
      "<Label>\t<Count>\t<Percent>\n",
      "    1\t    1\t  0.0%\n",
      "    2\t    1\t  0.0%\n",
      "    3\t   15\t  0.4%\n",
      "    4\t   57\t  1.4%\n",
      "    5\t  115\t  2.8%\n",
      "    6\t  259\t  6.2%\n",
      "    7\t  391\t  9.4%\n",
      "    8\t  568\t  13.6%\n",
      "    9\t  689\t  16.5%\n",
      "   10\t  634\t  15.2%\n",
      "   11\t  487\t  11.7%\n",
      "   12\t  267\t  6.4%\n",
      "   13\t  203\t  4.9%\n",
      "   14\t  126\t  3.0%\n",
      "   15\t  102\t  2.4%\n",
      "   16\t   67\t  1.6%\n",
      "   17\t   58\t  1.4%\n",
      "   18\t   42\t  1.0%\n",
      "   19\t   32\t  0.8%\n",
      "   20\t   26\t  0.6%\n",
      "   21\t   14\t  0.3%\n",
      "   22\t    6\t  0.1%\n",
      "   23\t    9\t  0.2%\n",
      "   24\t    2\t  0.0%\n",
      "   25\t    1\t  0.0%\n",
      "   26\t    1\t  0.0%\n",
      "   27\t    2\t  0.0%\n",
      "   29\t    1\t  0.0%\n",
      "\n",
      "\n"
     ]
    },
    {
     "data": {
      "image/png": "[encoded data removed]",
      "text/plain": [
       "<Figure size 1000x800 with 2 Axes>"
      ]
     },
     "metadata": {},
     "output_type": "display_data"
    },
    {
     "name": "stdout",
     "output_type": "stream",
     "text": [
      "\n"
     ]
    }
   ],
   "source": [
    "# Evaluate the Target Variable\n",
    "print('\\n<<<----------------- ANALYZING CLASS DISTRIBUTION ----------------->>>\\n')\n",
    "classes = df.groupby(colnames[target_index]).size()\n",
    "labels, sizes = classes.index.values, classes.values\n",
    "print('The number of records per class assignment is as follows:')\n",
    "print(f'<Label>\\t<Count>\\t<Percent>')\n",
    "for l,s in zip(labels, sizes):\n",
    "    print(f'{l:>5}\\t{s:>5}\\t  {s/sizes.sum():.1%}')\n",
    "print()\n",
    "\n",
    "# Display label distribution as proportions of the dataset\n",
    "fig = plt.figure(figsize=(10,8))  # graph window\n",
    "gs = gridspec.GridSpec(5, 1)  # 6 rows x 1 col\n",
    "label_list = []  # to store class distribution info in notation boxes\n",
    "for k in range(labels.size):\n",
    "  text = '`'+str(labels[k])+'`:: '+'{:,.0f}%'.format((100*sizes[k]/sum(sizes)))\n",
    "  label_list.append(text)\n",
    "colors = ['#7df51d','#f51de9']  # pie wedge colors\n",
    "bbox_props = dict(boxstyle='square,pad=0.3', fc='w', ec='k', lw=0.72)  # notation boxes layout\n",
    "kw = dict(arrowprops=dict(arrowstyle='-'), bbox=bbox_props, zorder=0, va='center')  # pointers\n",
    "ax1 = plt.subplot(gs[:3, 0])  # to spread pie plot across 2 rows\n",
    "ax1.set_ylabel('Proportion of Classes') # label to graph 'ax1'\n",
    "wedges, texts = ax1.pie(sizes, shadow=True, colors=colors, startangle=90)\n",
    "ax1.axis('equal')  # equal aspect ratio ensures that pi is drawn as a circle\n",
    "for i, p in enumerate(wedges):\n",
    "    ang = (p.theta2 - p.theta1)/2. + p.theta1\n",
    "    y = np.sin(np.deg2rad(ang))\n",
    "    x = np.cos(np.deg2rad(ang))\n",
    "    horizontalalignment = {-1:'right', 1:'left'}[int(np.sign(x))]\n",
    "    connectionstyle = 'angle, angleA=0, angleB={}'.format(ang)\n",
    "    kw['arrowprops'].update({'connectionstyle': connectionstyle})\n",
    "    ax1.annotate(label_list[i], xy=(x, y), xytext=(1.35*np.sign(x), 1.4*y),\n",
    "                 horizontalalignment=horizontalalignment, **kw)\n",
    "fig.add_subplot(ax1) # add 'ax1' to figure\n",
    "print()\n",
    "# Display label distribution as frequency bins of the dataset\n",
    "ax2 = plt.subplot(gs[3:, 0])\n",
    "df[colnames[target_index]].value_counts().plot(kind='bar', title='Frequency of Classes')\n",
    "fig.add_subplot(ax2) # add 'ax2' to figure\n",
    "plt.subplots_adjust(hspace=0.5)\n",
    "plt.show()\n",
    "print()"
   ]
  },
  {
   "cell_type": "markdown",
   "id": "c92b922b-6d93-4234-b4bb-626b497d0ad9",
   "metadata": {},
   "source": [
    "---\n",
    "\n",
    "<center><h2> *** Data Preparation *** </h2></center>\n",
    "\n",
    "---"
   ]
  },
  {
   "cell_type": "markdown",
   "id": "37078ecc-cfe3-42d3-b995-c4543870802a",
   "metadata": {},
   "source": [
    "> 1. Split the data between class labels and features"
   ]
  },
  {
   "cell_type": "code",
   "execution_count": 4,
   "id": "6833327d-eaf0-46e4-9f02-5fd61fe83b55",
   "metadata": {
    "tags": []
   },
   "outputs": [
    {
     "name": "stdout",
     "output_type": "stream",
     "text": [
      "\n",
      "Dataframe :: (4176, 9) →\n",
      "\tFeatures `X` :: (4176, 7) + (4176,)\n",
      "\tLabels  `y`  :: (4176,)\n",
      "\n",
      "Categorical feature `Sex`::\n",
      "3097    F\n",
      "3932    I\n",
      "242     I\n",
      "2273    M\n",
      "337     M\n",
      "Name: Sex, dtype: object\n"
     ]
    }
   ],
   "source": [
    "# Split the data into Feature/Target Variable Sets\n",
    "target_index = df.columns.get_loc('Rings')  # identify categorical class label\n",
    "cat_index = df.columns.get_loc('Sex')       # identify categorical feature\n",
    "y = df['Rings'].to_numpy()    # extract target variable → NumPy vector\n",
    "X_cat = df['Sex']             # extract categorical feature\n",
    "X = df.drop(['Sex','Rings'], axis=1).to_numpy()  # numeric features → NumPy array\n",
    "print(f'\\nDataframe :: {df.shape} →' \\\n",
    "      f'\\n\\tFeatures `X` :: {X.shape} + {X_cat.shape}\\n\\tLabels  `y`  :: {y.shape}')\n",
    "print(f'\\nCategorical feature `Sex`::\\n{X_cat.sample(5)}')"
   ]
  },
  {
   "cell_type": "markdown",
   "id": "432cc970-3178-4201-8737-17cc3281f7d3",
   "metadata": {
    "tags": []
   },
   "source": [
    "> 2. Factorize categorical inputs"
   ]
  },
  {
   "cell_type": "code",
   "execution_count": 5,
   "id": "ce7a03f2-683b-4c13-b0f6-ac7c7250fcd9",
   "metadata": {},
   "outputs": [
    {
     "name": "stdout",
     "output_type": "stream",
     "text": [
      "\n",
      "Before factorization::\n",
      " {'M', 'F', 'I'} \tShape:: (4176,)\n",
      "\n",
      "After factorization::\n",
      " {'Sex_I', 'Sex_F', 'Sex_M'} \tShape:: (4176, 3) \n",
      "\n",
      "Vectorized categorical feature `Sex`::\n",
      "[[1 0 0]\n",
      " [0 1 0]\n",
      " [0 1 0]\n",
      " [0 1 0]\n",
      " [1 0 0]]\n"
     ]
    }
   ],
   "source": [
    "# Factorize Nominal Categorical Features\n",
    "print('\\nBefore factorization::\\n', set(X_cat),'\\tShape::', X_cat.shape)\n",
    "X_cat = pd.get_dummies(X_cat, prefix='Sex')   # factorize into binary cols\n",
    "print('\\nAfter factorization::\\n', set(X_cat.columns), \\\n",
    "      '\\tShape::', X_cat.shape,'\\n')\n",
    "X_cat = X_cat.astype(int).to_numpy()       # convert bools → ints & pandas → NumPy\n",
    "print(f'Vectorized categorical feature `Sex`::\\n'\\\n",
    "      f'{X_cat[np.random.randint(X_cat.shape[0], size=5), :]}')"
   ]
  },
  {
   "cell_type": "markdown",
   "id": "0eaf5489-ef08-4a62-9a89-270f8a396465",
   "metadata": {
    "tags": []
   },
   "source": [
    "> 3. Normalize input variables"
   ]
  },
  {
   "cell_type": "code",
   "execution_count": 6,
   "id": "97d6a5e2-66ed-4729-bba1-642654a2f385",
   "metadata": {},
   "outputs": [
    {
     "name": "stdout",
     "output_type": "stream",
     "text": [
      "\n",
      "Evaluating scaling eligibility for regression features::\n",
      "\tMax value :: 2.8255\tMin value :: 0.0\n",
      "\tData types of regression features in `X` :: float64\n",
      "\t\t of categorical feature in `X` :: int32 :: will not be scaled\n",
      "\n",
      "Mean & standard deviation (scalar) per feature::\n",
      " [0.1201 0.0992 0.0418 0.4904 0.222  0.1096 0.1392]\n",
      "\n",
      "Sample of scaled numeric features::\n",
      "[[ 1.0492  0.777   0.0113  0.706   0.5208  0.5738 -0.1714]\n",
      " [ 0.6744  0.8274  0.6091  0.4939  0.5524  0.1176  0.8129]\n",
      " [-0.2416 -0.0795  0.37   -0.3759 -0.5289 -0.439  -0.2432]\n",
      " [ 2.0484  1.9358  1.8046  2.785   3.1182  2.7497  2.4796]\n",
      " [-0.6579 -0.6841 -0.4669 -0.7776 -0.7497 -0.7035 -0.782 ]]\n",
      "\n"
     ]
    }
   ],
   "source": [
    "# Check for need to scale regressor features\n",
    "print(f'\\nEvaluating scaling eligibility for regression features::')\n",
    "print(f'\\tMax value :: {X.max()}\\tMin value :: {X.min()}')  # confirm necessity\n",
    "print(f'\\tData types of regression features in `X` :: {X.dtype}')  # confirm eligibility\n",
    "print(f'\\t\\t of categorical feature in `X` :: {X_cat.dtype} ' \\\n",
    "      f':: will not be scaled\\n') # no scaling\n",
    "\n",
    "# Scale the numeric features\n",
    "scaler = StandardScaler().fit(X)  # save mean,std scalar vector for test data\n",
    "X = scaler.transform(X)\n",
    "print('Mean & standard deviation (scalar) per feature::\\n', np.round(scaler.scale_, 4))\n",
    "\n",
    "# Display scaled results\n",
    "print(f'\\nSample of scaled numeric features::\\n'\\\n",
    "      f'{np.round(X[np.random.randint(X.shape[0], size=5), :], 4)}\\n')"
   ]
  },
  {
   "cell_type": "markdown",
   "id": "56e3a57b-a1ee-465e-8956-5f1899137ac9",
   "metadata": {},
   "source": [
    "> 4. Factorize categorical outputs"
   ]
  },
  {
   "cell_type": "code",
   "execution_count": 7,
   "id": "6f3dc4d5-f461-425e-8c53-07df19c8c33d",
   "metadata": {},
   "outputs": [
    {
     "name": "stdout",
     "output_type": "stream",
     "text": [
      "\n",
      "Data types of regression features in `y` :: int64\n",
      "\n",
      "Before factorization::\n",
      " [ 1  2  3  4  5  6  7  8  9 10 11 12 13 14 15 16 17 18 19 20 21 22 23 24\n",
      " 25 26 27 29] \tType:: int64\n",
      "\n",
      "After factorization::\n",
      " [0. 1.] \tType:: float32\n",
      "\n",
      "Sample of scaled numeric features::\n",
      "[[0. 0. 0. 0. 0. 0. 0. 0. 0. 0. 0. 0. 0. 0. 0. 0. 1. 0. 0. 0. 0. 0. 0. 0.\n",
      "  0. 0. 0. 0. 0.]\n",
      " [0. 0. 0. 0. 0. 0. 0. 0. 0. 1. 0. 0. 0. 0. 0. 0. 0. 0. 0. 0. 0. 0. 0. 0.\n",
      "  0. 0. 0. 0. 0.]\n",
      " [0. 0. 0. 0. 0. 0. 0. 0. 1. 0. 0. 0. 0. 0. 0. 0. 0. 0. 0. 0. 0. 0. 0. 0.\n",
      "  0. 0. 0. 0. 0.]\n",
      " [0. 0. 0. 0. 0. 0. 1. 0. 0. 0. 0. 0. 0. 0. 0. 0. 0. 0. 0. 0. 0. 0. 0. 0.\n",
      "  0. 0. 0. 0. 0.]\n",
      " [0. 0. 0. 0. 0. 0. 0. 0. 0. 0. 1. 0. 0. 0. 0. 0. 0. 0. 0. 0. 0. 0. 0. 0.\n",
      "  0. 0. 0. 0. 0.]]\n",
      "\n"
     ]
    }
   ],
   "source": [
    "# Convert integer classifiers to NumPy categorical labels\n",
    "print(f'\\nData types of regression features in `y` :: {y.dtype}')  # confirm eligibility\n",
    "print('\\nBefore factorization::\\n', np.unique(y),'\\tType::', y.dtype)\n",
    "y -= np.min(y)\n",
    "y = np_utils.to_categorical(y, num_classes=int(np.max(y)+1))\n",
    "print('\\nAfter factorization::\\n', np.unique(y),'\\tType::', y.dtype)\n",
    "\n",
    "# Display scaled results\n",
    "print(f'\\nSample of scaled numeric features::\\n'\\\n",
    "      f'{np.round(y[np.random.randint(y.shape[0], size=5), :], 4)}\\n')"
   ]
  },
  {
   "cell_type": "markdown",
   "id": "c5ff716e-3303-4e08-a930-4d9b7c7877a5",
   "metadata": {},
   "source": [
    "> 5. Discretize the data & store"
   ]
  },
  {
   "cell_type": "code",
   "execution_count": 26,
   "id": "7763ba03-0f67-4b52-a947-010f65fd704f",
   "metadata": {},
   "outputs": [
    {
     "name": "stdout",
     "output_type": "stream",
     "text": [
      "\n",
      "Sample of all features of one data observation::\n",
      "[[-3.24 -2.8  -2.38 -1.63 -1.56 -1.59 -1.66  0.    1.    0.  ]]\n",
      "\n",
      "<<<------------- PRESENTING SUBSET DATA ------------->>>\n",
      "\n",
      "\t`X_train` :: (2505, 10) & labels   `y_train` :: (2505, 29)\n",
      "\t`X_valid` ::  (835, 10) & labels   `y_valid` ::  (835, 29)\n",
      "\t `X_test` ::  (836, 10) & labels   `y_test`  ::  (836, 29)\n",
      "  All `X` subsets :: (4176, 10) & labels  `y` subsets :: (4176, 29)\n",
      "\t == dataframe :: (4176, 39) including 30 added binary columns\n",
      "\n",
      "<<<============ DATA PRE-PROCESSING IS COMPLETE! ============>>>\n",
      "\n"
     ]
    }
   ],
   "source": [
    "# Concatenate the regressors and categorical inputs\n",
    "X = np.concatenate((X, X_cat), axis=1)\n",
    "print(f'\\nSample of all features of one data observation::\\n'\\\n",
    "      f'{np.round(X[np.random.randint(X.shape[0], size=1), :], 2)}')\n",
    "\n",
    "# Split the data into Training/Testing Sets\n",
    "X_train_full, X_test, y_train_full, y_test = train_test_split(X, y, \n",
    "                                                              test_size=0.2,\n",
    "                                                              random_state=42)\n",
    "\n",
    "# Split the Training Data into Modeling/Cross-Validation Sets\n",
    "X_train, X_valid, y_train, y_valid = train_test_split(X_train_full, y_train_full, \n",
    "                                                      test_size=0.25, # 25% validation\n",
    "                                                      random_state=42)\n",
    "\n",
    "# Describe the discretized data\n",
    "print('\\n<<<------------- PRESENTING SUBSET DATA ------------->>>\\n')\n",
    "print(f'\\t`X_train` :: {X_train.shape} & labels   `y_train` :: {y_train.shape}')\n",
    "print(f'\\t`X_valid` ::  {X_valid.shape} & labels   `y_valid` ::  {y_valid.shape}')\n",
    "print(f'\\t `X_test` ::  {X_test.shape} & labels   `y_test`  ::  {y_test.shape}')\n",
    "print(f'  All `X` subsets :: ({X_train.shape[0]+X_valid.shape[0]+X_test.shape[0]}, ' \\\n",
    "      f'{int((X_train.shape[1]+X_valid.shape[1]+X_test.shape[1])/3)}) & labels  ' \\\n",
    "      f'`y` subsets :: ({y_train.shape[0]+y_valid.shape[0]+y_test.shape[0]}, ' \\\n",
    "      f'{int((y_train.shape[1]+y_valid.shape[1]+y_test.shape[1])/3)})' \\\n",
    "      f'\\n\\t == dataframe :: ({df.shape[0]}, {int(df.shape[1])+2+28}) ' \\\n",
    "      f'including 30 added binary columns')\n",
    "print('\\n<<<============ DATA PRE-PROCESSING IS COMPLETE! ============>>>\\n')\n",
    "\n",
    "# Save the tensor data to h5 files for later use\n",
    "import h5py\n",
    "hf = h5py.File('generated_files/HW5_Hinrichs_data.h5', 'w')\n",
    "hf.create_dataset('X_train', data=X_train)\n",
    "hf.create_dataset('X_valid', data=X_valid)\n",
    "hf.create_dataset('X_test', data=X_test)\n",
    "hf.create_dataset('y_train', data=y_train)\n",
    "hf.create_dataset('y_valid', data=y_valid)\n",
    "hf.create_dataset('y_test', data=y_test)\n",
    "hf.close()"
   ]
  },
  {
   "cell_type": "markdown",
   "id": "3f2425e4-e142-447d-8312-79d028fcf109",
   "metadata": {},
   "source": [
    "---\n",
    "\n",
    "<center><h2> *** kNN Prediction Modeling *** </h2></center>\n",
    "\n",
    "---"
   ]
  },
  {
   "cell_type": "code",
   "execution_count": 1,
   "id": "be7683db-4237-40e0-a682-315b5415d4cd",
   "metadata": {},
   "outputs": [
    {
     "name": "stdout",
     "output_type": "stream",
     "text": [
      "\n",
      "Training Shape :: (2505, 10)\n",
      "Training Labels :: (2505, 29)\n",
      "\n",
      "Validation Shape :: (835, 10)\n",
      "Validation Labels :: (835, 29)\n",
      "\n",
      "Testing Shape :: (836, 10)\n",
      "Testing Labels :: (836, 29) \n",
      "\n"
     ]
    }
   ],
   "source": [
    " # Import pre-processed tensor data from 'h5' file\n",
    "import h5py\n",
    "import numpy as np\n",
    "hf = h5py.File('generated_files/HW5_Hinrichs_data.h5', 'r')\n",
    "x_train = np.array(hf['X_train'])\n",
    "x_valid = np.array(hf['X_valid'])\n",
    "x_test = np.array(hf['X_test'])\n",
    "y_train = np.array(hf['y_train'])\n",
    "y_valid = np.array(hf['y_valid'])\n",
    "y_test = np.array(hf['y_test'])\n",
    "hf.close()\n",
    "\n",
    "# Import Dependencies\n",
    "import matplotlib.pyplot as plt\n",
    "import seaborn as sns\n",
    "\n",
    "# Import ML Libraries\n",
    "from sklearn.neighbors import KNeighborsRegressor\n",
    "from sklearn.metrics import confusion_matrix, accuracy_score, classification_report\n",
    "from sklearn.model_selection import cross_val_score, GridSearchCV, RandomizedSearchCV\n",
    "\n",
    "# Describe the data shapes (2D Tensors)\n",
    "print('\\nTraining Shape ::', x_train.shape)\n",
    "print('Training Labels ::', y_train.shape)\n",
    "print('\\nValidation Shape ::', x_valid.shape)\n",
    "print('Validation Labels ::', y_valid.shape)\n",
    "print('\\nTesting Shape ::', x_test.shape)\n",
    "print('Testing Labels ::', y_test.shape, '\\n')"
   ]
  },
  {
   "cell_type": "markdown",
   "id": "8d3348b9-6a28-4f23-a136-24fe3a435f24",
   "metadata": {},
   "source": [
    "> From scratch"
   ]
  },
  {
   "cell_type": "code",
   "execution_count": 2,
   "id": "82a54e52",
   "metadata": {
    "tags": []
   },
   "outputs": [],
   "source": [
    "## Collection of <modified> Functions to perform kNN modelling (by Dr.Jegdic)\n",
    "\n",
    "# Function to calculate the Euclidean distance (L2) between two data points\n",
    "def distance(p, q):\n",
    "    return np.sqrt((p - q) @ (p - q))  # square root of the dot product\n",
    "\n",
    "# Function to create a list of 'k' nearest neighbors between training data & a SINGLE TEST POINT\n",
    "# For each such neighbor, this list will store: features of that neighbor, its label, its distance to the test point\n",
    "def k_nearest_neighbors(point, training_features, training_labels, k):\n",
    "    neighbors, weights = [], []\n",
    "    for p, l in zip(training_features, training_labels):\n",
    "        d = distance(point, p)\n",
    "        l = np.argmax(l)\n",
    "        info = [p, l, d]\n",
    "        neighbors.append(info)\n",
    "    neighbors.sort(key = lambda x : x[-1])\n",
    "    distances = sum(x[-1] for x in neighbors)\n",
    "    for w in range(k):\n",
    "        weights.append(x[-1] for x in neighbors)\n",
    "    return neighbors[:k]  # nearest neighbors to the test point\n",
    "\n",
    "# Function to make either classification or regression prediction of a SINGLE TEST POINT\n",
    "# Because no training is involved in kNN, this is the only step required to decide a target value\n",
    "def knn_predict(point, training_features, training_labels, k, regression = False):\n",
    "    neighbors = k_nearest_neighbors(point, training_features, training_labels, k)\n",
    "    labels = [y[1] for y in neighbors]\n",
    "    if regression == False:\n",
    "        return max(labels, key = labels.count)  # majority representative of neighbors\n",
    "    else:\n",
    "        return int(np.round(sum(y for y in labels)/k,0))  # average value of neighbors\n",
    "\n",
    "# Function to describe the accuracy score of the predicted target values of ALL TEST POINTS\n",
    "def accuracy(test_features, test_labels, training_features, training_labels, k, regression = False):\n",
    "    correct = 0\n",
    "    for point, label in zip(test_features, test_labels):\n",
    "        label_value = int(np.argmax(label))\n",
    "        correct += label_value == knn_predict(point, training_features, training_labels, k, regression=regression)\n",
    "    return correct/len(test_features)"
   ]
  },
  {
   "cell_type": "code",
   "execution_count": 45,
   "id": "961a69d9-2c93-4b2b-9431-14d2d2136c37",
   "metadata": {},
   "outputs": [],
   "source": [
    "## Functions to Calculate Error from model predictions\n",
    "def report_error(true_label, pred_label, weights = None):\n",
    "    print(f'\\nThe Mean Absolute Error (MAE) is {mae(true_label, pred_label, weights=weights)}\\n' \\\n",
    "          f'The Mean Squared Error (MSE) is {mse(true_label, pred_label, weights=weights)}\\n' \\\n",
    "          f'The Root Mean Squared Error (RMSE) is {rmse(true_label, pred_label, weights=weights)}\\n')\n",
    "\n",
    "# Mean Absolute Error (regression loss)\n",
    "def mae(true_label, pred_label, weights = None):\n",
    "    errors = np.average(np.abs(true_label - pred_label), \n",
    "                        weights=weights)  # if 'none' == uniform average\n",
    "    return np.average(errors, weights)\n",
    "    \n",
    "# Mean Squared Error (regression loss)\n",
    "def mse(true_label, pred_label, weights = None):\n",
    "    errors = np.average((true_label - pred_label)**2, \n",
    "                        weights=weights)  # if 'none' == uniform average\n",
    "    return np.average(errors, weights)\n",
    "    \n",
    "# Root Mean Squared Error (regression loss)\n",
    "def rmse(true_label, pred_label, weights = None):\n",
    "    errors = np.average((true_label - pred_label)**2, \n",
    "                        weights=weights)  # if 'none' == uniform average\n",
    "    return np.sqrt(np.average(errors, weights))\n",
    "    \n",
    "# Scikit-Learn's Benchmark Function for comparison\n",
    "from sklearn.metrics import mean_squared_error"
   ]
  },
  {
   "cell_type": "markdown",
   "id": "8eaaacf2-07d3-4430-a8bf-a0c11ce29707",
   "metadata": {},
   "source": [
    "> Test the functions"
   ]
  },
  {
   "cell_type": "code",
   "execution_count": 4,
   "id": "e2d8e569-4d19-4abf-ae45-ca027f366935",
   "metadata": {},
   "outputs": [
    {
     "data": {
      "text/plain": [
       "[[array([-1.11591862, -1.08720356, -0.94513996, -1.146733  , -1.12140693,\n",
       "         -1.10953044, -1.11247639,  0.        ,  1.        ,  0.        ]),\n",
       "  6,\n",
       "  0.12248277161973146],\n",
       " [array([-1.03264647, -1.18797177, -0.94513996, -1.16406704, -1.1506924 ,\n",
       "         -1.10953044, -1.1304367 ,  0.        ,  1.        ,  0.        ]),\n",
       "  6,\n",
       "  0.13155218462469934],\n",
       " [array([-1.11591862, -1.18797177, -0.94513996, -1.11002564, -1.0538251 ,\n",
       "         -1.06847479, -1.13402876,  0.        ,  1.        ,  0.        ]),\n",
       "  6,\n",
       "  0.14062473954509228],\n",
       " [array([-1.1575547 , -1.08720356, -0.94513996, -1.09982915, -1.07184692,\n",
       "         -1.07303653, -1.06937167,  0.        ,  1.        ,  0.        ]),\n",
       "  6,\n",
       "  0.15797084477874745],\n",
       " [array([-1.28246293, -1.18797177, -0.94513996, -1.18038142, -1.15745058,\n",
       "         -1.18708   , -1.10529227,  0.        ,  1.        ,  0.        ]),\n",
       "  9,\n",
       "  0.1587181390147692],\n",
       " [array([-1.11591862, -1.23835587, -0.94513996, -1.11716318, -1.04481419,\n",
       "         -1.08216001, -1.16276524,  0.        ,  1.        ,  0.        ]),\n",
       "  6,\n",
       "  0.16181401949436125],\n",
       " [array([-1.24082685, -1.23835587, -0.94513996, -1.2028137 , -1.14618694,\n",
       "         -1.14146261, -1.21305408,  0.        ,  1.        ,  0.        ]),\n",
       "  7,\n",
       "  0.1647243962557782]]"
      ]
     },
     "execution_count": 4,
     "metadata": {},
     "output_type": "execute_result"
    }
   ],
   "source": [
    "# Print a random sample of 7 nearest neighbors to 1 test data point\n",
    "pick_me = np.random.randint(x_test.shape[0], size=1)[0]  # generates a random index\n",
    "k_nearest_neighbors(x_test[pick_me], x_train, y_train, 7)"
   ]
  },
  {
   "cell_type": "code",
   "execution_count": 5,
   "id": "e85b9aac-e7bd-40f1-b262-2f6281d2d669",
   "metadata": {
    "tags": []
   },
   "outputs": [
    {
     "data": {
      "text/plain": [
       "7"
      ]
     },
     "execution_count": 5,
     "metadata": {},
     "output_type": "execute_result"
    }
   ],
   "source": [
    "# Predict the class label for that test point\n",
    "knn_predict(x_test[pick_me], x_train, y_train, 7, regression = True)"
   ]
  },
  {
   "cell_type": "code",
   "execution_count": 6,
   "id": "9cae35ef-5506-4c4b-9b52-5055633c9d3b",
   "metadata": {
    "tags": []
   },
   "outputs": [
    {
     "data": {
      "text/plain": [
       "5"
      ]
     },
     "execution_count": 6,
     "metadata": {},
     "output_type": "execute_result"
    }
   ],
   "source": [
    "# Print the actual class label for that test point\n",
    "np.argmax(y_test[pick_me])"
   ]
  },
  {
   "cell_type": "code",
   "execution_count": 7,
   "id": "0254633d-3bda-4afb-bb7d-84e0c2f8b0b1",
   "metadata": {
    "tags": []
   },
   "outputs": [
    {
     "data": {
      "text/plain": [
       "0.26107784431137726"
      ]
     },
     "execution_count": 7,
     "metadata": {},
     "output_type": "execute_result"
    }
   ],
   "source": [
    "# Describe the accuracy of our prediction\n",
    "accuracy(x_valid, y_valid, x_train, y_train, 7, regression = True)"
   ]
  },
  {
   "cell_type": "code",
   "execution_count": 8,
   "id": "5795520b-a7c4-4ce5-b6a6-57b326df48b9",
   "metadata": {
    "tags": []
   },
   "outputs": [
    {
     "name": "stdout",
     "output_type": "stream",
     "text": [
      "\n",
      "Optimal `k` value(s) :: 19 neighbor(s) with 27.90% accuracy\n",
      "\n"
     ]
    },
    {
     "data": {
      "image/png": "[encoded data removed]",
      "text/plain": [
       "<Figure size 1200x600 with 1 Axes>"
      ]
     },
     "metadata": {},
     "output_type": "display_data"
    }
   ],
   "source": [
    "# Function to search optimal 'k' value by finding the best accuracy score\n",
    "# k_range is a 3-valued tuple configured as range(start, stop, step)\n",
    "def optimal_k(test_features, test_labels, training_features, training_labels, k_range, regression = False):\n",
    "    k_values = [k for k in range(k_range[0], k_range[1], k_range[2])]\n",
    "    accuracy_values = [accuracy(test_features, test_labels, training_features, training_labels, k, regression=regression) for k in k_values]\n",
    "    max_accuracy_index = np.argmax(accuracy_values)\n",
    "    best_k, best_acc = k_values[max_accuracy_index], accuracy_values[max_accuracy_index]\n",
    "    print(f'\\nOptimal `k` value(s) :: {best_k} neighbor(s) with {best_acc*100:.2f}% accuracy\\n')\n",
    "    return k_values, accuracy_values, best_k, best_acc\n",
    "\n",
    "# Run the modeling training & cross-validation functions to find the optimal `k` value\n",
    "k_values, accuracy_values, best_k, accuracy_score = optimal_k(test_features = x_valid, \n",
    "                                                              test_labels = y_valid, \n",
    "                                                              training_features = x_train, \n",
    "                                                              training_labels = y_train, \n",
    "                                                              k_range = (3, y_train.shape[1]*3, 2), # keep k odd\n",
    "                                                              regression = True)\n",
    "\n",
    "# Demonstrate the accuracy scores given by the Cross-Validation Testing\n",
    "plt.figure(figsize = (12, 6))\n",
    "plt.plot(k_values, accuracy_values, marker = \"o\")\n",
    "plt.title('Accuracy Scores on the Validation Data')\n",
    "plt.xlabel('k')\n",
    "plt.ylabel('Accuracy')\n",
    "plt.xticks(k_values)\n",
    "plt.grid();"
   ]
  },
  {
   "cell_type": "code",
   "execution_count": 9,
   "id": "0f6f9ae4",
   "metadata": {
    "tags": []
   },
   "outputs": [
    {
     "data": {
      "text/plain": [
       "0.23923444976076555"
      ]
     },
     "execution_count": 9,
     "metadata": {},
     "output_type": "execute_result"
    }
   ],
   "source": [
    "# Observe the True Accuracy by predicting against the Test Data\n",
    "accuracy(x_test, y_test, x_train, y_train, best_k)"
   ]
  },
  {
   "cell_type": "markdown",
   "id": "dd58b7de-dd46-4306-a37e-fb4512956228",
   "metadata": {},
   "source": [
    "> Using `sklearn`"
   ]
  },
  {
   "cell_type": "code",
   "execution_count": 4,
   "id": "beb0158e-a919-41a8-853a-6eac2cd9b8ea",
   "metadata": {
    "scrolled": true,
    "tags": []
   },
   "outputs": [
    {
     "name": "stdout",
     "output_type": "stream",
     "text": [
      "\n",
      "Optimal `k` is 17 with the lowest MSE of 6.280239520958084\n",
      "\n"
     ]
    }
   ],
   "source": [
    "# Fit the kNN Model using a varying selection of 'k' neighbors to find best\n",
    "k_values, y_preds, y_trues, errors = [], [], [], []\n",
    "for k in range(1, int(y_train.shape[1])*3, 2):  # k must be odd\n",
    "    model = KNeighborsRegressor(n_neighbors = k)\n",
    "    model.fit(x_train, y_train)\n",
    "    y_pred = [np.argmax(p) for p in model.predict(x_valid)]\n",
    "    y_true = [np.argmax(t) for t in y_valid]\n",
    "    error = mean_squared_error(y_true, y_pred)\n",
    "    y_trues.append(y_true)\n",
    "    y_preds.append(y_pred)\n",
    "    errors.append(error)\n",
    "    k_values.append(k)\n",
    "min_error_index = errors.index(min(errors))\n",
    "best_k2 = k_values[min_error_index]\n",
    "print(f'\\nOptimal `k` is {best_k2} with the lowest MSE of {errors[min_error_index]}\\n')"
   ]
  },
  {
   "cell_type": "code",
   "execution_count": 12,
   "id": "d43136bf-613d-4439-818b-a59056d2b188",
   "metadata": {},
   "outputs": [
    {
     "data": {
      "image/png": "[encoded data removed]",
      "text/plain": [
       "<Figure size 1200x600 with 1 Axes>"
      ]
     },
     "metadata": {},
     "output_type": "display_data"
    }
   ],
   "source": [
    "# Demonstrate the regression errors given by the Cross-Validation Testing\n",
    "plt.figure(figsize = (12, 6))\n",
    "plt.plot(k_values, errors, color = \"navy\", label = \"prediction\")\n",
    "plt.title(\"Error from Predicting on the Validation Data\")\n",
    "plt.xlabel(\"k\")\n",
    "plt.ylabel(\"error\")\n",
    "plt.xticks(k_values)\n",
    "plt.grid()"
   ]
  },
  {
   "cell_type": "code",
   "execution_count": 13,
   "id": "2165215b-5502-4709-b825-f87997155f1d",
   "metadata": {},
   "outputs": [
    {
     "data": {
      "text/plain": [
       "0.2631578947368421"
      ]
     },
     "execution_count": 13,
     "metadata": {},
     "output_type": "execute_result"
    }
   ],
   "source": [
    "# Observe the True Accuracy by predicting against the Test Data\n",
    "accuracy(x_test, y_test, x_train, y_train, best_k2)"
   ]
  },
  {
   "cell_type": "markdown",
   "id": "25ce4b45-34fb-4040-bbfc-5ea984e28c39",
   "metadata": {},
   "source": [
    "Since this gives us a better accuracy score on the test data than our 'from scratch' model, we'll stick with k=17 for our optimal `k`.<br>\n",
    "From here, we can try to optimize our hyperparameters further using GridSearchCV."
   ]
  },
  {
   "cell_type": "markdown",
   "id": "ab0ab05b-262d-42db-b256-93a63e306670",
   "metadata": {},
   "source": [
    "--- \n",
    "<center>\n",
    "<h2>*** Hyperparameter Optimization using GridSearchCV ***</h2>\n",
    "</center> \n",
    "\n",
    "--- "
   ]
  },
  {
   "cell_type": "code",
   "execution_count": 7,
   "id": "afdcf28d-7131-4df8-bd30-c2b8e96d5f1d",
   "metadata": {},
   "outputs": [],
   "source": [
    "# Fit a new instantiation with the optimal 'k'\n",
    "model = KNeighborsRegressor(n_neighbors = best_k2)\n",
    "model.fit(x_train, y_train)\n",
    "y_pred = [np.argmax(p) for p in model.predict(x_valid)]\n",
    "y_true = [np.argmax(t) for t in y_valid]\n",
    "# for i in range(len(y_pred)):\n",
    "#     report_error(y_true[i], y_pred[i])"
   ]
  },
  {
   "cell_type": "code",
   "execution_count": 53,
   "id": "7f817931",
   "metadata": {},
   "outputs": [
    {
     "name": "stdout",
     "output_type": "stream",
     "text": [
      "[-0.03 -0.03 -0.03 -0.03 -0.03]\n",
      "Average loss: -0.029458131268620492\n",
      "Loss standard deviation: 0.00037470512391739986\n"
     ]
    },
    {
     "data": {
      "image/png": "[encoded data removed]",
      "text/plain": [
       "<Figure size 640x480 with 1 Axes>"
      ]
     },
     "metadata": {},
     "output_type": "display_data"
    }
   ],
   "source": [
    "# ---> ValueError: Classification metrics can't handle a mix of multiclass and continuous targets\n",
    "from sklearn.model_selection import KFold\n",
    "from sklearn.metrics import make_scorer\n",
    "cv_scores = cross_val_score(KNeighborsRegressor(n_neighbors=best_k2), \n",
    "                            x_train, \n",
    "                            y_train, \n",
    "                            cv=KFold(n_splits=5, shuffle=True), \n",
    "                            scoring=make_scorer(mean_squared_error, \n",
    "                                                greater_is_better=False))\n",
    "# Demonstrate cross-validation accuracy scores\n",
    "plt.plot(range(0, 5), cv_scores, marker='o')\n",
    "plt.ylim(-1, 1)\n",
    "plt.ylabel('Mean Squared Error', fontsize=15)\n",
    "plt.xlabel('Fold', fontsize=15)\n",
    "plt.xticks(range(0, 5))\n",
    "print(np.round(cv_scores,2))\n",
    "print('Average loss:', cv_scores.mean())\n",
    "print('Loss standard deviation:', cv_scores.std());  "
   ]
  },
  {
   "cell_type": "code",
   "execution_count": 73,
   "id": "8d88cacd",
   "metadata": {
    "scrolled": true
   },
   "outputs": [
    {
     "name": "stdout",
     "output_type": "stream",
     "text": [
      "\n",
      "Best Scorer: {'AUC': make_scorer(roc_auc_score, multi_class=ovr, average=micro), 'R2': make_scorer(r2_score, greater_is_better=False), 'MSE': make_scorer(mean_squared_error, greater_is_better=False)}\n",
      "Number of Folds: 5\n",
      "Multimetric?: True\n",
      "- - - - - - - - - - - - - - - - - - \n",
      "Best Estimator: KNeighborsRegressor(metric='cosine', n_neighbors=85, p=1, weights='distance')\n",
      "Best Index: 341\n",
      "Best Score: 0.9077636856313036\n",
      "Best Parameters: {'metric': 'cosine', 'n_neighbors': 85, 'p': 1, 'weights': 'distance'}\n",
      "\n"
     ]
    }
   ],
   "source": [
    "# Search for best parameters by tuning scoring metric via GridSearchCV\n",
    "from sklearn.metrics import confusion_matrix, r2_score, roc_auc_score\n",
    "scoring = {\"AUC\": make_scorer(roc_auc_score, multi_class='ovr', average='micro'),\n",
    "           # \"Accuracy\": make_scorer(accuracy_score), # accuracy preferred\n",
    "           # \"Conf_Matrix\": make_scorer(confusion_matrix, greater_is_better=False),\n",
    "           \"R2\": make_scorer(r2_score, greater_is_better=False),\n",
    "           \"MSE\": make_scorer(mean_squared_error, greater_is_better=False)\n",
    "          }\n",
    "# Model the Grid with the tuning metrics\n",
    "gs = GridSearchCV(estimator = KNeighborsRegressor(),\n",
    "                  param_grid = {\"n_neighbors\": range(1, int(y_train.shape[1])*3, 2),\n",
    "                                \"weights\": ['uniform', 'distance'],\n",
    "                                \"p\": [1,2],\n",
    "                                \"metric\": ['cityblock','cosine','euclidean','l1',\n",
    "                                           'l2','manhattan']},\n",
    "                  refit = \"AUC\",\n",
    "                  scoring = scoring,\n",
    "                  cv=KFold(n_splits=5, shuffle=True))\n",
    "gs.fit(x_train, y_train)\n",
    "results = gs.cv_results_ # dict containing scores of all scores available\n",
    "print(f'\\nBest Scorer: {gs.scorer_}' \\\n",
    "      f'\\nNumber of Folds: {gs.n_splits_}' \\\n",
    "      f'\\nMultimetric?: {gs.multimetric_}' \\\n",
    "      f'\\n- - - - - - - - - - - - - - - - - - ' \\\n",
    "      f'\\nBest Estimator: {gs.best_estimator_}' \\\n",
    "      f'\\nBest Index: {gs.best_index_}' \\\n",
    "      f'\\nBest Score: {gs.best_score_}' \\\n",
    "      f'\\nBest Parameters: {gs.best_params_}\\n')"
   ]
  },
  {
   "cell_type": "code",
   "execution_count": 75,
   "id": "c7f5d2fa-ab17-45c1-89c5-849280bffece",
   "metadata": {},
   "outputs": [
    {
     "data": {
      "text/plain": [
       "0.06750994615745327"
      ]
     },
     "execution_count": 75,
     "metadata": {},
     "output_type": "execute_result"
    }
   ],
   "source": [
    "# Baseline regression model to compare against our tuned model\n",
    "from sklearn.dummy import DummyRegressor\n",
    "dummy = DummyRegressor(strategy='mean')\n",
    "dummy.fit(x_train, y_train).predict(x_valid) # input is ignored\n",
    "dummy.score(x_valid, y_valid)"
   ]
  },
  {
   "cell_type": "markdown",
   "id": "520ebd11-20b7-4905-a096-6b2f8cebf193",
   "metadata": {},
   "source": [
    "Given that we can estimate our error to give an <i>approximate</i> accuracy score of $1-0.9 = 0.10$ and our baseline zero-prediction-data model gives us $0.06$ <<not far!>>, we want to try another approach to hope for better output...."
   ]
  },
  {
   "cell_type": "markdown",
   "id": "e65d0440-7944-4a7c-895a-bdcfcef9f84b",
   "metadata": {},
   "source": [
    "--- \n",
    "<center>\n",
    "<h2>*** Hyperparameter Optimization using RandomizedSearchCV ***</h2>\n",
    "</center> \n",
    "\n",
    "--- "
   ]
  },
  {
   "cell_type": "code",
   "execution_count": 1,
   "id": "519ca7fc-470f-47db-b143-ed55d151cbf5",
   "metadata": {},
   "outputs": [],
   "source": [
    "## Import all the Goods in the Fresh\n",
    "import numpy as np\n",
    "import pandas as pd\n",
    "url = \"https://archive.ics.uci.edu/ml/machine-learning-databases/abalone/abalone.data\"\n",
    "df = pd.read_csv(url)\n",
    "df.columns = [\"Sex\", \"Length\", \"Diameter\", \"Height\", \"Whole weight\", \"Shucked weight\", \n",
    "              \"Viscera weight\", \"Shell weight\", \"Rings\"]"
   ]
  },
  {
   "cell_type": "code",
   "execution_count": 2,
   "id": "e675d5ce-1e08-45d8-97f1-83d4b94b2a46",
   "metadata": {},
   "outputs": [
    {
     "name": "stdout",
     "output_type": "stream",
     "text": [
      "\n",
      "Pre-Optimized Model Accuracy on the Cross-Validation Data:: \n",
      "\t0.472 \n",
      " - - - - - - - - - - - - - - - - - - - - - - - - - \n",
      "\n",
      "\n",
      "Optimized Model Accuracy on the Cross-Validation Data:: \n",
      "Internal CV Score\t0.524 \n",
      " - - - - - - - - - - - - - - - - - - - - - - - - - \n",
      " \n",
      "Best parameters found::\n",
      " {'preprocessor__nums__imputer__strategy': 'median', 'preprocessor__cats__selector__percentile': 50, 'classifier__weights': 'uniform', 'classifier__p': 2, 'classifier__n_neighbors': 19, 'classifier__metric': 'cosine'} \n",
      " \n",
      "Top five according to mean average on the test data::\n",
      "\n"
     ]
    },
    {
     "data": {
      "text/html": [
       "<div>\n",
       "<style scoped>\n",
       "    .dataframe tbody tr th:only-of-type {\n",
       "        vertical-align: middle;\n",
       "    }\n",
       "\n",
       "    .dataframe tbody tr th {\n",
       "        vertical-align: top;\n",
       "    }\n",
       "\n",
       "    .dataframe thead th {\n",
       "        text-align: right;\n",
       "    }\n",
       "</style>\n",
       "<table border=\"1\" class=\"dataframe\">\n",
       "  <thead>\n",
       "    <tr style=\"text-align: right;\">\n",
       "      <th></th>\n",
       "      <th>mean_test_score</th>\n",
       "      <th>std_test_score</th>\n",
       "      <th>param_preprocessor__nums__imputer__strategy</th>\n",
       "      <th>param_preprocessor__cats__selector__percentile</th>\n",
       "      <th>param_classifier__n_neighbors</th>\n",
       "      <th>param_classifier__weights</th>\n",
       "      <th>param_classifier__p</th>\n",
       "      <th>param_classifier__metric</th>\n",
       "    </tr>\n",
       "  </thead>\n",
       "  <tbody>\n",
       "    <tr>\n",
       "      <th>9</th>\n",
       "      <td>0.523898</td>\n",
       "      <td>0.015183</td>\n",
       "      <td>median</td>\n",
       "      <td>50</td>\n",
       "      <td>19</td>\n",
       "      <td>uniform</td>\n",
       "      <td>2</td>\n",
       "      <td>cosine</td>\n",
       "    </tr>\n",
       "    <tr>\n",
       "      <th>7</th>\n",
       "      <td>0.515958</td>\n",
       "      <td>0.024204</td>\n",
       "      <td>mean</td>\n",
       "      <td>30</td>\n",
       "      <td>19</td>\n",
       "      <td>distance</td>\n",
       "      <td>1</td>\n",
       "      <td>l1</td>\n",
       "    </tr>\n",
       "    <tr>\n",
       "      <th>6</th>\n",
       "      <td>0.515198</td>\n",
       "      <td>0.021559</td>\n",
       "      <td>mean</td>\n",
       "      <td>30</td>\n",
       "      <td>29</td>\n",
       "      <td>uniform</td>\n",
       "      <td>2</td>\n",
       "      <td>cityblock</td>\n",
       "    </tr>\n",
       "    <tr>\n",
       "      <th>5</th>\n",
       "      <td>0.512662</td>\n",
       "      <td>0.014963</td>\n",
       "      <td>median</td>\n",
       "      <td>10</td>\n",
       "      <td>47</td>\n",
       "      <td>distance</td>\n",
       "      <td>2</td>\n",
       "      <td>l2</td>\n",
       "    </tr>\n",
       "    <tr>\n",
       "      <th>4</th>\n",
       "      <td>0.507950</td>\n",
       "      <td>0.023715</td>\n",
       "      <td>mean</td>\n",
       "      <td>70</td>\n",
       "      <td>15</td>\n",
       "      <td>uniform</td>\n",
       "      <td>1</td>\n",
       "      <td>l2</td>\n",
       "    </tr>\n",
       "  </tbody>\n",
       "</table>\n",
       "</div>"
      ],
      "text/plain": [
       "   mean_test_score  std_test_score  \\\n",
       "9         0.523898        0.015183   \n",
       "7         0.515958        0.024204   \n",
       "6         0.515198        0.021559   \n",
       "5         0.512662        0.014963   \n",
       "4         0.507950        0.023715   \n",
       "\n",
       "  param_preprocessor__nums__imputer__strategy  \\\n",
       "9                                      median   \n",
       "7                                        mean   \n",
       "6                                        mean   \n",
       "5                                      median   \n",
       "4                                        mean   \n",
       "\n",
       "  param_preprocessor__cats__selector__percentile  \\\n",
       "9                                             50   \n",
       "7                                             30   \n",
       "6                                             30   \n",
       "5                                             10   \n",
       "4                                             70   \n",
       "\n",
       "  param_classifier__n_neighbors param_classifier__weights param_classifier__p  \\\n",
       "9                            19                   uniform                   2   \n",
       "7                            19                  distance                   1   \n",
       "6                            29                   uniform                   2   \n",
       "5                            47                  distance                   2   \n",
       "4                            15                   uniform                   1   \n",
       "\n",
       "  param_classifier__metric  \n",
       "9                   cosine  \n",
       "7                       l1  \n",
       "6                cityblock  \n",
       "5                       l2  \n",
       "4                       l2  "
      ]
     },
     "execution_count": 2,
     "metadata": {},
     "output_type": "execute_result"
    }
   ],
   "source": [
    "## Let's Pipeline everything from the top and use optimization along the way\n",
    "from sklearn.pipeline import Pipeline\n",
    "X, y = df.iloc[:,:-1], df.iloc[:,-1]  # features vs target variable\n",
    "\n",
    "# Make a transformation pipeline to factorize & scale the data\n",
    "from sklearn.impute import SimpleImputer\n",
    "from sklearn.preprocessing import StandardScaler\n",
    "numeric_features = [col for col in df.columns[~df.columns.isin(['Sex','Rings'])]]\n",
    "numeric_transformer = Pipeline(steps=[ # things to scale\n",
    "    ('imputer', SimpleImputer(strategy='median')), # hyp-opt\n",
    "    ('scaler', StandardScaler()),])\n",
    "from sklearn.preprocessing import OneHotEncoder\n",
    "from sklearn.feature_selection import SelectPercentile, chi2\n",
    "categorical_features = ['Sex'] if X.shape[1]==8 else ['Rings']\n",
    "categorical_transformer = Pipeline(steps=[ # things to factorize\n",
    "    ('encoder', OneHotEncoder(handle_unknown='ignore')),\n",
    "    ('selector', SelectPercentile(chi2, percentile=50)),]) # hyp-opt\n",
    "from sklearn.compose import ColumnTransformer\n",
    "preprocessor = ColumnTransformer(transformers=[\n",
    "    ('nums', numeric_transformer, numeric_features),\n",
    "    ('cats', categorical_transformer, categorical_features),])\n",
    "\n",
    "# Make a model pipeline for logistic regression using hyperparameter tuning variables\n",
    "from sklearn.neighbors import KNeighborsRegressor\n",
    "model = Pipeline(steps=[\n",
    "    ('preprocessor', preprocessor),\n",
    "    ('classifier', KNeighborsRegressor())]) # hyp-opt\n",
    "\n",
    "# Instantiate the model & get its accuracy on the cross-validation set\n",
    "from sklearn.model_selection import RandomizedSearchCV, train_test_split\n",
    "X_train_full, X_test, y_train_full, y_test = train_test_split(X, y, \n",
    "                                                              test_size=0.2, \n",
    "                                                              random_state=42)\n",
    "X_train, X_valid, y_train, y_valid = train_test_split(X_train_full, y_train_full,\n",
    "                                                      test_size=0.2, random_state=43)\n",
    "model.fit(X_train, y_train)\n",
    "print(\"\\nPre-Optimized Model Accuracy on the Cross-Validation Data::\", \\\n",
    "      \"\\n\\t%.3f\" % model.score(X_valid, y_valid), \"\\n\", \\\n",
    "      \"- - - - - - - - - - - - - - - - - - - - - - - - - \\n\")\n",
    "\n",
    "# Find the best hyperparameters using RandomizedSearchCV\n",
    "param_grid = {\n",
    "    'preprocessor__nums__imputer__strategy': ['mean','median'],\n",
    "    'preprocessor__cats__selector__percentile': [10,30,50,70],\n",
    "    'classifier__n_neighbors': [k for k in range(1, 29*3, 2)],\n",
    "    'classifier__weights': ['uniform', 'distance'],\n",
    "    'classifier__p': [1,2],\n",
    "    'classifier__metric': ['cityblock','cosine','euclidean',\n",
    "                           'l1','l2','manhattan'],}\n",
    "rs = RandomizedSearchCV(model, param_grid,\n",
    "                        n_iter=10, random_state=42) # using 10 epochs\n",
    "rs.fit(X_train, y_train)\n",
    "print(\"\\nOptimized Model Accuracy on the Cross-Validation Data::\", \\\n",
    "      \"\\nInternal CV Score\\t%.3f\" % rs.best_score_, \"\\n\", \\\n",
    "      \"- - - - - - - - - - - - - - - - - - - - - - - - - \\n\", \\\n",
    "      \"\\nBest parameters found::\\n\", rs.best_params_,\"\\n\", \\\n",
    "      \"\\nTop five according to mean average on the test data::\\n\")\n",
    "results = pd.DataFrame(rs.cv_results_)\n",
    "results = results.sort_values(\"mean_test_score\", ascending=False)\n",
    "results[[\n",
    "    'mean_test_score',\n",
    "    'std_test_score',\n",
    "    'param_preprocessor__nums__imputer__strategy',\n",
    "    'param_preprocessor__cats__selector__percentile',\n",
    "    'param_classifier__n_neighbors',\n",
    "    'param_classifier__weights',\n",
    "    'param_classifier__p',\n",
    "    'param_classifier__metric',]].head(5)"
   ]
  },
  {
   "cell_type": "code",
   "execution_count": 3,
   "id": "04ca60ac-1267-4615-bcfa-4de8b295ff6b",
   "metadata": {},
   "outputs": [
    {
     "name": "stdout",
     "output_type": "stream",
     "text": [
      "\n",
      "Optimized Model Accuracy on the Test Data:: \n",
      "\t0.552 \n",
      "\n"
     ]
    }
   ],
   "source": [
    "## Final Model Instantiation & Accuracy on the Test Data\n",
    "from sklearn.metrics import accuracy_score\n",
    "model_fin = Pipeline(steps=[\n",
    "    ('preprocessor', preprocessor), # best params found our defaults from earlier\n",
    "    ('classifier', KNeighborsRegressor(\n",
    "        n_neighbors = rs.best_params_['classifier__n_neighbors'],  # k = 19\n",
    "        weights = rs.best_params_['classifier__weights'],          # uniform\n",
    "        p = rs.best_params_['classifier__p'],                   # p = 2 (default)\n",
    "        metric = rs.best_params_['classifier__metric']             # cosine\n",
    "    ))])\n",
    "model_fin.fit(X_train, y_train)\n",
    "print(\"\\nOptimized Model Accuracy on the Test Data::\", \\\n",
    "      \"\\n\\t%.3f\" % model_fin.score(X_test, y_test), \"\\n\")"
   ]
  },
  {
   "cell_type": "code",
   "execution_count": 46,
   "id": "7943763a-5242-4f46-827c-5a62ef41d0e3",
   "metadata": {},
   "outputs": [
    {
     "name": "stdout",
     "output_type": "stream",
     "text": [
      "\n",
      "The Mean Absolute Error (MAE) is 1.5339335180055402\n",
      "The Mean Squared Error (MSE) is 4.856734350355869\n",
      "The Root Mean Squared Error (RMSE) is 2.203799979661464\n",
      "\n"
     ]
    }
   ],
   "source": [
    "# Report the model performance\n",
    "y_preds = model_fin.predict(X_test)\n",
    "report_error(y_test, y_preds)"
   ]
  },
  {
   "cell_type": "code",
   "execution_count": 43,
   "id": "2615288d",
   "metadata": {
    "jupyter": {
     "source_hidden": true
    },
    "scrolled": true
   },
   "outputs": [],
   "source": [
    "# ## Spent a lot of time on this but it's not in the assignment req's so I *must* sadly let it go\n",
    "\n",
    "# # Demonstrate the Decision Boundaries of 'k' Neighborhoods\n",
    "# import matplotlib.pyplot as plt\n",
    "# import mlxtend\n",
    "# from mlxtend.plotting import plot_decision_regions\n",
    "\n",
    "# # Plotting decision regions\n",
    "# fig, ax = plt.subplots()\n",
    "# k = rs.best_params_['classifier__n_neighbors']\n",
    "# X_transformed = preprocessor.fit_transform(X_test, y_test)\n",
    "# y_transformed = y_test.to_numpy()\n",
    "# X_try = [np.argmax(i) for i in X_transformed]\n",
    "# y_try = [i for i in y_transformed]\n",
    "# plot_decision_regions(X_try, y_try, \n",
    "#                       clf = model_fin, \n",
    "#                       feature_index=[X_transformed.dtype.names, y_test.dtype.names],\n",
    "#                       filler_feature_values={0:50},\n",
    "#                       filler_feature_ranges={0:50})\n",
    "# # plt.xlabel('sepal length')\n",
    "# # plt.ylabel('sepal width')\n",
    "# plt.title(f\"Decision Regions using {k}-NN and the Test Data\");"
   ]
  },
  {
   "cell_type": "markdown",
   "id": "480bb492-f30e-4ea0-b801-c6baf92e9ca8",
   "metadata": {},
   "source": [
    "--- \n",
    "<center>\n",
    "<h2>*** Conclusion ***</h2>\n",
    "</center> \n",
    "\n",
    "--- "
   ]
  },
  {
   "cell_type": "markdown",
   "id": "9956fa8d-dd3f-4548-b406-c40ec79db583",
   "metadata": {},
   "source": [
    "Our best model was discovered by the (much faster!) RandomizedSearchCV hyperparameter tuner in conjuntion with KNearestRegressor once our categorical features had been factorized and our numerical features had been scaled. Our best results, however, gave us just $55 \\%$ accuracy. However, the MSE is even better than the <i>original</i> `sklearn`-sourced model we created after searching for our optimal `k`, and gave us twice the accuracy on the test data, so the hyperparameter tuning method was still well worth the trouble. We can only suspect that the two most defining factors responsible for our model's performance still being relatively low may be due to the rigid choice of using only the KNearestNeighbor algorithm coupled with an imbalanced class data set and the difficulty of producing multiclass logistic regression targets that our algorithm has... see note below!"
   ]
  },
  {
   "cell_type": "markdown",
   "id": "55d466e2-9906-49d4-9e69-74a41b0a298b",
   "metadata": {},
   "source": [
    "Warning: Regarding the Nearest Neighbors algorithms, if it is found that two neighbors, neighbor k+1 and k, have identical distances but different labels, the results will depend on the ordering of the training data.<br>\n",
    "<a href=\"https://scikit-learn.org/stable/modules/generated/sklearn.neighbors.KNeighborsRegressor.html\">source</a>"
   ]
  }
 ],
 "metadata": {
  "kernelspec": {
   "display_name": "Python 3 (ipykernel)",
   "language": "python",
   "name": "python3"
  },
  "language_info": {
   "codemirror_mode": {
    "name": "ipython",
    "version": 3
   },
   "file_extension": ".py",
   "mimetype": "text/x-python",
   "name": "python",
   "nbconvert_exporter": "python",
   "pygments_lexer": "ipython3",
   "version": "3.8.17"
  }
 },
 "nbformat": 4,
 "nbformat_minor": 5
}
