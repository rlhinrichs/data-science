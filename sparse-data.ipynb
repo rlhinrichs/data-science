{
 "cells": [
  {
   "cell_type": "markdown",
   "id": "3886be06-fbb4-4022-a733-37c8f924c1e2",
   "metadata": {},
   "source": [
    "<center>\n",
    "    <u><font size=\"36\">Sparse Data Solutions</font></u>\n",
    "    <h2>by Rebecca Hinrichs</h2>\n",
    "    <h4>SPRING 2023</h4>\n",
    "</center>"
   ]
  },
  {
   "cell_type": "markdown",
   "id": "1968102e-09ff-4cae-88d3-adb61a63ba78",
   "metadata": {},
   "source": [
    "--- \n",
    "\n",
    "<center><h2>Part I</h2></center>\n",
    "\n",
    "---"
   ]
  },
  {
   "cell_type": "markdown",
   "id": "a81736e7-243e-42da-80eb-4ea7b558319c",
   "metadata": {},
   "source": [
    "> Explain Laplace smoothing."
   ]
  },
  {
   "cell_type": "markdown",
   "id": "3bbd264e-2119-4c2b-b897-37e712967314",
   "metadata": {},
   "source": [
    "Laplace smoothing solves the problem known as \"Zero Frequency\" by adding a small value into a conditional probability formula in order to allow continuity in conditionally independent models trained on sparse data. For example, if a data point were introduced to a Naïve-Bayesian model via a testing data subset which the model had not seen during its training phase, it would produce an error due to the zero-probability condition it had formulated based on its zero prior representation of that data point. The Bayesian Model is given by\n",
    "\n",
    "$$ \\text{posterior probability} = \\frac{\\text{joint likelihood}*\\text{prior probability}}{\\text{evidence}} $$\n",
    "\n",
    "Since the probability of that data point having previously been classified would produce a $0/0$ result due to no evidence and no prior, the small added value allows continuity for variables and can be represented by:\n",
    "\n",
    "$$ P(x|y) = \\frac{P(x \\cap y) + 1}{P(y) + k} $$\n",
    "\n",
    "where $k$ represents the number of observed values for the new parameter. This technique is necessary for generative learning models like the Naive-Bayes multivariate classifier particularly when applied to sparse matrices with missing or zero values."
   ]
  },
  {
   "cell_type": "markdown",
   "id": "9a45273e-2975-4470-b9fd-eac7a76361e7",
   "metadata": {},
   "source": [
    "--- \n",
    "\n",
    "<center><h2>Part II</h2></center>\n",
    "\n",
    "---"
   ]
  },
  {
   "cell_type": "markdown",
   "id": "4369f4fe-42ea-47fc-a3b7-b424b365748b",
   "metadata": {
    "tags": []
   },
   "source": [
    "<b>Purpose:</b> The goal of this assignment is to build a Naïve-Bayes algorithm to predict whether a passenger on the Titanic survived or not.\n",
    "\n",
    "<b>Data:</b> We were instructed to import the dataset `titanic.csv` available in our class OneDrive folder. The data set provides information on the fate of passengers on the fatal maiden voyage of the ocean liner \"Titanic\", summarized according to survival (target variable with $1$= survived and $0$= died) and explanatory variables: `Name`, `Pclass` (passenger class), `Sex`, `Age`, `SibSp` (total number of siblings including the spouse traveling with the passenger), `Parch` (total number of parents and children traveling with the passenger), `Ticket`, `Fare`, `Cabin`, and `Embarked` (where the traveler mounted from: Southampton, Cherbourg, or Queenstown).<br>\n",
    "\n",
    "<b>Approach:</b> We will build & train a Naïve-Bayes model using `scikit-learn`'s built-in methods and use it to predict the survival of a passenger based on input values.\n",
    "\n",
    "--- -"
   ]
  },
  {
   "cell_type": "markdown",
   "id": "ddb6cd75-a0cf-4113-9e6b-9e3d92e10448",
   "metadata": {},
   "source": [
    "> 1. Import the data set into pandas data frame"
   ]
  },
  {
   "cell_type": "code",
   "execution_count": 1,
   "id": "5dc40bea",
   "metadata": {
    "tags": []
   },
   "outputs": [
    {
     "data": {
      "text/html": [
       "<div>\n",
       "<style scoped>\n",
       "    .dataframe tbody tr th:only-of-type {\n",
       "        vertical-align: middle;\n",
       "    }\n",
       "\n",
       "    .dataframe tbody tr th {\n",
       "        vertical-align: top;\n",
       "    }\n",
       "\n",
       "    .dataframe thead th {\n",
       "        text-align: right;\n",
       "    }\n",
       "</style>\n",
       "<table border=\"1\" class=\"dataframe\">\n",
       "  <thead>\n",
       "    <tr style=\"text-align: right;\">\n",
       "      <th></th>\n",
       "      <th>PassengerId</th>\n",
       "      <th>Survived</th>\n",
       "      <th>Pclass</th>\n",
       "      <th>Name</th>\n",
       "      <th>Sex</th>\n",
       "      <th>Age</th>\n",
       "      <th>SibSp</th>\n",
       "      <th>Parch</th>\n",
       "      <th>Ticket</th>\n",
       "      <th>Fare</th>\n",
       "      <th>Cabin</th>\n",
       "      <th>Embarked</th>\n",
       "    </tr>\n",
       "  </thead>\n",
       "  <tbody>\n",
       "    <tr>\n",
       "      <th>0</th>\n",
       "      <td>1</td>\n",
       "      <td>0</td>\n",
       "      <td>3</td>\n",
       "      <td>Braund, Mr. Owen Harris</td>\n",
       "      <td>male</td>\n",
       "      <td>22.0</td>\n",
       "      <td>1</td>\n",
       "      <td>0</td>\n",
       "      <td>A/5 21171</td>\n",
       "      <td>7.2500</td>\n",
       "      <td>NaN</td>\n",
       "      <td>S</td>\n",
       "    </tr>\n",
       "    <tr>\n",
       "      <th>1</th>\n",
       "      <td>2</td>\n",
       "      <td>1</td>\n",
       "      <td>1</td>\n",
       "      <td>Cumings, Mrs. John Bradley (Florence Briggs Th...</td>\n",
       "      <td>female</td>\n",
       "      <td>38.0</td>\n",
       "      <td>1</td>\n",
       "      <td>0</td>\n",
       "      <td>PC 17599</td>\n",
       "      <td>71.2833</td>\n",
       "      <td>C85</td>\n",
       "      <td>C</td>\n",
       "    </tr>\n",
       "    <tr>\n",
       "      <th>2</th>\n",
       "      <td>3</td>\n",
       "      <td>1</td>\n",
       "      <td>3</td>\n",
       "      <td>Heikkinen, Miss. Laina</td>\n",
       "      <td>female</td>\n",
       "      <td>26.0</td>\n",
       "      <td>0</td>\n",
       "      <td>0</td>\n",
       "      <td>STON/O2. 3101282</td>\n",
       "      <td>7.9250</td>\n",
       "      <td>NaN</td>\n",
       "      <td>S</td>\n",
       "    </tr>\n",
       "    <tr>\n",
       "      <th>3</th>\n",
       "      <td>4</td>\n",
       "      <td>1</td>\n",
       "      <td>1</td>\n",
       "      <td>Futrelle, Mrs. Jacques Heath (Lily May Peel)</td>\n",
       "      <td>female</td>\n",
       "      <td>35.0</td>\n",
       "      <td>1</td>\n",
       "      <td>0</td>\n",
       "      <td>113803</td>\n",
       "      <td>53.1000</td>\n",
       "      <td>C123</td>\n",
       "      <td>S</td>\n",
       "    </tr>\n",
       "    <tr>\n",
       "      <th>4</th>\n",
       "      <td>5</td>\n",
       "      <td>0</td>\n",
       "      <td>3</td>\n",
       "      <td>Allen, Mr. William Henry</td>\n",
       "      <td>male</td>\n",
       "      <td>35.0</td>\n",
       "      <td>0</td>\n",
       "      <td>0</td>\n",
       "      <td>373450</td>\n",
       "      <td>8.0500</td>\n",
       "      <td>NaN</td>\n",
       "      <td>S</td>\n",
       "    </tr>\n",
       "    <tr>\n",
       "      <th>...</th>\n",
       "      <td>...</td>\n",
       "      <td>...</td>\n",
       "      <td>...</td>\n",
       "      <td>...</td>\n",
       "      <td>...</td>\n",
       "      <td>...</td>\n",
       "      <td>...</td>\n",
       "      <td>...</td>\n",
       "      <td>...</td>\n",
       "      <td>...</td>\n",
       "      <td>...</td>\n",
       "      <td>...</td>\n",
       "    </tr>\n",
       "    <tr>\n",
       "      <th>886</th>\n",
       "      <td>887</td>\n",
       "      <td>0</td>\n",
       "      <td>2</td>\n",
       "      <td>Montvila, Rev. Juozas</td>\n",
       "      <td>male</td>\n",
       "      <td>27.0</td>\n",
       "      <td>0</td>\n",
       "      <td>0</td>\n",
       "      <td>211536</td>\n",
       "      <td>13.0000</td>\n",
       "      <td>NaN</td>\n",
       "      <td>S</td>\n",
       "    </tr>\n",
       "    <tr>\n",
       "      <th>887</th>\n",
       "      <td>888</td>\n",
       "      <td>1</td>\n",
       "      <td>1</td>\n",
       "      <td>Graham, Miss. Margaret Edith</td>\n",
       "      <td>female</td>\n",
       "      <td>19.0</td>\n",
       "      <td>0</td>\n",
       "      <td>0</td>\n",
       "      <td>112053</td>\n",
       "      <td>30.0000</td>\n",
       "      <td>B42</td>\n",
       "      <td>S</td>\n",
       "    </tr>\n",
       "    <tr>\n",
       "      <th>888</th>\n",
       "      <td>889</td>\n",
       "      <td>0</td>\n",
       "      <td>3</td>\n",
       "      <td>Johnston, Miss. Catherine Helen \"Carrie\"</td>\n",
       "      <td>female</td>\n",
       "      <td>NaN</td>\n",
       "      <td>1</td>\n",
       "      <td>2</td>\n",
       "      <td>W./C. 6607</td>\n",
       "      <td>23.4500</td>\n",
       "      <td>NaN</td>\n",
       "      <td>S</td>\n",
       "    </tr>\n",
       "    <tr>\n",
       "      <th>889</th>\n",
       "      <td>890</td>\n",
       "      <td>1</td>\n",
       "      <td>1</td>\n",
       "      <td>Behr, Mr. Karl Howell</td>\n",
       "      <td>male</td>\n",
       "      <td>26.0</td>\n",
       "      <td>0</td>\n",
       "      <td>0</td>\n",
       "      <td>111369</td>\n",
       "      <td>30.0000</td>\n",
       "      <td>C148</td>\n",
       "      <td>C</td>\n",
       "    </tr>\n",
       "    <tr>\n",
       "      <th>890</th>\n",
       "      <td>891</td>\n",
       "      <td>0</td>\n",
       "      <td>3</td>\n",
       "      <td>Dooley, Mr. Patrick</td>\n",
       "      <td>male</td>\n",
       "      <td>32.0</td>\n",
       "      <td>0</td>\n",
       "      <td>0</td>\n",
       "      <td>370376</td>\n",
       "      <td>7.7500</td>\n",
       "      <td>NaN</td>\n",
       "      <td>Q</td>\n",
       "    </tr>\n",
       "  </tbody>\n",
       "</table>\n",
       "<p>891 rows × 12 columns</p>\n",
       "</div>"
      ],
      "text/plain": [
       "     PassengerId  Survived  Pclass  \\\n",
       "0              1         0       3   \n",
       "1              2         1       1   \n",
       "2              3         1       3   \n",
       "3              4         1       1   \n",
       "4              5         0       3   \n",
       "..           ...       ...     ...   \n",
       "886          887         0       2   \n",
       "887          888         1       1   \n",
       "888          889         0       3   \n",
       "889          890         1       1   \n",
       "890          891         0       3   \n",
       "\n",
       "                                                  Name     Sex   Age  SibSp  \\\n",
       "0                              Braund, Mr. Owen Harris    male  22.0      1   \n",
       "1    Cumings, Mrs. John Bradley (Florence Briggs Th...  female  38.0      1   \n",
       "2                               Heikkinen, Miss. Laina  female  26.0      0   \n",
       "3         Futrelle, Mrs. Jacques Heath (Lily May Peel)  female  35.0      1   \n",
       "4                             Allen, Mr. William Henry    male  35.0      0   \n",
       "..                                                 ...     ...   ...    ...   \n",
       "886                              Montvila, Rev. Juozas    male  27.0      0   \n",
       "887                       Graham, Miss. Margaret Edith  female  19.0      0   \n",
       "888           Johnston, Miss. Catherine Helen \"Carrie\"  female   NaN      1   \n",
       "889                              Behr, Mr. Karl Howell    male  26.0      0   \n",
       "890                                Dooley, Mr. Patrick    male  32.0      0   \n",
       "\n",
       "     Parch            Ticket     Fare Cabin Embarked  \n",
       "0        0         A/5 21171   7.2500   NaN        S  \n",
       "1        0          PC 17599  71.2833   C85        C  \n",
       "2        0  STON/O2. 3101282   7.9250   NaN        S  \n",
       "3        0            113803  53.1000  C123        S  \n",
       "4        0            373450   8.0500   NaN        S  \n",
       "..     ...               ...      ...   ...      ...  \n",
       "886      0            211536  13.0000   NaN        S  \n",
       "887      0            112053  30.0000   B42        S  \n",
       "888      2        W./C. 6607  23.4500   NaN        S  \n",
       "889      0            111369  30.0000  C148        C  \n",
       "890      0            370376   7.7500   NaN        Q  \n",
       "\n",
       "[891 rows x 12 columns]"
      ]
     },
     "metadata": {},
     "output_type": "display_data"
    }
   ],
   "source": [
    "# Import Libraries & Dependencies\n",
    "import pandas as pd\n",
    "import numpy as np\n",
    "\n",
    "# Import Dataset\n",
    "df = pd.read_csv('titanic.csv')\n",
    "display(df)"
   ]
  },
  {
   "cell_type": "markdown",
   "id": "4ae8de6f-6eb0-4e6f-a4bd-0873cb0eba53",
   "metadata": {},
   "source": [
    "> 2.  Split the data into training and testing sets"
   ]
  },
  {
   "cell_type": "code",
   "execution_count": 2,
   "id": "f2038ad2-6e81-4ea7-a9c5-ae4ab8370de4",
   "metadata": {},
   "outputs": [
    {
     "name": "stdout",
     "output_type": "stream",
     "text": [
      "\n",
      "Training Shape :: (623, 11)\n",
      "Training Labels :: (623,)\n",
      "\n",
      "Testing Shape :: (268, 11)\n",
      "Testing Labels :: (268,)\n",
      "\n"
     ]
    }
   ],
   "source": [
    "# Define the feature and target variables for training, testing\n",
    "y = df['Survived']\n",
    "X = df.drop('Survived', axis=1)\n",
    "\n",
    "# Split the data into training & testing sets\n",
    "from sklearn.model_selection import train_test_split\n",
    "X_train, X_test, y_train, y_test = train_test_split(X, y, \n",
    "                                                    test_size=0.30, random_state=42)\n",
    "# Report the dataset shapes\n",
    "print(f'\\nTraining Shape :: {X_train.shape}')\n",
    "print(f'Training Labels :: {y_train.shape}')\n",
    "print(f'\\nTesting Shape :: {X_test.shape}')\n",
    "print(f'Testing Labels :: {y_test.shape}\\n')"
   ]
  },
  {
   "cell_type": "code",
   "execution_count": 3,
   "id": "9db9e471-9693-4afa-b666-6a7729d412a8",
   "metadata": {},
   "outputs": [
    {
     "name": "stdout",
     "output_type": "stream",
     "text": [
      "\n",
      "NULL values :: 0    :: 0.0%\n",
      "\n",
      "Survived\n",
      "0    392\n",
      "1    231\n",
      "Name: count, dtype: int64\n"
     ]
    },
    {
     "data": {
      "image/png": "[encoded data removed]",
      "text/plain": [
       "<Figure size 640x480 with 1 Axes>"
      ]
     },
     "metadata": {},
     "output_type": "display_data"
    }
   ],
   "source": [
    "# Target variable analysis\n",
    "print(f'\\nNULL values :: {y_train.isna().sum():<5}:: {y_train.isna().sum()/y_train.size:.1%}\\n')\n",
    "print(y_train.value_counts())\n",
    "y_train.value_counts().plot(kind='pie', autopct='%.2f%%');"
   ]
  },
  {
   "cell_type": "code",
   "execution_count": 4,
   "id": "f1d53397-9909-47ca-9613-2bc9496e1f40",
   "metadata": {},
   "outputs": [
    {
     "name": "stdout",
     "output_type": "stream",
     "text": [
      "\n",
      "NULL values :: 866  :: 8.8%\n",
      "ZERO values :: 1301 :: 13.3%\n",
      "\n",
      "<class 'pandas.core.frame.DataFrame'>\n",
      "RangeIndex: 891 entries, 0 to 890\n",
      "Data columns (total 11 columns):\n",
      " #   Column       Non-Null Count  Dtype  \n",
      "---  ------       --------------  -----  \n",
      " 0   PassengerId  891 non-null    int64  \n",
      " 1   Pclass       891 non-null    int64  \n",
      " 2   Name         891 non-null    object \n",
      " 3   Sex          891 non-null    object \n",
      " 4   Age          714 non-null    float64\n",
      " 5   SibSp        891 non-null    int64  \n",
      " 6   Parch        891 non-null    int64  \n",
      " 7   Ticket       891 non-null    object \n",
      " 8   Fare         891 non-null    float64\n",
      " 9   Cabin        204 non-null    object \n",
      " 10  Embarked     889 non-null    object \n",
      "dtypes: float64(2), int64(4), object(5)\n",
      "memory usage: 76.7+ KB\n"
     ]
    }
   ],
   "source": [
    "# Feature analysis\n",
    "print(f'\\nNULL values :: {X.isna().sum().sum():<5}:: {X.isna().sum().sum()/X.size:.1%}')\n",
    "print(f'ZERO values :: {(X==0).sum().sum():<5}:: {(X==0).sum().sum()/X.size:.1%}\\n')\n",
    "X.info()"
   ]
  },
  {
   "cell_type": "markdown",
   "id": "30ee4fba-bf15-4445-9033-82a703b0985e",
   "metadata": {},
   "source": [
    "> 3. Select one or more explanatory variables you would like to use."
   ]
  },
  {
   "cell_type": "markdown",
   "id": "d2babfd4-d4e7-4d87-b8c6-b05844f9dca8",
   "metadata": {},
   "source": [
    "First we'll look for unhelpful columns."
   ]
  },
  {
   "cell_type": "code",
   "execution_count": 5,
   "id": "bdb4cc0d-8d43-492b-9129-e99371dfd41a",
   "metadata": {},
   "outputs": [
    {
     "name": "stdout",
     "output_type": "stream",
     "text": [
      "Unique PassengerIds :: 891  :: 100.0%\n",
      "NULL PassengerIds :: 0    :: 0.0%\n",
      "\n",
      "Unique Names :: 891  :: 100.0%\n",
      "NULL Names :: 0    :: 0.0%\n",
      "\n",
      "Unique Tickets :: 681  :: 76.4%\n",
      "NULL Tickets :: 0    :: 0.0%\n",
      "\n",
      "Unique Cabins :: 148  :: 16.6%\n",
      "NULL Cabins :: 687  :: 77.1%\n",
      "\n",
      "Unique Embarkeds :: 4    :: 0.4%\n",
      "NULL Embarkeds :: 2    :: 0.2%\n",
      "\n"
     ]
    }
   ],
   "source": [
    "# Find irrelevant features\n",
    "chopblock = ['PassengerId','Name','Ticket','Cabin','Embarked']\n",
    "X_check = pd.DataFrame(X[chopblock])\n",
    "for col in X_check.columns:\n",
    "    uniques, nulls, count = len(set(X_check[col])), X_check[col].isna().sum(), len(X_check[col])\n",
    "    print(f'Unique {col}s :: {uniques:<5}:: {uniques/count:.1%}')\n",
    "    print(f'NULL {col}s :: {nulls:<5}:: {nulls/count:.1%}\\n')"
   ]
  },
  {
   "cell_type": "markdown",
   "id": "bb65a6c5-5abd-40aa-983c-8c1419edac9d",
   "metadata": {},
   "source": [
    "`Name` and `PassengerId` are unique identifiers per observation, so we can drop those.\n",
    "\n",
    "`Ticket` may be informative; `Cabin` poses a challenge with its high count of missing values; `Embarked` looks to be a strong categorical variable. We'll proceed to investigate these 3."
   ]
  },
  {
   "cell_type": "code",
   "execution_count": 6,
   "id": "6e8f0015-934c-4e27-9a04-d399cf89cb31",
   "metadata": {},
   "outputs": [
    {
     "data": {
      "text/plain": [
       "Ticket\n",
       "347082      7\n",
       "CA. 2343    7\n",
       "1601        7\n",
       "3101295     6\n",
       "CA 2144     6\n",
       "           ..\n",
       "9234        1\n",
       "19988       1\n",
       "2693        1\n",
       "PC 17612    1\n",
       "370376      1\n",
       "Name: count, Length: 681, dtype: int64"
      ]
     },
     "execution_count": 6,
     "metadata": {},
     "output_type": "execute_result"
    }
   ],
   "source": [
    "# Investigate `Ticket`\n",
    "(df[\"Ticket\"]).value_counts()"
   ]
  },
  {
   "cell_type": "code",
   "execution_count": 7,
   "id": "d9673d21-e4d7-4ce7-86e2-090f99e800d6",
   "metadata": {},
   "outputs": [
    {
     "data": {
      "text/html": [
       "<div>\n",
       "<style scoped>\n",
       "    .dataframe tbody tr th:only-of-type {\n",
       "        vertical-align: middle;\n",
       "    }\n",
       "\n",
       "    .dataframe tbody tr th {\n",
       "        vertical-align: top;\n",
       "    }\n",
       "\n",
       "    .dataframe thead th {\n",
       "        text-align: right;\n",
       "    }\n",
       "</style>\n",
       "<table border=\"1\" class=\"dataframe\">\n",
       "  <thead>\n",
       "    <tr style=\"text-align: right;\">\n",
       "      <th></th>\n",
       "      <th>PassengerId</th>\n",
       "      <th>Survived</th>\n",
       "      <th>Pclass</th>\n",
       "      <th>Name</th>\n",
       "      <th>Sex</th>\n",
       "      <th>Age</th>\n",
       "      <th>SibSp</th>\n",
       "      <th>Parch</th>\n",
       "      <th>Ticket</th>\n",
       "      <th>Fare</th>\n",
       "      <th>Cabin</th>\n",
       "      <th>Embarked</th>\n",
       "    </tr>\n",
       "  </thead>\n",
       "  <tbody>\n",
       "    <tr>\n",
       "      <th>13</th>\n",
       "      <td>14</td>\n",
       "      <td>0</td>\n",
       "      <td>3</td>\n",
       "      <td>Andersson, Mr. Anders Johan</td>\n",
       "      <td>male</td>\n",
       "      <td>39.0</td>\n",
       "      <td>1</td>\n",
       "      <td>5</td>\n",
       "      <td>347082</td>\n",
       "      <td>31.275</td>\n",
       "      <td>NaN</td>\n",
       "      <td>S</td>\n",
       "    </tr>\n",
       "    <tr>\n",
       "      <th>119</th>\n",
       "      <td>120</td>\n",
       "      <td>0</td>\n",
       "      <td>3</td>\n",
       "      <td>Andersson, Miss. Ellis Anna Maria</td>\n",
       "      <td>female</td>\n",
       "      <td>2.0</td>\n",
       "      <td>4</td>\n",
       "      <td>2</td>\n",
       "      <td>347082</td>\n",
       "      <td>31.275</td>\n",
       "      <td>NaN</td>\n",
       "      <td>S</td>\n",
       "    </tr>\n",
       "    <tr>\n",
       "      <th>541</th>\n",
       "      <td>542</td>\n",
       "      <td>0</td>\n",
       "      <td>3</td>\n",
       "      <td>Andersson, Miss. Ingeborg Constanzia</td>\n",
       "      <td>female</td>\n",
       "      <td>9.0</td>\n",
       "      <td>4</td>\n",
       "      <td>2</td>\n",
       "      <td>347082</td>\n",
       "      <td>31.275</td>\n",
       "      <td>NaN</td>\n",
       "      <td>S</td>\n",
       "    </tr>\n",
       "    <tr>\n",
       "      <th>542</th>\n",
       "      <td>543</td>\n",
       "      <td>0</td>\n",
       "      <td>3</td>\n",
       "      <td>Andersson, Miss. Sigrid Elisabeth</td>\n",
       "      <td>female</td>\n",
       "      <td>11.0</td>\n",
       "      <td>4</td>\n",
       "      <td>2</td>\n",
       "      <td>347082</td>\n",
       "      <td>31.275</td>\n",
       "      <td>NaN</td>\n",
       "      <td>S</td>\n",
       "    </tr>\n",
       "    <tr>\n",
       "      <th>610</th>\n",
       "      <td>611</td>\n",
       "      <td>0</td>\n",
       "      <td>3</td>\n",
       "      <td>Andersson, Mrs. Anders Johan (Alfrida Konstant...</td>\n",
       "      <td>female</td>\n",
       "      <td>39.0</td>\n",
       "      <td>1</td>\n",
       "      <td>5</td>\n",
       "      <td>347082</td>\n",
       "      <td>31.275</td>\n",
       "      <td>NaN</td>\n",
       "      <td>S</td>\n",
       "    </tr>\n",
       "    <tr>\n",
       "      <th>813</th>\n",
       "      <td>814</td>\n",
       "      <td>0</td>\n",
       "      <td>3</td>\n",
       "      <td>Andersson, Miss. Ebba Iris Alfrida</td>\n",
       "      <td>female</td>\n",
       "      <td>6.0</td>\n",
       "      <td>4</td>\n",
       "      <td>2</td>\n",
       "      <td>347082</td>\n",
       "      <td>31.275</td>\n",
       "      <td>NaN</td>\n",
       "      <td>S</td>\n",
       "    </tr>\n",
       "    <tr>\n",
       "      <th>850</th>\n",
       "      <td>851</td>\n",
       "      <td>0</td>\n",
       "      <td>3</td>\n",
       "      <td>Andersson, Master. Sigvard Harald Elias</td>\n",
       "      <td>male</td>\n",
       "      <td>4.0</td>\n",
       "      <td>4</td>\n",
       "      <td>2</td>\n",
       "      <td>347082</td>\n",
       "      <td>31.275</td>\n",
       "      <td>NaN</td>\n",
       "      <td>S</td>\n",
       "    </tr>\n",
       "  </tbody>\n",
       "</table>\n",
       "</div>"
      ],
      "text/plain": [
       "     PassengerId  Survived  Pclass  \\\n",
       "13            14         0       3   \n",
       "119          120         0       3   \n",
       "541          542         0       3   \n",
       "542          543         0       3   \n",
       "610          611         0       3   \n",
       "813          814         0       3   \n",
       "850          851         0       3   \n",
       "\n",
       "                                                  Name     Sex   Age  SibSp  \\\n",
       "13                         Andersson, Mr. Anders Johan    male  39.0      1   \n",
       "119                  Andersson, Miss. Ellis Anna Maria  female   2.0      4   \n",
       "541               Andersson, Miss. Ingeborg Constanzia  female   9.0      4   \n",
       "542                  Andersson, Miss. Sigrid Elisabeth  female  11.0      4   \n",
       "610  Andersson, Mrs. Anders Johan (Alfrida Konstant...  female  39.0      1   \n",
       "813                 Andersson, Miss. Ebba Iris Alfrida  female   6.0      4   \n",
       "850            Andersson, Master. Sigvard Harald Elias    male   4.0      4   \n",
       "\n",
       "     Parch  Ticket    Fare Cabin Embarked  \n",
       "13       5  347082  31.275   NaN        S  \n",
       "119      2  347082  31.275   NaN        S  \n",
       "541      2  347082  31.275   NaN        S  \n",
       "542      2  347082  31.275   NaN        S  \n",
       "610      5  347082  31.275   NaN        S  \n",
       "813      2  347082  31.275   NaN        S  \n",
       "850      2  347082  31.275   NaN        S  "
      ]
     },
     "execution_count": 7,
     "metadata": {},
     "output_type": "execute_result"
    }
   ],
   "source": [
    "# Investigate what does 7 counts on 1 ticket mean\n",
    "df[df[\"Ticket\"]==\"347082\"]"
   ]
  },
  {
   "cell_type": "markdown",
   "id": "22fced8f-9377-43a0-939f-7d45c35937b9",
   "metadata": {},
   "source": [
    "Based on the genders, names and ages of the passengers, we see in this example that `Ticket` with value \"347082\" belonged to a family of $7$: 2 adults aged 39 each and 5 children ages 2-11. All of them have the same `Fare` amount, `Embarked` location, `PClass` of 3, and `Cabin` unlisted. Additionally, they all result in `Survived` outcomes of $0$. We won't be keeping `PassengerId` or `Name`, so besides `Age` which distinguishes these passengers from each other, let's proceed to explore their only remaining differing variables: `SibSp` an d`Parch`. \n",
    "\n",
    "The parents each have `SibSp` values of $1$ and `Parch` values of $5$, since they each count each other as spouse and they also both have 5 children. Their children each have `SibSp` values of $4$ since they are all siblings with one another, and `Parch` values of $2$ since each child has both parents on board. Given this example, we see that `SibSp` and `Parch` are interrelated and correlated to other passengers onboard. In order to keep these variables as significant without any quantitative skew, we'll convert `SibSp` and `Parch` to a single Bernoulli variable to indicate whether the passenger had family on board or not. We can call this variable `has_family` and drop `SibSp` and `Parch`.\n",
    "\n",
    "Since `Ticket` is a group identifier but its contents are irrelevant to our target variable, we can alternatively encode this variable in lieu of our Bernoulli `has_family` option as relevant to survival. Since families tended to stick together- room together, pay the same fare together, be in the same class together, embark together, and incidentally quite possibly survive together- we may find some value in retaining `Ticket` for its grouping mechanism.\n",
    "\n",
    "Therefore, we will combine the simplification of `has_family` with the more discriminatory grouping utility of `Ticket` and introduce instead a variable called `qty_family` which combines the grouping utility of `Ticket` with `SibSp` and `Parch`, effectively dropping these 3 variables."
   ]
  },
  {
   "cell_type": "code",
   "execution_count": 8,
   "id": "72aed088-6c52-4c9c-a1d2-0ef43139ead9",
   "metadata": {},
   "outputs": [
    {
     "data": {
      "text/plain": [
       "Cabin\n",
       "B96 B98        4\n",
       "G6             4\n",
       "C23 C25 C27    4\n",
       "C22 C26        3\n",
       "F33            3\n",
       "              ..\n",
       "E34            1\n",
       "C7             1\n",
       "C54            1\n",
       "E36            1\n",
       "C148           1\n",
       "Name: count, Length: 147, dtype: int64"
      ]
     },
     "execution_count": 8,
     "metadata": {},
     "output_type": "execute_result"
    }
   ],
   "source": [
    "# Investigate `Cabin`\n",
    "(df[\"Cabin\"]).value_counts()"
   ]
  },
  {
   "cell_type": "code",
   "execution_count": 9,
   "id": "21abb71c-5508-4c33-a4e7-9b659dc404da",
   "metadata": {},
   "outputs": [
    {
     "data": {
      "text/html": [
       "<div>\n",
       "<style scoped>\n",
       "    .dataframe tbody tr th:only-of-type {\n",
       "        vertical-align: middle;\n",
       "    }\n",
       "\n",
       "    .dataframe tbody tr th {\n",
       "        vertical-align: top;\n",
       "    }\n",
       "\n",
       "    .dataframe thead th {\n",
       "        text-align: right;\n",
       "    }\n",
       "</style>\n",
       "<table border=\"1\" class=\"dataframe\">\n",
       "  <thead>\n",
       "    <tr style=\"text-align: right;\">\n",
       "      <th></th>\n",
       "      <th>PassengerId</th>\n",
       "      <th>Survived</th>\n",
       "      <th>Pclass</th>\n",
       "      <th>Name</th>\n",
       "      <th>Sex</th>\n",
       "      <th>Age</th>\n",
       "      <th>SibSp</th>\n",
       "      <th>Parch</th>\n",
       "      <th>Ticket</th>\n",
       "      <th>Fare</th>\n",
       "      <th>Cabin</th>\n",
       "      <th>Embarked</th>\n",
       "    </tr>\n",
       "  </thead>\n",
       "  <tbody>\n",
       "    <tr>\n",
       "      <th>10</th>\n",
       "      <td>11</td>\n",
       "      <td>1</td>\n",
       "      <td>3</td>\n",
       "      <td>Sandstrom, Miss. Marguerite Rut</td>\n",
       "      <td>female</td>\n",
       "      <td>4.0</td>\n",
       "      <td>1</td>\n",
       "      <td>1</td>\n",
       "      <td>PP 9549</td>\n",
       "      <td>16.7000</td>\n",
       "      <td>G6</td>\n",
       "      <td>S</td>\n",
       "    </tr>\n",
       "    <tr>\n",
       "      <th>205</th>\n",
       "      <td>206</td>\n",
       "      <td>0</td>\n",
       "      <td>3</td>\n",
       "      <td>Strom, Miss. Telma Matilda</td>\n",
       "      <td>female</td>\n",
       "      <td>2.0</td>\n",
       "      <td>0</td>\n",
       "      <td>1</td>\n",
       "      <td>347054</td>\n",
       "      <td>10.4625</td>\n",
       "      <td>G6</td>\n",
       "      <td>S</td>\n",
       "    </tr>\n",
       "    <tr>\n",
       "      <th>251</th>\n",
       "      <td>252</td>\n",
       "      <td>0</td>\n",
       "      <td>3</td>\n",
       "      <td>Strom, Mrs. Wilhelm (Elna Matilda Persson)</td>\n",
       "      <td>female</td>\n",
       "      <td>29.0</td>\n",
       "      <td>1</td>\n",
       "      <td>1</td>\n",
       "      <td>347054</td>\n",
       "      <td>10.4625</td>\n",
       "      <td>G6</td>\n",
       "      <td>S</td>\n",
       "    </tr>\n",
       "    <tr>\n",
       "      <th>394</th>\n",
       "      <td>395</td>\n",
       "      <td>1</td>\n",
       "      <td>3</td>\n",
       "      <td>Sandstrom, Mrs. Hjalmar (Agnes Charlotta Bengt...</td>\n",
       "      <td>female</td>\n",
       "      <td>24.0</td>\n",
       "      <td>0</td>\n",
       "      <td>2</td>\n",
       "      <td>PP 9549</td>\n",
       "      <td>16.7000</td>\n",
       "      <td>G6</td>\n",
       "      <td>S</td>\n",
       "    </tr>\n",
       "  </tbody>\n",
       "</table>\n",
       "</div>"
      ],
      "text/plain": [
       "     PassengerId  Survived  Pclass  \\\n",
       "10            11         1       3   \n",
       "205          206         0       3   \n",
       "251          252         0       3   \n",
       "394          395         1       3   \n",
       "\n",
       "                                                  Name     Sex   Age  SibSp  \\\n",
       "10                     Sandstrom, Miss. Marguerite Rut  female   4.0      1   \n",
       "205                         Strom, Miss. Telma Matilda  female   2.0      0   \n",
       "251         Strom, Mrs. Wilhelm (Elna Matilda Persson)  female  29.0      1   \n",
       "394  Sandstrom, Mrs. Hjalmar (Agnes Charlotta Bengt...  female  24.0      0   \n",
       "\n",
       "     Parch   Ticket     Fare Cabin Embarked  \n",
       "10       1  PP 9549  16.7000    G6        S  \n",
       "205      1   347054  10.4625    G6        S  \n",
       "251      1   347054  10.4625    G6        S  \n",
       "394      2  PP 9549  16.7000    G6        S  "
      ]
     },
     "execution_count": 9,
     "metadata": {},
     "output_type": "execute_result"
    }
   ],
   "source": [
    "# Investigate what does 4 counts in 1 cabin mean\n",
    "df[df[\"Cabin\"]==\"G6\"]"
   ]
  },
  {
   "cell_type": "code",
   "execution_count": 10,
   "id": "f4c574c7-beee-45fd-acac-fd7e221193de",
   "metadata": {},
   "outputs": [
    {
     "data": {
      "text/html": [
       "<div>\n",
       "<style scoped>\n",
       "    .dataframe tbody tr th:only-of-type {\n",
       "        vertical-align: middle;\n",
       "    }\n",
       "\n",
       "    .dataframe tbody tr th {\n",
       "        vertical-align: top;\n",
       "    }\n",
       "\n",
       "    .dataframe thead th {\n",
       "        text-align: right;\n",
       "    }\n",
       "</style>\n",
       "<table border=\"1\" class=\"dataframe\">\n",
       "  <thead>\n",
       "    <tr style=\"text-align: right;\">\n",
       "      <th></th>\n",
       "      <th>PassengerId</th>\n",
       "      <th>Survived</th>\n",
       "      <th>Pclass</th>\n",
       "      <th>Name</th>\n",
       "      <th>Sex</th>\n",
       "      <th>Age</th>\n",
       "      <th>SibSp</th>\n",
       "      <th>Parch</th>\n",
       "      <th>Ticket</th>\n",
       "      <th>Fare</th>\n",
       "      <th>Cabin</th>\n",
       "      <th>Embarked</th>\n",
       "    </tr>\n",
       "  </thead>\n",
       "  <tbody>\n",
       "    <tr>\n",
       "      <th>27</th>\n",
       "      <td>28</td>\n",
       "      <td>0</td>\n",
       "      <td>1</td>\n",
       "      <td>Fortune, Mr. Charles Alexander</td>\n",
       "      <td>male</td>\n",
       "      <td>19.0</td>\n",
       "      <td>3</td>\n",
       "      <td>2</td>\n",
       "      <td>19950</td>\n",
       "      <td>263.0</td>\n",
       "      <td>C23 C25 C27</td>\n",
       "      <td>S</td>\n",
       "    </tr>\n",
       "    <tr>\n",
       "      <th>88</th>\n",
       "      <td>89</td>\n",
       "      <td>1</td>\n",
       "      <td>1</td>\n",
       "      <td>Fortune, Miss. Mabel Helen</td>\n",
       "      <td>female</td>\n",
       "      <td>23.0</td>\n",
       "      <td>3</td>\n",
       "      <td>2</td>\n",
       "      <td>19950</td>\n",
       "      <td>263.0</td>\n",
       "      <td>C23 C25 C27</td>\n",
       "      <td>S</td>\n",
       "    </tr>\n",
       "    <tr>\n",
       "      <th>341</th>\n",
       "      <td>342</td>\n",
       "      <td>1</td>\n",
       "      <td>1</td>\n",
       "      <td>Fortune, Miss. Alice Elizabeth</td>\n",
       "      <td>female</td>\n",
       "      <td>24.0</td>\n",
       "      <td>3</td>\n",
       "      <td>2</td>\n",
       "      <td>19950</td>\n",
       "      <td>263.0</td>\n",
       "      <td>C23 C25 C27</td>\n",
       "      <td>S</td>\n",
       "    </tr>\n",
       "    <tr>\n",
       "      <th>438</th>\n",
       "      <td>439</td>\n",
       "      <td>0</td>\n",
       "      <td>1</td>\n",
       "      <td>Fortune, Mr. Mark</td>\n",
       "      <td>male</td>\n",
       "      <td>64.0</td>\n",
       "      <td>1</td>\n",
       "      <td>4</td>\n",
       "      <td>19950</td>\n",
       "      <td>263.0</td>\n",
       "      <td>C23 C25 C27</td>\n",
       "      <td>S</td>\n",
       "    </tr>\n",
       "  </tbody>\n",
       "</table>\n",
       "</div>"
      ],
      "text/plain": [
       "     PassengerId  Survived  Pclass                            Name     Sex  \\\n",
       "27            28         0       1  Fortune, Mr. Charles Alexander    male   \n",
       "88            89         1       1      Fortune, Miss. Mabel Helen  female   \n",
       "341          342         1       1  Fortune, Miss. Alice Elizabeth  female   \n",
       "438          439         0       1               Fortune, Mr. Mark    male   \n",
       "\n",
       "      Age  SibSp  Parch Ticket   Fare        Cabin Embarked  \n",
       "27   19.0      3      2  19950  263.0  C23 C25 C27        S  \n",
       "88   23.0      3      2  19950  263.0  C23 C25 C27        S  \n",
       "341  24.0      3      2  19950  263.0  C23 C25 C27        S  \n",
       "438  64.0      1      4  19950  263.0  C23 C25 C27        S  "
      ]
     },
     "execution_count": 10,
     "metadata": {},
     "output_type": "execute_result"
    }
   ],
   "source": [
    "# Investigate what does 4 counts in 3 cabins mean\n",
    "df[df[\"Cabin\"]==\"C23 C25 C27\"]"
   ]
  },
  {
   "cell_type": "code",
   "execution_count": 11,
   "id": "a4b4e4c5-b3c6-4057-b83f-f626b5533b4c",
   "metadata": {},
   "outputs": [
    {
     "data": {
      "text/html": [
       "<div>\n",
       "<style scoped>\n",
       "    .dataframe tbody tr th:only-of-type {\n",
       "        vertical-align: middle;\n",
       "    }\n",
       "\n",
       "    .dataframe tbody tr th {\n",
       "        vertical-align: top;\n",
       "    }\n",
       "\n",
       "    .dataframe thead th {\n",
       "        text-align: right;\n",
       "    }\n",
       "</style>\n",
       "<table border=\"1\" class=\"dataframe\">\n",
       "  <thead>\n",
       "    <tr style=\"text-align: right;\">\n",
       "      <th></th>\n",
       "      <th>PassengerId</th>\n",
       "      <th>Survived</th>\n",
       "      <th>Pclass</th>\n",
       "      <th>Name</th>\n",
       "      <th>Sex</th>\n",
       "      <th>Age</th>\n",
       "      <th>SibSp</th>\n",
       "      <th>Parch</th>\n",
       "      <th>Ticket</th>\n",
       "      <th>Fare</th>\n",
       "      <th>Cabin</th>\n",
       "      <th>Embarked</th>\n",
       "    </tr>\n",
       "  </thead>\n",
       "  <tbody>\n",
       "    <tr>\n",
       "      <th>297</th>\n",
       "      <td>298</td>\n",
       "      <td>0</td>\n",
       "      <td>1</td>\n",
       "      <td>Allison, Miss. Helen Loraine</td>\n",
       "      <td>female</td>\n",
       "      <td>2.00</td>\n",
       "      <td>1</td>\n",
       "      <td>2</td>\n",
       "      <td>113781</td>\n",
       "      <td>151.55</td>\n",
       "      <td>C22 C26</td>\n",
       "      <td>S</td>\n",
       "    </tr>\n",
       "    <tr>\n",
       "      <th>305</th>\n",
       "      <td>306</td>\n",
       "      <td>1</td>\n",
       "      <td>1</td>\n",
       "      <td>Allison, Master. Hudson Trevor</td>\n",
       "      <td>male</td>\n",
       "      <td>0.92</td>\n",
       "      <td>1</td>\n",
       "      <td>2</td>\n",
       "      <td>113781</td>\n",
       "      <td>151.55</td>\n",
       "      <td>C22 C26</td>\n",
       "      <td>S</td>\n",
       "    </tr>\n",
       "    <tr>\n",
       "      <th>498</th>\n",
       "      <td>499</td>\n",
       "      <td>0</td>\n",
       "      <td>1</td>\n",
       "      <td>Allison, Mrs. Hudson J C (Bessie Waldo Daniels)</td>\n",
       "      <td>female</td>\n",
       "      <td>25.00</td>\n",
       "      <td>1</td>\n",
       "      <td>2</td>\n",
       "      <td>113781</td>\n",
       "      <td>151.55</td>\n",
       "      <td>C22 C26</td>\n",
       "      <td>S</td>\n",
       "    </tr>\n",
       "  </tbody>\n",
       "</table>\n",
       "</div>"
      ],
      "text/plain": [
       "     PassengerId  Survived  Pclass  \\\n",
       "297          298         0       1   \n",
       "305          306         1       1   \n",
       "498          499         0       1   \n",
       "\n",
       "                                                Name     Sex    Age  SibSp  \\\n",
       "297                     Allison, Miss. Helen Loraine  female   2.00      1   \n",
       "305                   Allison, Master. Hudson Trevor    male   0.92      1   \n",
       "498  Allison, Mrs. Hudson J C (Bessie Waldo Daniels)  female  25.00      1   \n",
       "\n",
       "     Parch  Ticket    Fare    Cabin Embarked  \n",
       "297      2  113781  151.55  C22 C26        S  \n",
       "305      2  113781  151.55  C22 C26        S  \n",
       "498      2  113781  151.55  C22 C26        S  "
      ]
     },
     "execution_count": 11,
     "metadata": {},
     "output_type": "execute_result"
    }
   ],
   "source": [
    "# Investigate whether 1 of multiple cabins is repeated elsewhere\n",
    "df[df[\"Cabin\"].apply(lambda x: 'C22' in str(x))]"
   ]
  },
  {
   "cell_type": "code",
   "execution_count": 12,
   "id": "4c3e3046-edd4-4da0-8b84-6d2b20528b16",
   "metadata": {},
   "outputs": [
    {
     "data": {
      "text/html": [
       "<div>\n",
       "<style scoped>\n",
       "    .dataframe tbody tr th:only-of-type {\n",
       "        vertical-align: middle;\n",
       "    }\n",
       "\n",
       "    .dataframe tbody tr th {\n",
       "        vertical-align: top;\n",
       "    }\n",
       "\n",
       "    .dataframe thead th {\n",
       "        text-align: right;\n",
       "    }\n",
       "</style>\n",
       "<table border=\"1\" class=\"dataframe\">\n",
       "  <thead>\n",
       "    <tr style=\"text-align: right;\">\n",
       "      <th></th>\n",
       "      <th>PassengerId</th>\n",
       "      <th>Survived</th>\n",
       "      <th>Pclass</th>\n",
       "      <th>Name</th>\n",
       "      <th>Sex</th>\n",
       "      <th>Age</th>\n",
       "      <th>SibSp</th>\n",
       "      <th>Parch</th>\n",
       "      <th>Ticket</th>\n",
       "      <th>Fare</th>\n",
       "      <th>Cabin</th>\n",
       "      <th>Embarked</th>\n",
       "    </tr>\n",
       "  </thead>\n",
       "  <tbody>\n",
       "    <tr>\n",
       "      <th>27</th>\n",
       "      <td>28</td>\n",
       "      <td>0</td>\n",
       "      <td>1</td>\n",
       "      <td>Fortune, Mr. Charles Alexander</td>\n",
       "      <td>male</td>\n",
       "      <td>19.0</td>\n",
       "      <td>3</td>\n",
       "      <td>2</td>\n",
       "      <td>19950</td>\n",
       "      <td>263.0</td>\n",
       "      <td>C23 C25 C27</td>\n",
       "      <td>S</td>\n",
       "    </tr>\n",
       "    <tr>\n",
       "      <th>88</th>\n",
       "      <td>89</td>\n",
       "      <td>1</td>\n",
       "      <td>1</td>\n",
       "      <td>Fortune, Miss. Mabel Helen</td>\n",
       "      <td>female</td>\n",
       "      <td>23.0</td>\n",
       "      <td>3</td>\n",
       "      <td>2</td>\n",
       "      <td>19950</td>\n",
       "      <td>263.0</td>\n",
       "      <td>C23 C25 C27</td>\n",
       "      <td>S</td>\n",
       "    </tr>\n",
       "    <tr>\n",
       "      <th>341</th>\n",
       "      <td>342</td>\n",
       "      <td>1</td>\n",
       "      <td>1</td>\n",
       "      <td>Fortune, Miss. Alice Elizabeth</td>\n",
       "      <td>female</td>\n",
       "      <td>24.0</td>\n",
       "      <td>3</td>\n",
       "      <td>2</td>\n",
       "      <td>19950</td>\n",
       "      <td>263.0</td>\n",
       "      <td>C23 C25 C27</td>\n",
       "      <td>S</td>\n",
       "    </tr>\n",
       "    <tr>\n",
       "      <th>438</th>\n",
       "      <td>439</td>\n",
       "      <td>0</td>\n",
       "      <td>1</td>\n",
       "      <td>Fortune, Mr. Mark</td>\n",
       "      <td>male</td>\n",
       "      <td>64.0</td>\n",
       "      <td>1</td>\n",
       "      <td>4</td>\n",
       "      <td>19950</td>\n",
       "      <td>263.0</td>\n",
       "      <td>C23 C25 C27</td>\n",
       "      <td>S</td>\n",
       "    </tr>\n",
       "  </tbody>\n",
       "</table>\n",
       "</div>"
      ],
      "text/plain": [
       "     PassengerId  Survived  Pclass                            Name     Sex  \\\n",
       "27            28         0       1  Fortune, Mr. Charles Alexander    male   \n",
       "88            89         1       1      Fortune, Miss. Mabel Helen  female   \n",
       "341          342         1       1  Fortune, Miss. Alice Elizabeth  female   \n",
       "438          439         0       1               Fortune, Mr. Mark    male   \n",
       "\n",
       "      Age  SibSp  Parch Ticket   Fare        Cabin Embarked  \n",
       "27   19.0      3      2  19950  263.0  C23 C25 C27        S  \n",
       "88   23.0      3      2  19950  263.0  C23 C25 C27        S  \n",
       "341  24.0      3      2  19950  263.0  C23 C25 C27        S  \n",
       "438  64.0      1      4  19950  263.0  C23 C25 C27        S  "
      ]
     },
     "execution_count": 12,
     "metadata": {},
     "output_type": "execute_result"
    }
   ],
   "source": [
    "# Investigate whether one family on one ticket has differing cabin entries\n",
    "df[df[\"Name\"].apply(lambda x: 'Fortune' in str(x))]"
   ]
  },
  {
   "cell_type": "code",
   "execution_count": 13,
   "id": "e0391659-9bdc-4c0d-a956-43e63eb3ec88",
   "metadata": {},
   "outputs": [
    {
     "data": {
      "text/html": [
       "<div>\n",
       "<style scoped>\n",
       "    .dataframe tbody tr th:only-of-type {\n",
       "        vertical-align: middle;\n",
       "    }\n",
       "\n",
       "    .dataframe tbody tr th {\n",
       "        vertical-align: top;\n",
       "    }\n",
       "\n",
       "    .dataframe thead th {\n",
       "        text-align: right;\n",
       "    }\n",
       "</style>\n",
       "<table border=\"1\" class=\"dataframe\">\n",
       "  <thead>\n",
       "    <tr style=\"text-align: right;\">\n",
       "      <th></th>\n",
       "      <th>PassengerId</th>\n",
       "      <th>Survived</th>\n",
       "      <th>Pclass</th>\n",
       "      <th>Name</th>\n",
       "      <th>Sex</th>\n",
       "      <th>Age</th>\n",
       "      <th>SibSp</th>\n",
       "      <th>Parch</th>\n",
       "      <th>Ticket</th>\n",
       "      <th>Fare</th>\n",
       "      <th>Cabin</th>\n",
       "      <th>Embarked</th>\n",
       "    </tr>\n",
       "  </thead>\n",
       "  <tbody>\n",
       "    <tr>\n",
       "      <th>66</th>\n",
       "      <td>67</td>\n",
       "      <td>1</td>\n",
       "      <td>2</td>\n",
       "      <td>Nye, Mrs. (Elizabeth Ramell)</td>\n",
       "      <td>female</td>\n",
       "      <td>29.0</td>\n",
       "      <td>0</td>\n",
       "      <td>0</td>\n",
       "      <td>C.A. 29395</td>\n",
       "      <td>10.5</td>\n",
       "      <td>F33</td>\n",
       "      <td>S</td>\n",
       "    </tr>\n",
       "    <tr>\n",
       "      <th>345</th>\n",
       "      <td>346</td>\n",
       "      <td>1</td>\n",
       "      <td>2</td>\n",
       "      <td>Brown, Miss. Amelia \"Mildred\"</td>\n",
       "      <td>female</td>\n",
       "      <td>24.0</td>\n",
       "      <td>0</td>\n",
       "      <td>0</td>\n",
       "      <td>248733</td>\n",
       "      <td>13.0</td>\n",
       "      <td>F33</td>\n",
       "      <td>S</td>\n",
       "    </tr>\n",
       "    <tr>\n",
       "      <th>516</th>\n",
       "      <td>517</td>\n",
       "      <td>1</td>\n",
       "      <td>2</td>\n",
       "      <td>Lemore, Mrs. (Amelia Milley)</td>\n",
       "      <td>female</td>\n",
       "      <td>34.0</td>\n",
       "      <td>0</td>\n",
       "      <td>0</td>\n",
       "      <td>C.A. 34260</td>\n",
       "      <td>10.5</td>\n",
       "      <td>F33</td>\n",
       "      <td>S</td>\n",
       "    </tr>\n",
       "  </tbody>\n",
       "</table>\n",
       "</div>"
      ],
      "text/plain": [
       "     PassengerId  Survived  Pclass                           Name     Sex  \\\n",
       "66            67         1       2   Nye, Mrs. (Elizabeth Ramell)  female   \n",
       "345          346         1       2  Brown, Miss. Amelia \"Mildred\"  female   \n",
       "516          517         1       2   Lemore, Mrs. (Amelia Milley)  female   \n",
       "\n",
       "      Age  SibSp  Parch      Ticket  Fare Cabin Embarked  \n",
       "66   29.0      0      0  C.A. 29395  10.5   F33        S  \n",
       "345  24.0      0      0      248733  13.0   F33        S  \n",
       "516  34.0      0      0  C.A. 34260  10.5   F33        S  "
      ]
     },
     "execution_count": 13,
     "metadata": {},
     "output_type": "execute_result"
    }
   ],
   "source": [
    "# Investigate what does 3 counts in 1 cabin mean\n",
    "df[df[\"Cabin\"]==\"F33\"]"
   ]
  },
  {
   "cell_type": "code",
   "execution_count": 14,
   "id": "971b4ed9-5401-456b-b0e9-0edce5ebdeb8",
   "metadata": {},
   "outputs": [
    {
     "data": {
      "text/html": [
       "<div>\n",
       "<style scoped>\n",
       "    .dataframe tbody tr th:only-of-type {\n",
       "        vertical-align: middle;\n",
       "    }\n",
       "\n",
       "    .dataframe tbody tr th {\n",
       "        vertical-align: top;\n",
       "    }\n",
       "\n",
       "    .dataframe thead th {\n",
       "        text-align: right;\n",
       "    }\n",
       "</style>\n",
       "<table border=\"1\" class=\"dataframe\">\n",
       "  <thead>\n",
       "    <tr style=\"text-align: right;\">\n",
       "      <th></th>\n",
       "      <th>PassengerId</th>\n",
       "      <th>Survived</th>\n",
       "      <th>Pclass</th>\n",
       "      <th>Name</th>\n",
       "      <th>Sex</th>\n",
       "      <th>Age</th>\n",
       "      <th>SibSp</th>\n",
       "      <th>Parch</th>\n",
       "      <th>Ticket</th>\n",
       "      <th>Fare</th>\n",
       "      <th>Cabin</th>\n",
       "      <th>Embarked</th>\n",
       "    </tr>\n",
       "  </thead>\n",
       "  <tbody>\n",
       "    <tr>\n",
       "      <th>310</th>\n",
       "      <td>311</td>\n",
       "      <td>1</td>\n",
       "      <td>1</td>\n",
       "      <td>Hays, Miss. Margaret Bechstein</td>\n",
       "      <td>female</td>\n",
       "      <td>24.0</td>\n",
       "      <td>0</td>\n",
       "      <td>0</td>\n",
       "      <td>11767</td>\n",
       "      <td>83.1583</td>\n",
       "      <td>C54</td>\n",
       "      <td>C</td>\n",
       "    </tr>\n",
       "  </tbody>\n",
       "</table>\n",
       "</div>"
      ],
      "text/plain": [
       "     PassengerId  Survived  Pclass                            Name     Sex  \\\n",
       "310          311         1       1  Hays, Miss. Margaret Bechstein  female   \n",
       "\n",
       "      Age  SibSp  Parch Ticket     Fare Cabin Embarked  \n",
       "310  24.0      0      0  11767  83.1583   C54        C  "
      ]
     },
     "execution_count": 14,
     "metadata": {},
     "output_type": "execute_result"
    }
   ],
   "source": [
    "# Investigate what does 1 count in 1 cabin mean\n",
    "df[df[\"Cabin\"]==\"C54\"]"
   ]
  },
  {
   "cell_type": "code",
   "execution_count": 15,
   "id": "5a93c91e-2380-4818-863a-8dbb31587fb4",
   "metadata": {},
   "outputs": [
    {
     "name": "stdout",
     "output_type": "stream",
     "text": [
      "\n",
      "Percentage of `Cabin`==`NaN` ::\n",
      "77.1\n",
      "\n",
      "Percentage of `Cabin`!=`NaN` ::\n",
      "22.9\n",
      "\n",
      "- - - - - - - - - - - - - - - - - - - - - - - -\n",
      "\n",
      "Percentage of `Pclass` where `Cabin`==`NaN` ::\n",
      "Pclass\n",
      "1    18.52\n",
      "2    91.30\n",
      "3    97.56\n",
      "Name: count, dtype: float64\n",
      "\n",
      "Percentage of `Survived` where `Cabin`==`NaN` ::\n",
      "Survived\n",
      "0    87.61\n",
      "1    60.23\n",
      "Name: count, dtype: float64\n",
      "\n"
     ]
    }
   ],
   "source": [
    "# Investigate what NaN `Cabin` values mean\n",
    "no_cabins, cabins = df[(df[\"Cabin\"]).isna()], df[(df[\"Cabin\"]).notna()]\n",
    "print(f'\\nPercentage of `Cabin`==`NaN` ::\\n'\n",
    "      f'{round((len(df[df[\"Cabin\"].isna()]) / len(df[\"Cabin\"]))*100,2)}')\n",
    "print(f'\\nPercentage of `Cabin`!=`NaN` ::\\n'\n",
    "      f'{round((len(df[df[\"Cabin\"].notna()]) / len(df[\"Cabin\"]))*100,2)}\\n')\n",
    "print(f'- - - - - - - - - - - - - - - - - - - - - - - -')\n",
    "print(f'\\nPercentage of `Pclass` where `Cabin`==`NaN` ::\\n'\n",
    "      f'{round((no_cabins[\"Pclass\"].value_counts() / df[\"Pclass\"].value_counts())*100,2)}')\n",
    "print(f'\\nPercentage of `Survived` where `Cabin`==`NaN` ::\\n'\n",
    "      f'{round((no_cabins[\"Survived\"].value_counts() / df[\"Survived\"].value_counts())*100,2)}\\n')"
   ]
  },
  {
   "cell_type": "markdown",
   "id": "3c931509-553b-408a-8742-6375b8be9691",
   "metadata": {},
   "source": [
    "`Cabin` has relatively low uniqueness but contains nearly $80\\%$ in `NaN` values, which will be difficult to impute correctly (though could be fun to try in a future project). Based on our investigation, we see a varying `Survived` label from passengers sharing one or multiple cabins, and we see that `Cabin` values- if they exist- are unique, though some passengers have several. Those with several cabins listed under their names appear to be already correlated with both `Fare` and `Pclass`, as we see in our example of the \"Fortune\" family. Some `Pclass`==3 members, such as in our investigation of \"G6\", had a single cabin with 2 women having one daughter each on 2 separate tickets with a small difference in fare, and the families differed in survival outcomes. Additionally, some cabins had 3 unrelated tenants such as our \"F33\" example, and other cabins had a single tenant such as \"C54\". Given the variability of tenants per cabin and the number of cabins per passenger, the string-valued contents within `Cabin` appear to be less correlated to `Survived` than the Bernoulli fact that a passenger <i>had</i> a cabin or not. Therefore we'll drop `Cabin` in favor of another simple Bernoulli indicating whether the passenger had a cabin or not, which we'll call `has_cabin`."
   ]
  },
  {
   "cell_type": "code",
   "execution_count": 16,
   "id": "f6aa7468-66bd-406b-9001-d40f5c3985d0",
   "metadata": {},
   "outputs": [
    {
     "data": {
      "text/html": [
       "<div>\n",
       "<style scoped>\n",
       "    .dataframe tbody tr th:only-of-type {\n",
       "        vertical-align: middle;\n",
       "    }\n",
       "\n",
       "    .dataframe tbody tr th {\n",
       "        vertical-align: top;\n",
       "    }\n",
       "\n",
       "    .dataframe thead th {\n",
       "        text-align: right;\n",
       "    }\n",
       "</style>\n",
       "<table border=\"1\" class=\"dataframe\">\n",
       "  <thead>\n",
       "    <tr style=\"text-align: right;\">\n",
       "      <th></th>\n",
       "      <th>Survived</th>\n",
       "      <th>Pclass</th>\n",
       "      <th>Sex</th>\n",
       "      <th>Age</th>\n",
       "      <th>Fare</th>\n",
       "      <th>Embarked</th>\n",
       "      <th>qty_family</th>\n",
       "      <th>has_cabin</th>\n",
       "    </tr>\n",
       "  </thead>\n",
       "  <tbody>\n",
       "    <tr>\n",
       "      <th>445</th>\n",
       "      <td>1</td>\n",
       "      <td>1</td>\n",
       "      <td>male</td>\n",
       "      <td>4.0</td>\n",
       "      <td>81.8583</td>\n",
       "      <td>S</td>\n",
       "      <td>0</td>\n",
       "      <td>True</td>\n",
       "    </tr>\n",
       "    <tr>\n",
       "      <th>650</th>\n",
       "      <td>0</td>\n",
       "      <td>3</td>\n",
       "      <td>male</td>\n",
       "      <td>NaN</td>\n",
       "      <td>7.8958</td>\n",
       "      <td>S</td>\n",
       "      <td>0</td>\n",
       "      <td>False</td>\n",
       "    </tr>\n",
       "    <tr>\n",
       "      <th>172</th>\n",
       "      <td>1</td>\n",
       "      <td>3</td>\n",
       "      <td>female</td>\n",
       "      <td>1.0</td>\n",
       "      <td>11.1333</td>\n",
       "      <td>S</td>\n",
       "      <td>2</td>\n",
       "      <td>False</td>\n",
       "    </tr>\n",
       "    <tr>\n",
       "      <th>450</th>\n",
       "      <td>0</td>\n",
       "      <td>2</td>\n",
       "      <td>male</td>\n",
       "      <td>36.0</td>\n",
       "      <td>27.7500</td>\n",
       "      <td>S</td>\n",
       "      <td>2</td>\n",
       "      <td>False</td>\n",
       "    </tr>\n",
       "    <tr>\n",
       "      <th>314</th>\n",
       "      <td>0</td>\n",
       "      <td>2</td>\n",
       "      <td>male</td>\n",
       "      <td>43.0</td>\n",
       "      <td>26.2500</td>\n",
       "      <td>S</td>\n",
       "      <td>2</td>\n",
       "      <td>False</td>\n",
       "    </tr>\n",
       "    <tr>\n",
       "      <th>...</th>\n",
       "      <td>...</td>\n",
       "      <td>...</td>\n",
       "      <td>...</td>\n",
       "      <td>...</td>\n",
       "      <td>...</td>\n",
       "      <td>...</td>\n",
       "      <td>...</td>\n",
       "      <td>...</td>\n",
       "    </tr>\n",
       "    <tr>\n",
       "      <th>106</th>\n",
       "      <td>1</td>\n",
       "      <td>3</td>\n",
       "      <td>female</td>\n",
       "      <td>21.0</td>\n",
       "      <td>7.6500</td>\n",
       "      <td>S</td>\n",
       "      <td>0</td>\n",
       "      <td>False</td>\n",
       "    </tr>\n",
       "    <tr>\n",
       "      <th>270</th>\n",
       "      <td>0</td>\n",
       "      <td>1</td>\n",
       "      <td>male</td>\n",
       "      <td>NaN</td>\n",
       "      <td>31.0000</td>\n",
       "      <td>S</td>\n",
       "      <td>1</td>\n",
       "      <td>False</td>\n",
       "    </tr>\n",
       "    <tr>\n",
       "      <th>860</th>\n",
       "      <td>0</td>\n",
       "      <td>3</td>\n",
       "      <td>male</td>\n",
       "      <td>41.0</td>\n",
       "      <td>14.1083</td>\n",
       "      <td>S</td>\n",
       "      <td>0</td>\n",
       "      <td>False</td>\n",
       "    </tr>\n",
       "    <tr>\n",
       "      <th>435</th>\n",
       "      <td>1</td>\n",
       "      <td>1</td>\n",
       "      <td>female</td>\n",
       "      <td>14.0</td>\n",
       "      <td>120.0000</td>\n",
       "      <td>S</td>\n",
       "      <td>3</td>\n",
       "      <td>True</td>\n",
       "    </tr>\n",
       "    <tr>\n",
       "      <th>102</th>\n",
       "      <td>0</td>\n",
       "      <td>1</td>\n",
       "      <td>male</td>\n",
       "      <td>21.0</td>\n",
       "      <td>77.2875</td>\n",
       "      <td>S</td>\n",
       "      <td>1</td>\n",
       "      <td>True</td>\n",
       "    </tr>\n",
       "  </tbody>\n",
       "</table>\n",
       "<p>623 rows × 8 columns</p>\n",
       "</div>"
      ],
      "text/plain": [
       "     Survived  Pclass     Sex   Age      Fare Embarked  qty_family  has_cabin\n",
       "445         1       1    male   4.0   81.8583        S           0       True\n",
       "650         0       3    male   NaN    7.8958        S           0      False\n",
       "172         1       3  female   1.0   11.1333        S           2      False\n",
       "450         0       2    male  36.0   27.7500        S           2      False\n",
       "314         0       2    male  43.0   26.2500        S           2      False\n",
       "..        ...     ...     ...   ...       ...      ...         ...        ...\n",
       "106         1       3  female  21.0    7.6500        S           0      False\n",
       "270         0       1    male   NaN   31.0000        S           1      False\n",
       "860         0       3    male  41.0   14.1083        S           0      False\n",
       "435         1       1  female  14.0  120.0000        S           3       True\n",
       "102         0       1    male  21.0   77.2875        S           1       True\n",
       "\n",
       "[623 rows x 8 columns]"
      ]
     },
     "metadata": {},
     "output_type": "display_data"
    }
   ],
   "source": [
    "# Convert `Ticket` to quantifier of on-board family memebers `qty_family`\n",
    "qty_family = df.groupby('Ticket')['Ticket'].transform('count') - 1\n",
    "X_train['qty_family'] = qty_family[X_train.index]\n",
    "X_test['qty_family'] = qty_family[X_test.index]\n",
    "\n",
    "# Convert 'Cabin' to Bernoulli 'has_cabin' & add to X\n",
    "X_train['has_cabin'] = X_train['Cabin'].notna()\n",
    "X_test['has_cabin'] = X_test['Cabin'].notna()\n",
    "\n",
    "# Drop irrelevant features\n",
    "X_train = X_train.drop(['PassengerId','Name','SibSp','Parch','Ticket','Cabin'], axis=1)\n",
    "X_test = X_test.drop(['PassengerId','Name','SibSp','Parch','Ticket','Cabin'], axis=1)\n",
    "\n",
    "# Demonstrate sample\n",
    "corr_check = pd.concat([y_train, X_train], axis=1)\n",
    "display(corr_check)"
   ]
  },
  {
   "cell_type": "code",
   "execution_count": 17,
   "id": "f69d496d-6fb3-4690-8e78-a726b773fb60",
   "metadata": {},
   "outputs": [
    {
     "data": {
      "image/png": "[encoded data removed]",
      "text/plain": [
       "<Figure size 640x480 with 1 Axes>"
      ]
     },
     "metadata": {},
     "output_type": "display_data"
    }
   ],
   "source": [
    "# Compare survival rate for passengers with and without cabins against their fare\n",
    "import seaborn as sns\n",
    "sns.set_theme(style=\"whitegrid\", palette=\"muted\")\n",
    "ax = sns.stripplot(data=corr_check, x=\"has_cabin\", y=\"Fare\", hue=\"Survived\")"
   ]
  },
  {
   "cell_type": "markdown",
   "id": "8baff35a-d3ef-44b5-9f98-a8a09260ab08",
   "metadata": {},
   "source": [
    "The Boolean `has_cabin` shows a strong relationship to `Survived`, with a much more distributed density with `Fare` and a higher proportion of gold dots signifying survival. When `has_cabin`=\"False\", we observe a higher density of `Survived`=0 and lower `Fare` combined. "
   ]
  },
  {
   "cell_type": "code",
   "execution_count": 18,
   "id": "376bb96c-df6e-4b6d-9aa7-75b740598e07",
   "metadata": {},
   "outputs": [
    {
     "data": {
      "image/png": "[encoded data removed]",
      "text/plain": [
       "<Figure size 640x480 with 1 Axes>"
      ]
     },
     "metadata": {},
     "output_type": "display_data"
    }
   ],
   "source": [
    "# Compare survival rate for passengers with and without families against their fare\n",
    "ax = sns.stripplot(data=corr_check, x=\"qty_family\", y=\"Fare\", hue=\"Survived\")"
   ]
  },
  {
   "cell_type": "markdown",
   "id": "d8f231eb-bde6-4a5d-bd0c-e1a286c7ada2",
   "metadata": {},
   "source": [
    "`qty_family` demonstrates a strong density distribution of `Fare` with 1-3 family members, and proportionally increased survival rates as well- the gold dots appear to be near-equal or greater than the blue dots indicating survival between these ranges, spreading out as `Fare` increases. Larger families apear to have lower `Fare` rates and lower instances of survival.\n",
    "\n",
    "Now we'll check out the highest 3 points in both graphs, indicating where `has_cabin`=\"True\" and `qty_family`==2 (for 2 of the 3) but `Survived`==$1$ (true) for all 3 high-fare points. These points appear to be extremes in `Fare`."
   ]
  },
  {
   "cell_type": "code",
   "execution_count": 19,
   "id": "6f37f5c3-a76b-4f4f-8bfe-c324694a09e1",
   "metadata": {},
   "outputs": [
    {
     "data": {
      "text/plain": [
       "(512.3292, 262.375)"
      ]
     },
     "execution_count": 19,
     "metadata": {},
     "output_type": "execute_result"
    }
   ],
   "source": [
    "# Check for outliers in `Fare`\n",
    "X_train.Fare.max(), X_test.Fare.max()"
   ]
  },
  {
   "cell_type": "markdown",
   "id": "7c2f51b9-4c6e-4f22-aacf-b3a2978aac31",
   "metadata": {},
   "source": [
    "We're going to ignore the outlier in `X_train` in order to get in step with `X_test` and to get better comparisons between our variables' means moving forward."
   ]
  },
  {
   "cell_type": "code",
   "execution_count": 20,
   "id": "6ecaa1e5-e6e2-430a-a415-5be09fca1ba1",
   "metadata": {},
   "outputs": [
    {
     "data": {
      "text/plain": [
       "737    512.3292\n",
       "679    512.3292\n",
       "258    512.3292\n",
       "88     263.0000\n",
       "341    263.0000\n",
       "438    263.0000\n",
       "27     263.0000\n",
       "557    227.5250\n",
       "700    227.5250\n",
       "779    211.3375\n",
       "Name: Fare, dtype: float64"
      ]
     },
     "execution_count": 20,
     "metadata": {},
     "output_type": "execute_result"
    }
   ],
   "source": [
    "X_train.Fare.nlargest(10)"
   ]
  },
  {
   "cell_type": "code",
   "execution_count": 21,
   "id": "1595a944-ed06-49cd-a0f6-620661740845",
   "metadata": {},
   "outputs": [
    {
     "data": {
      "text/plain": [
       "(263.0, 262.375)"
      ]
     },
     "execution_count": 21,
     "metadata": {},
     "output_type": "execute_result"
    }
   ],
   "source": [
    "# Change the 3 values where `Fare` is $512, twice as much as next-highest $263\n",
    "X_train.loc[X_train.Fare==X_train.Fare.max(),'Fare'] = X_train.Fare.nlargest(4).iloc[-1]\n",
    "X_train.Fare.max(), X_test.Fare.max()"
   ]
  },
  {
   "cell_type": "code",
   "execution_count": 22,
   "id": "2fae0556-5ebd-44ba-936f-856305349d3f",
   "metadata": {},
   "outputs": [
    {
     "data": {
      "text/plain": [
       "<Axes: xlabel='Pclass', ylabel='Fare'>"
      ]
     },
     "execution_count": 22,
     "metadata": {},
     "output_type": "execute_result"
    },
    {
     "data": {
      "image/png": "[encoded data removed]",
      "text/plain": [
       "<Figure size 640x480 with 1 Axes>"
      ]
     },
     "metadata": {},
     "output_type": "display_data"
    }
   ],
   "source": [
    "# Check correlation of `Pclass` and `Fare` against `Survived` T/F\n",
    "corr2_check = pd.concat([y_train, X_train[[\"Pclass\",\"Fare\"]]], axis=1)\n",
    "sns.set_theme(style=\"ticks\", palette=\"pastel\")\n",
    "sns.boxplot(x=\"Pclass\", y=\"Fare\",\n",
    "            hue=\"Survived\", palette=[\"m\", \"g\"],\n",
    "            data=corr2_check)"
   ]
  },
  {
   "cell_type": "markdown",
   "id": "a0aa6604-2639-4e90-bdbc-949cf43c4f5e",
   "metadata": {},
   "source": [
    "`Pclass` and `Fare` appear strongly correlated via this boxplot. Moreover, in terms of `Survived`, there only appears to be a significant shift when `Pclass`==$1$ <i>and</i> `Fare` is higher, and `Pclass`==2 has demonstrates its quantiles along higher `Fare` when `Survived`==1 as well. `Pclass`==3 and `Fare` do not show as significant a disparity between `Survived` preconditions. Given the apparent correlation between `Pclass` and `Fare`, this evidence suggests that two variables are <b>not</b> conditionally independent to `Survived`. Since `Fare` is continuous and demonstrates a stronger relationship to `Survived` between the `Pclass` variables, we'll drop `Pclass` in favor of retaining `Fare`.\n",
    "\n",
    "Finally, we'll check correlation between our remaining variables against `Survived`."
   ]
  },
  {
   "cell_type": "code",
   "execution_count": 23,
   "id": "4d849c0f-bfe9-43a6-9fb0-ef52aa3828cc",
   "metadata": {},
   "outputs": [
    {
     "data": {
      "text/html": [
       "<div>\n",
       "<style scoped>\n",
       "    .dataframe tbody tr th:only-of-type {\n",
       "        vertical-align: middle;\n",
       "    }\n",
       "\n",
       "    .dataframe tbody tr th {\n",
       "        vertical-align: top;\n",
       "    }\n",
       "\n",
       "    .dataframe thead th {\n",
       "        text-align: right;\n",
       "    }\n",
       "</style>\n",
       "<table border=\"1\" class=\"dataframe\">\n",
       "  <thead>\n",
       "    <tr style=\"text-align: right;\">\n",
       "      <th></th>\n",
       "      <th>Sex</th>\n",
       "      <th>Age</th>\n",
       "      <th>Fare</th>\n",
       "      <th>Embarked</th>\n",
       "      <th>qty_family</th>\n",
       "      <th>has_cabin</th>\n",
       "    </tr>\n",
       "  </thead>\n",
       "  <tbody>\n",
       "    <tr>\n",
       "      <th>662</th>\n",
       "      <td>male</td>\n",
       "      <td>47.0</td>\n",
       "      <td>25.5875</td>\n",
       "      <td>S</td>\n",
       "      <td>0</td>\n",
       "      <td>True</td>\n",
       "    </tr>\n",
       "    <tr>\n",
       "      <th>860</th>\n",
       "      <td>male</td>\n",
       "      <td>41.0</td>\n",
       "      <td>14.1083</td>\n",
       "      <td>S</td>\n",
       "      <td>0</td>\n",
       "      <td>False</td>\n",
       "    </tr>\n",
       "    <tr>\n",
       "      <th>180</th>\n",
       "      <td>female</td>\n",
       "      <td>NaN</td>\n",
       "      <td>69.5500</td>\n",
       "      <td>S</td>\n",
       "      <td>6</td>\n",
       "      <td>False</td>\n",
       "    </tr>\n",
       "    <tr>\n",
       "      <th>575</th>\n",
       "      <td>male</td>\n",
       "      <td>19.0</td>\n",
       "      <td>14.5000</td>\n",
       "      <td>S</td>\n",
       "      <td>1</td>\n",
       "      <td>False</td>\n",
       "    </tr>\n",
       "    <tr>\n",
       "      <th>827</th>\n",
       "      <td>male</td>\n",
       "      <td>1.0</td>\n",
       "      <td>37.0042</td>\n",
       "      <td>C</td>\n",
       "      <td>1</td>\n",
       "      <td>False</td>\n",
       "    </tr>\n",
       "  </tbody>\n",
       "</table>\n",
       "</div>"
      ],
      "text/plain": [
       "        Sex   Age     Fare Embarked  qty_family  has_cabin\n",
       "662    male  47.0  25.5875        S           0       True\n",
       "860    male  41.0  14.1083        S           0      False\n",
       "180  female   NaN  69.5500        S           6      False\n",
       "575    male  19.0  14.5000        S           1      False\n",
       "827    male   1.0  37.0042        C           1      False"
      ]
     },
     "execution_count": 23,
     "metadata": {},
     "output_type": "execute_result"
    }
   ],
   "source": [
    "# Drop final irrelevant features\n",
    "X_train = X_train.drop(['Pclass'], axis=1)\n",
    "X_test = X_test.drop(['Pclass'], axis=1)\n",
    "X_train.sample(5)"
   ]
  },
  {
   "cell_type": "code",
   "execution_count": 24,
   "id": "3b6b7ced-1991-4de9-8702-e59cf3dc8fdb",
   "metadata": {},
   "outputs": [
    {
     "data": {
      "image/png": "[encoded data removed]",
      "text/plain": [
       "<Figure size 1000x500 with 4 Axes>"
      ]
     },
     "metadata": {},
     "output_type": "display_data"
    }
   ],
   "source": [
    "# Set up a grid to plot survival probability against all categorical variables\n",
    "corr_check = pd.concat([y_train, X_train], axis=1)\n",
    "g = sns.PairGrid(corr_check, y_vars=\"Survived\",\n",
    "                 x_vars=[\"Sex\",\"Embarked\",\"qty_family\",\"has_cabin\"],\n",
    "                 height=5, aspect=.5)\n",
    "# Draw a seaborn pointplot onto each Axes\n",
    "g.map(sns.pointplot, scale=1.3, errwidth=4, color=\"xkcd:plum\")\n",
    "g.set(ylim=(0, 1))\n",
    "sns.despine(fig=g.fig, left=True)"
   ]
  },
  {
   "cell_type": "markdown",
   "id": "74b4e40c-cf64-4d30-8514-8804363d94f0",
   "metadata": {},
   "source": [
    "This plot suggests:\n",
    "- the probability of survival for women was much higher than that of men at nearly 4:1\n",
    "- the probability of survival for passengers who had cabins was much higher at nearly 3:1\n",
    "- the probability of survival for those who embarked at location C was higher than Q, and S had the smallest variance\n",
    "- the probability of survival for passengers who had 2 family members on board was much higher than that of solo passengers, and those with 4-5 members had none"
   ]
  },
  {
   "cell_type": "code",
   "execution_count": 25,
   "id": "35c3cce3-ba24-44e0-9fab-6a3873d14eb3",
   "metadata": {},
   "outputs": [
    {
     "data": {
      "image/png": "[encoded data removed]",
      "text/plain": [
       "<Figure size 577.472x500 with 6 Axes>"
      ]
     },
     "metadata": {},
     "output_type": "display_data"
    }
   ],
   "source": [
    "# Determine further possible correlation between continuous variables\n",
    "corr2_check = pd.concat([y_train, X_train[[\"Age\",\"Fare\"]]], axis=1)\n",
    "sns.pairplot(corr2_check, hue=\"Survived\");"
   ]
  },
  {
   "cell_type": "markdown",
   "id": "f2c25229-2209-43da-b3fd-9b93df1bc963",
   "metadata": {},
   "source": [
    "`Age` appears normally distributed among the survived and the deceased. `Fare` represents a lognormal probability density function with $\\mu(0)$,$\\sigma(1)$ among the survived and with $\\mu(0)$,$\\sigma(2)$ among the deceased."
   ]
  },
  {
   "cell_type": "markdown",
   "id": "a6849137-528d-4cc0-a398-fc888f3b0a13",
   "metadata": {},
   "source": [
    "> 4. Figure out if there are any missing values in the explanatory variables you want to use and either delete those passengers from the data set or fill in the missing values. If a numerical variable has missing values, you might fill those in with the average or median of that variable. If a categorical variable has missing values, you might fill those in using the most common value. You can create your own script for missin gvalues or you can use `sklearn SimpleImputer`."
   ]
  },
  {
   "cell_type": "code",
   "execution_count": 26,
   "id": "67cc60ac-dca6-4efa-9abe-0741569132b7",
   "metadata": {},
   "outputs": [
    {
     "data": {
      "text/plain": [
       "Sex             0\n",
       "Age           177\n",
       "Fare            0\n",
       "Embarked        2\n",
       "qty_family      0\n",
       "has_cabin       0\n",
       "dtype: int64"
      ]
     },
     "execution_count": 26,
     "metadata": {},
     "output_type": "execute_result"
    }
   ],
   "source": [
    "# Check for blank values\n",
    "X_train.isna().sum()+X_test.isna().sum()"
   ]
  },
  {
   "cell_type": "markdown",
   "id": "f0062c80-9bfd-4234-abf6-6f555180f36a",
   "metadata": {},
   "source": [
    "`Embarked` and `Age` have missing values."
   ]
  },
  {
   "cell_type": "code",
   "execution_count": 27,
   "id": "11766579-559f-440d-ace0-2f5ea795d608",
   "metadata": {},
   "outputs": [
    {
     "data": {
      "text/html": [
       "<div>\n",
       "<style scoped>\n",
       "    .dataframe tbody tr th:only-of-type {\n",
       "        vertical-align: middle;\n",
       "    }\n",
       "\n",
       "    .dataframe tbody tr th {\n",
       "        vertical-align: top;\n",
       "    }\n",
       "\n",
       "    .dataframe thead th {\n",
       "        text-align: right;\n",
       "    }\n",
       "</style>\n",
       "<table border=\"1\" class=\"dataframe\">\n",
       "  <thead>\n",
       "    <tr style=\"text-align: right;\">\n",
       "      <th></th>\n",
       "      <th>PassengerId</th>\n",
       "      <th>Survived</th>\n",
       "      <th>Pclass</th>\n",
       "      <th>Name</th>\n",
       "      <th>Sex</th>\n",
       "      <th>Age</th>\n",
       "      <th>SibSp</th>\n",
       "      <th>Parch</th>\n",
       "      <th>Ticket</th>\n",
       "      <th>Fare</th>\n",
       "      <th>Cabin</th>\n",
       "      <th>Embarked</th>\n",
       "    </tr>\n",
       "  </thead>\n",
       "  <tbody>\n",
       "    <tr>\n",
       "      <th>61</th>\n",
       "      <td>62</td>\n",
       "      <td>1</td>\n",
       "      <td>1</td>\n",
       "      <td>Icard, Miss. Amelie</td>\n",
       "      <td>female</td>\n",
       "      <td>38.0</td>\n",
       "      <td>0</td>\n",
       "      <td>0</td>\n",
       "      <td>113572</td>\n",
       "      <td>80.0</td>\n",
       "      <td>B28</td>\n",
       "      <td>NaN</td>\n",
       "    </tr>\n",
       "    <tr>\n",
       "      <th>829</th>\n",
       "      <td>830</td>\n",
       "      <td>1</td>\n",
       "      <td>1</td>\n",
       "      <td>Stone, Mrs. George Nelson (Martha Evelyn)</td>\n",
       "      <td>female</td>\n",
       "      <td>62.0</td>\n",
       "      <td>0</td>\n",
       "      <td>0</td>\n",
       "      <td>113572</td>\n",
       "      <td>80.0</td>\n",
       "      <td>B28</td>\n",
       "      <td>NaN</td>\n",
       "    </tr>\n",
       "  </tbody>\n",
       "</table>\n",
       "</div>"
      ],
      "text/plain": [
       "     PassengerId  Survived  Pclass                                       Name  \\\n",
       "61            62         1       1                        Icard, Miss. Amelie   \n",
       "829          830         1       1  Stone, Mrs. George Nelson (Martha Evelyn)   \n",
       "\n",
       "        Sex   Age  SibSp  Parch  Ticket  Fare Cabin Embarked  \n",
       "61   female  38.0      0      0  113572  80.0   B28      NaN  \n",
       "829  female  62.0      0      0  113572  80.0   B28      NaN  "
      ]
     },
     "execution_count": 27,
     "metadata": {},
     "output_type": "execute_result"
    }
   ],
   "source": [
    "# Investigate `Embarked`==NaN to see if we can find related family members\n",
    "df[df.Embarked.isna()]"
   ]
  },
  {
   "cell_type": "code",
   "execution_count": 28,
   "id": "e46ef2ed-dbca-4e0d-b7d0-ff936749026b",
   "metadata": {},
   "outputs": [
    {
     "data": {
      "text/plain": [
       "Embarked\n",
       "S    6\n",
       "C    5\n",
       "Name: count, dtype: int64"
      ]
     },
     "execution_count": 28,
     "metadata": {},
     "output_type": "execute_result"
    }
   ],
   "source": [
    "# Investigate `Embarked`==NaN to see if we can find related docking locations among nearby cabins\n",
    "df[df[\"Cabin\"].apply(lambda x: 'B2' in str(x)) | df[\"Cabin\"].apply(lambda x: 'B3' in str(x))].Embarked.value_counts()"
   ]
  },
  {
   "cell_type": "markdown",
   "id": "6e73e0c8-a710-468b-8415-ec7ba06b59d4",
   "metadata": {},
   "source": [
    "We narrowed it down to \"not Q\". We'll opt to use the most frequently-occuring value (the mode)."
   ]
  },
  {
   "cell_type": "code",
   "execution_count": 29,
   "id": "77e04703-ec1d-4a16-8ad8-b3f0a320574c",
   "metadata": {},
   "outputs": [
    {
     "name": "stdout",
     "output_type": "stream",
     "text": [
      "Mode :: S\n"
     ]
    },
    {
     "data": {
      "text/plain": [
       "Embarked\n",
       "S    0.722783\n",
       "C    0.188552\n",
       "Q    0.086420\n",
       "Name: count, dtype: float64"
      ]
     },
     "execution_count": 29,
     "metadata": {},
     "output_type": "execute_result"
    }
   ],
   "source": [
    "# Investigate `Embarked` to observe the most frequent value\n",
    "print(f'Mode :: {df.Embarked.mode().values[0]}')\n",
    "df.Embarked.value_counts()/df.Embarked.size"
   ]
  },
  {
   "cell_type": "code",
   "execution_count": 30,
   "id": "650ae4f6-cbc4-4fc7-8d71-6bda8190220e",
   "metadata": {},
   "outputs": [
    {
     "data": {
      "text/plain": [
       "Sex             0\n",
       "Age           177\n",
       "Fare            0\n",
       "Embarked        0\n",
       "qty_family      0\n",
       "has_cabin       0\n",
       "dtype: int64"
      ]
     },
     "execution_count": 30,
     "metadata": {},
     "output_type": "execute_result"
    }
   ],
   "source": [
    "# Change the 2 values where `Embarked` is NaN\n",
    "X_train.loc[X_train.Embarked.isna(),'Embarked'] = df.Embarked.mode().values[0]\n",
    "X_test.loc[X_test.Embarked.isna(),'Embarked'] = df.Embarked.mode().values[0]\n",
    "\n",
    "# Check for blank locations\n",
    "X_train.isna().sum()+X_test.isna().sum()"
   ]
  },
  {
   "cell_type": "markdown",
   "id": "a1281c13-08ac-41bb-969a-065888968e51",
   "metadata": {},
   "source": [
    "Since `Age` is continuous, we'll use `SimpleImputer` to apply mean-valued imputations."
   ]
  },
  {
   "cell_type": "code",
   "execution_count": 31,
   "id": "693ddf7c-268a-4251-b4c2-c6cace7aae1c",
   "metadata": {},
   "outputs": [
    {
     "data": {
      "text/plain": [
       "Sex           0\n",
       "Age           0\n",
       "Fare          0\n",
       "Embarked      0\n",
       "qty_family    0\n",
       "has_cabin     0\n",
       "dtype: int64"
      ]
     },
     "execution_count": 31,
     "metadata": {},
     "output_type": "execute_result"
    }
   ],
   "source": [
    "# Fill in missing values for `Age` (continuous)\n",
    "from sklearn.impute import SimpleImputer\n",
    "imputer = SimpleImputer(strategy='mean').fit(X_train[['Age']])\n",
    "X_train['Age'] = imputer.transform(X_train[['Age']])\n",
    "X_test['Age'] = imputer.transform(X_test[['Age']])\n",
    "\n",
    "# Check for blank locations\n",
    "X_train.isna().sum()+X_test.isna().sum()"
   ]
  },
  {
   "cell_type": "markdown",
   "id": "65108d48-5025-4aa9-b2c7-f1ef1bc7adc2",
   "metadata": {},
   "source": [
    "> 5. Convert the categorical variables to numerical using encoding."
   ]
  },
  {
   "cell_type": "code",
   "execution_count": 32,
   "id": "4eabafd3-6568-473b-90a9-dbe0b9d3ade0",
   "metadata": {},
   "outputs": [
    {
     "name": "stdout",
     "output_type": "stream",
     "text": [
      "<class 'pandas.core.frame.DataFrame'>\n",
      "Index: 623 entries, 445 to 102\n",
      "Data columns (total 6 columns):\n",
      " #   Column      Non-Null Count  Dtype  \n",
      "---  ------      --------------  -----  \n",
      " 0   Sex         623 non-null    object \n",
      " 1   Age         623 non-null    float64\n",
      " 2   Fare        623 non-null    float64\n",
      " 3   Embarked    623 non-null    object \n",
      " 4   qty_family  623 non-null    int64  \n",
      " 5   has_cabin   623 non-null    bool   \n",
      "dtypes: bool(1), float64(2), int64(1), object(2)\n",
      "memory usage: 46.0+ KB\n"
     ]
    }
   ],
   "source": [
    "# Demonstrate the column data types\n",
    "X_train.info()"
   ]
  },
  {
   "cell_type": "code",
   "execution_count": 33,
   "id": "859ec2d0-283a-4ee3-89ff-b50bef937ac9",
   "metadata": {},
   "outputs": [
    {
     "name": "stdout",
     "output_type": "stream",
     "text": [
      "\n",
      "Sample observation after feature conversion ::\n",
      "[1.28635483 1.16288133 0.11285234 0.         1.         1.\n",
      " 0.         0.         1.        ]\n"
     ]
    }
   ],
   "source": [
    "# Assign pipeline tasks for encoding the features\n",
    "from sklearn.preprocessing import StandardScaler, OneHotEncoder, Binarizer\n",
    "from sklearn.feature_selection import SelectPercentile, chi2\n",
    "from sklearn.compose import ColumnTransformer, make_column_selector\n",
    "from sklearn.pipeline import Pipeline\n",
    "preprocessor = ColumnTransformer(transformers=[\n",
    "    ('num', StandardScaler(), make_column_selector(dtype_include=np.number)),\n",
    "    ('cat', OneHotEncoder(), make_column_selector(dtype_include=object)),\n",
    "    ('bool', Binarizer(threshold=0.5), make_column_selector(dtype_include=bool))])\n",
    "preprocessor.fit(X_train)\n",
    "# Preprocess the feature data\n",
    "X_train_processed = preprocessor.transform(X_train)\n",
    "X_test_processed = preprocessor.transform(X_test)\n",
    "print(f'\\nSample observation after feature conversion ::\\n'\n",
    "      f'{X_train_processed[np.random.randint(X_train_processed.shape[0], size=1)[0],:]}')"
   ]
  },
  {
   "cell_type": "markdown",
   "id": "58834989-1b1a-4b02-adde-f1f972cc4031",
   "metadata": {},
   "source": [
    "DataFrame variables pandas → NumPy conversion indices\n",
    "- `Age` :: X[:,0] :: range(-2.21539435, 3.89845382)\n",
    "- `Fare` :: X[:,1] :: range(-0.73374975, 5.56440648)\n",
    "- `qty_family` :: X[:,2] :: range(-0.59731945, 3.6637113)\n",
    "- `Sex` :: X[:,3:4] :: range(0.0, 1.0)\n",
    "- `Embarked` :: X[:,5:7] :: range(0.0, 1.0)\n",
    "- `has_cabin` :: X[:,8] :: range(False, True)"
   ]
  },
  {
   "cell_type": "code",
   "execution_count": 34,
   "id": "1b1cfb54-c98b-494a-80ca-fd82c37e9e11",
   "metadata": {},
   "outputs": [
    {
     "name": "stdout",
     "output_type": "stream",
     "text": [
      "\n",
      "Class labels after upsampling ::\n",
      "(array([0, 1], dtype=int64), array([392, 392], dtype=int64))\n",
      "\n"
     ]
    }
   ],
   "source": [
    "# Preprocess the target data\n",
    "from imblearn.over_sampling import SMOTE\n",
    "smote = SMOTE(random_state=42)\n",
    "X_train_processed, y_train_processed = smote.fit_resample(X_train_processed, y_train)\n",
    "print(f'\\nClass labels after upsampling ::\\n'\n",
    "      f'{np.unique(y_train_processed, return_counts=True)}\\n')"
   ]
  },
  {
   "cell_type": "code",
   "execution_count": 35,
   "id": "f0a76c8f-5078-4359-b855-98310d561cd0",
   "metadata": {},
   "outputs": [
    {
     "data": {
      "text/plain": [
       "['generated_files/HW8_Hinrichs_data.pkl']"
      ]
     },
     "execution_count": 35,
     "metadata": {},
     "output_type": "execute_result"
    }
   ],
   "source": [
    "## << --- CHECKPOINT --- >>\n",
    "X_train_OG = X_train.copy()\n",
    "y_train_OG = y_train.copy()\n",
    "\n",
    "# Save the tensor data to h5 file for later use\n",
    "import h5py\n",
    "hf = h5py.File('generated_files/HW8_Hinrichs_data.h5', 'w')\n",
    "hf.create_dataset('X_train', data=X_train_processed)\n",
    "hf.create_dataset('X_test', data=X_test_processed)\n",
    "hf.create_dataset('y_train', data= y_train_processed)\n",
    "hf.create_dataset('y_test', data=y_test)\n",
    "hf.close()\n",
    "\n",
    "# Save the preprocessing pipeline object to pickle file\n",
    "import joblib\n",
    "joblib.dump(preprocessor, 'generated_files/HW8_Hinrichs_data.pkl')"
   ]
  },
  {
   "cell_type": "code",
   "execution_count": 36,
   "id": "e3fe4ccb-b73f-47d0-ae5f-a8037ffc3386",
   "metadata": {
    "jupyter": {
     "source_hidden": true
    }
   },
   "outputs": [],
   "source": [
    "# Store preprocessing fitters (for later use)\n",
    "age_pp = preprocessor.transform(X_train)[:,0]\n",
    "fare_pp = preprocessor.transform(X_train)[:,1]\n",
    "qfam_pp = preprocessor.transform(X_train)[:,2]\n",
    "sex_pp = preprocessor.transform(X_train)[:,3:4]\n",
    "emb_pp = preprocessor.transform(X_train)[:,5:7]\n",
    "cab_pp = preprocessor.transform(X_train)[:,8]\n",
    "\n",
    "# Save the tensor data to h5 file for later use\n",
    "import h5py\n",
    "hf = h5py.File('generated_files/HW8_Hinrichs_pp_data.h5', 'w')\n",
    "pp_group = hf.create_group('preprocessors')\n",
    "pp_group.create_dataset('age_pp', data=age_pp)\n",
    "pp_group.create_dataset('fare_pp', data=fare_pp)\n",
    "pp_group.create_dataset('qfam_pp', data=qfam_pp)\n",
    "pp_group.create_dataset('sex_pp', data=sex_pp)\n",
    "pp_group.create_dataset('emb_pp', data=emb_pp)\n",
    "pp_group.create_dataset('cab_pp', data=cab_pp)\n",
    "hf.close()"
   ]
  },
  {
   "cell_type": "markdown",
   "id": "2c486f0c-b9d2-469d-a2dd-6230169638a5",
   "metadata": {},
   "source": [
    "---\n",
    "\n",
    "<center><h2>NaïveBayes Modeling</h2></center>\n",
    "\n",
    "---"
   ]
  },
  {
   "cell_type": "code",
   "execution_count": 37,
   "id": "8d34841e-a64e-4e86-8128-7848991888b4",
   "metadata": {},
   "outputs": [],
   "source": [
    "## << --- CHECKPOINT --- >>\n",
    "# Import pre-processed tensor data from 'h5' file\n",
    "import h5py\n",
    "import numpy as np\n",
    "hf = h5py.File('generated_files/HW8_Hinrichs_data.h5', 'r')\n",
    "X_train = np.array(hf['X_train'])\n",
    "X_test = np.array(hf['X_test'])\n",
    "y_train = np.array(hf['y_train'])\n",
    "y_test = np.array(hf['y_test'])\n",
    "hf.close()\n",
    "\n",
    "# Import pre-processed pipeline object from pickle file (needs fitting)\n",
    "import joblib\n",
    "preprocessor_import = joblib.load('generated_files/HW8_Hinrichs_data.pkl')"
   ]
  },
  {
   "cell_type": "code",
   "execution_count": 38,
   "id": "20e97dc4-553a-4a59-94c7-1f6e7615fb73",
   "metadata": {},
   "outputs": [
    {
     "name": "stdout",
     "output_type": "stream",
     "text": [
      "\n",
      "Training Shape :: (784, 9)\n",
      "Training Labels :: (784,)\n",
      "\n",
      "Testing Shape :: (268, 9)\n",
      "Testing Labels :: (268,)\n",
      "\n",
      "Training Features ::\n",
      "[[-0.27 -0.32 -0.29  1.    0.    1.    0.    0.    1.  ]\n",
      " [-2.02 -0.28  0.82  0.    1.    0.    0.    1.    0.  ]\n",
      " [-2.02 -0.33  0.37  0.    1.    0.    0.    1.    0.  ]\n",
      " [-0.79 -0.02 -0.6   1.    0.    0.    0.    1.    1.  ]\n",
      " [-0.25 -0.24  0.11  0.    1.    0.    0.    1.    0.  ]]\n",
      "\n"
     ]
    },
    {
     "data": {
      "image/png": "[encoded data removed]",
      "text/plain": [
       "<Figure size 640x480 with 1 Axes>"
      ]
     },
     "metadata": {},
     "output_type": "display_data"
    }
   ],
   "source": [
    "# Report the dataset shapes\n",
    "print(f'\\nTraining Shape :: {X_train.shape}')\n",
    "print(f'Training Labels :: {y_train.shape}')\n",
    "print(f'\\nTesting Shape :: {X_test.shape}')\n",
    "print(f'Testing Labels :: {y_test.shape}\\n')\n",
    "\n",
    "# Feature variable analysis\n",
    "print(f'Training Features ::\\n'\n",
    "      f'{np.round(X_train[np.random.randint(X_train.shape[0], size=5), :],2)}\\n')\n",
    "\n",
    "# Target variable analysis\n",
    "unique_labels, label_counts = np.unique(y_train, return_counts=True)\n",
    "import matplotlib.pyplot as plt\n",
    "plt.pie(label_counts, labels=unique_labels, autopct='%.1f%%', startangle=90)\n",
    "plt.title(\"Class Distribution of `Survived`\");"
   ]
  },
  {
   "cell_type": "markdown",
   "id": "6727a7fd-ed24-479b-920a-d25493a3b245",
   "metadata": {},
   "source": [
    "> 6. Build a model on the training data. You can create your own code or use `sklearn NaïveBayes`. If you use a mix of continuous and categorical explanatory variables, think of how you can build the model."
   ]
  },
  {
   "cell_type": "code",
   "execution_count": 39,
   "id": "b8749b42-b833-47b0-8671-faaba87400d2",
   "metadata": {
    "jupyter": {
     "source_hidden": true
    },
    "scrolled": true
   },
   "outputs": [],
   "source": [
    "# # Implement Laplace Smoothing to eliminate zeroes  <<-- how to apply this??\n",
    "# from sklearn.metrics.pairwise import laplacian_kernel\n",
    "# k = laplacian_kernel(X_train, y_train)\n",
    "# k"
   ]
  },
  {
   "cell_type": "code",
   "execution_count": 40,
   "id": "e7f8ab10-8536-4857-94f5-63967a2102b6",
   "metadata": {},
   "outputs": [
    {
     "data": {
      "text/plain": [
       "0.0"
      ]
     },
     "execution_count": 40,
     "metadata": {},
     "output_type": "execute_result"
    }
   ],
   "source": [
    "# Implement Laplace Smoothing to eliminate zeroes\n",
    "alpha = 1.0e-10\n",
    "\n",
    "# Find zeroes & add alpha\n",
    "X_train[np.where(X_train==0)] += alpha\n",
    "X_train[X_train==0].sum()"
   ]
  },
  {
   "cell_type": "code",
   "execution_count": 41,
   "id": "69118f2a-2d5a-48d2-a468-364d9981824b",
   "metadata": {},
   "outputs": [
    {
     "data": {
      "text/plain": [
       "0.7869897959183674"
      ]
     },
     "execution_count": 41,
     "metadata": {},
     "output_type": "execute_result"
    }
   ],
   "source": [
    "# Build the Naive Bayes model\n",
    "from sklearn.naive_bayes import GaussianNB\n",
    "nb_model = GaussianNB()\n",
    "\n",
    "# Fit the Naive Bayes model on the preprocessed data\n",
    "nb_model.fit(X_train, y_train)\n",
    "\n",
    "# Report the fit of the model\n",
    "nb_model.score(X_train, y_train)"
   ]
  },
  {
   "cell_type": "markdown",
   "id": "8149a491-57a6-4228-8959-04ee9b1ecd63",
   "metadata": {},
   "source": [
    "> 7. Inspect the evaluation measures (accuracy score, confusion matrix, classification report)."
   ]
  },
  {
   "cell_type": "code",
   "execution_count": 42,
   "id": "f1ed8185-6942-4a71-9a7d-773bcd0fb502",
   "metadata": {},
   "outputs": [
    {
     "name": "stdout",
     "output_type": "stream",
     "text": [
      "\n",
      "Accuracy: 0.7910447761194029\n",
      "\n",
      "Classification Report:\n",
      "              precision    recall  f1-score   support\n",
      "\n",
      "           0       0.83      0.80      0.82       157\n",
      "           1       0.74      0.77      0.75       111\n",
      "\n",
      "    accuracy                           0.79       268\n",
      "   macro avg       0.78      0.79      0.79       268\n",
      "weighted avg       0.79      0.79      0.79       268\n",
      "\n",
      "Confusion Matrix:\n",
      "[[126  31]\n",
      " [ 25  86]]\n"
     ]
    }
   ],
   "source": [
    "# Evaluate the model's performance\n",
    "from sklearn.metrics import accuracy_score, classification_report, confusion_matrix\n",
    "\n",
    "# Calculate the prediction accuracy of the model\n",
    "y_pred = nb_model.predict(X_test)\n",
    "accuracy = accuracy_score(y_test, y_pred)\n",
    "print(f'\\nAccuracy: {accuracy}')\n",
    "\n",
    "# Generate the classification report\n",
    "print(f'\\nClassification Report:\\n'\n",
    "      f'{classification_report(y_test, y_pred)}')\n",
    "\n",
    "# Generate the confusion matrix\n",
    "print(f'Confusion Matrix:\\n'\n",
    "      f'{confusion_matrix(y_test, y_pred)}')"
   ]
  },
  {
   "cell_type": "markdown",
   "id": "4ccc72bb-aa98-4901-b37f-c494f6748612",
   "metadata": {},
   "source": [
    "> 8. Take some values for the explanatory variables and use your model to predict if that person would have survived or not."
   ]
  },
  {
   "cell_type": "code",
   "execution_count": 44,
   "id": "cbb9b3c4-8f61-463e-a910-50eec7512abb",
   "metadata": {},
   "outputs": [
    {
     "name": "stdout",
     "output_type": "stream",
     "text": [
      "\n",
      "Enter a value ['female', 'male'] for `Sex`: \n"
     ]
    },
    {
     "name": "stdin",
     "output_type": "stream",
     "text": [
      " male\n"
     ]
    },
    {
     "name": "stdout",
     "output_type": "stream",
     "text": [
      "\n",
      "Enter a value ranged 0.42 to 80.0 for `Age`: \n"
     ]
    },
    {
     "name": "stdin",
     "output_type": "stream",
     "text": [
      " 1\n"
     ]
    },
    {
     "name": "stdout",
     "output_type": "stream",
     "text": [
      "\n",
      "Enter a value ranged 0.0 to 263.0 for `Fare`: \n"
     ]
    },
    {
     "name": "stdin",
     "output_type": "stream",
     "text": [
      " 10\n"
     ]
    },
    {
     "name": "stdout",
     "output_type": "stream",
     "text": [
      "\n",
      "Enter a value ['Q', 'S', 'C'] for `Embarked`: \n"
     ]
    },
    {
     "name": "stdin",
     "output_type": "stream",
     "text": [
      " q\n"
     ]
    },
    {
     "name": "stdout",
     "output_type": "stream",
     "text": [
      "\n",
      "Enter a value ranged 0 to 6 for `qty_family`: \n"
     ]
    },
    {
     "name": "stdin",
     "output_type": "stream",
     "text": [
      " 6\n"
     ]
    },
    {
     "name": "stdout",
     "output_type": "stream",
     "text": [
      "\n",
      "Enter a value 1 for `True` or 0 for `False` for `has_cabin`: \n"
     ]
    },
    {
     "name": "stdin",
     "output_type": "stream",
     "text": [
      " 0\n"
     ]
    },
    {
     "name": "stdout",
     "output_type": "stream",
     "text": [
      "\n",
      "The probability of `Survived` predicted for a person with those parameters is FALSE\n",
      "\n"
     ]
    }
   ],
   "source": [
    "# Define transformers for model prediction\n",
    "preprocessor.fit(X_train_OG)\n",
    "\n",
    "# Let the user enter some test feature values\n",
    "feature_names = [col for col in X_train_OG.columns]\n",
    "user_X = list()\n",
    "for index, variable in enumerate(feature_names):\n",
    "    if index==int(0) or index==int(3):\n",
    "        pick_var = set(X_train_OG[variable])\n",
    "        print(f'\\nEnter a value {[str(v) for v in pick_var]} for `{variable}`: ')\n",
    "        user_x = str(input('')) if index==int(0) else str(input('')).capitalize()\n",
    "    elif index==int(1) or index==int(2) or index==int(4):\n",
    "        min_var, max_var = X_train_OG[variable].min(), X_train_OG[variable].max()\n",
    "        print(f'\\nEnter a value ranged {min_var} to {max_var} for `{variable}`: ')\n",
    "        user_x = float(input(''))\n",
    "        user_x += alpha\n",
    "    else:\n",
    "        print(f'\\nEnter a value {int(1)} for `True` or {int(0)} for `False` for `{variable}`: ')\n",
    "        user_x = bool(input(''))\n",
    "    # Find zeroes & add alpha\n",
    "    user_X.append(user_x)\n",
    "import pandas as pd\n",
    "user_X = pd.DataFrame([user_X], columns=feature_names)\n",
    "\n",
    "# Run a sample test predictions based on user-inputted features\n",
    "import warnings\n",
    "warnings.filterwarnings(\"ignore\")  # suppress 'valid feature names' warning\n",
    "user_X_processed = preprocessor.transform(user_X) # preprocess the feature data\n",
    "prediction = nb_model.predict(user_X_processed)[0]\n",
    "predicted = str('TRUE') if prediction==int(1) else str('FALSE')\n",
    "print(f'\\nThe probability of `Survived` predicted for a person with those parameters is {predicted}\\n')"
   ]
  },
  {
   "cell_type": "code",
   "execution_count": null,
   "id": "9c0572d4-5c2b-4ada-b991-1e002a969b92",
   "metadata": {},
   "outputs": [],
   "source": []
  }
 ],
 "metadata": {
  "kernelspec": {
   "display_name": "Python 3 (ipykernel)",
   "language": "python",
   "name": "python3"
  },
  "language_info": {
   "codemirror_mode": {
    "name": "ipython",
    "version": 3
   },
   "file_extension": ".py",
   "mimetype": "text/x-python",
   "name": "python",
   "nbconvert_exporter": "python",
   "pygments_lexer": "ipython3",
   "version": "3.8.17"
  }
 },
 "nbformat": 4,
 "nbformat_minor": 5
}
