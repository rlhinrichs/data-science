{
 "cells": [
  {
   "cell_type": "code",
   "execution_count": null,
   "id": "bce95533",
   "metadata": {},
   "outputs": [],
   "source": [
    "# Market Analysis of eCommerce Purchases\n",
    "# by Rebecca Hinrichs\n",
    "# 6 Feb 2022"
   ]
  },
  {
   "cell_type": "code",
   "execution_count": null,
   "id": "d3df352f",
   "metadata": {},
   "outputs": [],
   "source": [
    "# ASSIGNMENT 1"
   ]
  },
  {
   "cell_type": "code",
   "execution_count": null,
   "id": "8e30337a",
   "metadata": {},
   "outputs": [],
   "source": [
    "## REPORT: Summary of Findings\n",
    "# ***\n",
    "# After investigating the data collected from 10,000 transactions ranging in purchase price from $0 to $99.99 and averaging $50.35. The data recorded 14 features per transaction, and by utilizing these features, we found that 1,098 used English as their language of choice to navigate the site, 4932 purchases occurred in the morning and 5068 occurred in the evening, and the most common email providers were hotmail, yahoo, gmail, smith and williams.com. The most popular professions of our purchasers were Interior Designers, Lawyers, Social Researchers, Purchasing Managers and Jewelry Designers, 30 of which were Lawyers. For our targeted research, we found that 1033 customers used a credit card which will expire in the year 2025, and a total of 39 customers made purchases over $95 and used an American Express credit card. Finally, in regards to specific investigations we were asked to conduct: the purchase price from Lot 90WT was for $75.10, and the email address associated with the credit card we were asked to track is bondellen@williams-garza.com. Thanks for your time!\n",
    "# ***"
   ]
  },
  {
   "cell_type": "code",
   "execution_count": null,
   "id": "874c7f97",
   "metadata": {},
   "outputs": [],
   "source": [
    "# 1. Import the data into a data frame & display the first 10 rows\n",
    "import pandas as pd\n",
    "eData = pd.read_csv(\"EcommercePurchases.csv\")\n",
    "df = pd.DataFrame(eData)\n",
    "df.head(10)"
   ]
  },
  {
   "cell_type": "code",
   "execution_count": null,
   "id": "7a82ae57",
   "metadata": {
    "scrolled": true
   },
   "outputs": [],
   "source": [
    "# 2. How many rows and columns are in this data?\n",
    "rows = len(df)\n",
    "cols = df.columns\n",
    "print(f'There are {rows} rows and {len(cols)} columns.')"
   ]
  },
  {
   "cell_type": "code",
   "execution_count": null,
   "id": "28e1049f",
   "metadata": {},
   "outputs": [],
   "source": [
    "# 3. What's the average purchase price?\n",
    "avg = df['Purchase Price'].mean()\n",
    "print(f'The average purchase price is {avg:.2f}.')"
   ]
  },
  {
   "cell_type": "code",
   "execution_count": null,
   "id": "e46a79d3",
   "metadata": {},
   "outputs": [],
   "source": [
    "# 4. What were the highest and lowest purchase prices?\n",
    "max = df['Purchase Price'].max()\n",
    "min = df['Purchase Price'].min()\n",
    "print(f'The highest price is {max} and the lowest price is {min}.')"
   ]
  },
  {
   "cell_type": "code",
   "execution_count": null,
   "id": "f8a7e334",
   "metadata": {},
   "outputs": [],
   "source": [
    "# 5. How many people have English ('en') as their language of choice on the website?\n",
    "english = (df['Language'] == 'en')\n",
    "english.values.sum()"
   ]
  },
  {
   "cell_type": "code",
   "execution_count": null,
   "id": "f68334e1",
   "metadata": {},
   "outputs": [],
   "source": [
    "# 6. How many people have the job title of 'Lawyer'?\n",
    "lawyer = (df['Job'] == 'Lawyer')\n",
    "lawyer.values.sum()"
   ]
  },
  {
   "cell_type": "code",
   "execution_count": null,
   "id": "df6e5996",
   "metadata": {},
   "outputs": [],
   "source": [
    "# 7. How many people made their purchase during the AM and how many made their purchase during the PM? (Hint: value_counts())\n",
    "df['AM or PM'].value_counts()"
   ]
  },
  {
   "cell_type": "code",
   "execution_count": null,
   "id": "235eb7f7",
   "metadata": {
    "scrolled": true
   },
   "outputs": [],
   "source": [
    "# 8. What are the 5 most common job titles?\n",
    "df['Job'].value_counts().head(5)"
   ]
  },
  {
   "cell_type": "code",
   "execution_count": null,
   "id": "1f718cec",
   "metadata": {},
   "outputs": [],
   "source": [
    "# 9. Someone made a purchase that came from Lot: '90 WT'; what was the purchase price for this transaction?\n",
    "whois1 = df.loc[df['Lot'] == '90 WT']\n",
    "whois1['Purchase Price']"
   ]
  },
  {
   "cell_type": "code",
   "execution_count": null,
   "id": "d3893a88",
   "metadata": {
    "scrolled": true
   },
   "outputs": [],
   "source": [
    "# 10. What is the email of the customer with credit card number: 4926535242672853?\n",
    "whois2 = df.loc[df['Credit Card'] == 4926535242672853]\n",
    "whois2['Email']"
   ]
  },
  {
   "cell_type": "code",
   "execution_count": null,
   "id": "58f0771e",
   "metadata": {},
   "outputs": [],
   "source": [
    "# 11. How many people have American Express as their credit card provider and made a purchase above $95?\n",
    "amex = df[(df['CC Provider'] == 'American Express') & (df['Purchase Price'] > 95)]\n",
    "len(amex)"
   ]
  },
  {
   "cell_type": "code",
   "execution_count": null,
   "id": "053bf460",
   "metadata": {},
   "outputs": [],
   "source": [
    "# EXTRA CREDIT: 1. How many people have a credit card that expires in 2025?\n",
    "expiry = df[df['CC Exp Date'].str.contains('25')]\n",
    "expiry['CC Exp Date'].count()\n",
    "# number of credit card purchasers with an expiry date in 2025 = 1,033"
   ]
  },
  {
   "cell_type": "code",
   "execution_count": null,
   "id": "1d76e407",
   "metadata": {
    "scrolled": true
   },
   "outputs": [],
   "source": [
    "# EXTRA CREDIT: 2. What are the top 5 most popular email providers/hosts (e.g. gmail.com, yahoo.com, etc.)?\n",
    "email = df['Email'].str.split('@')\n",
    "email_providers = []\n",
    "for domain in email:\n",
    "    email_providers.append(domain[1])\n",
    "df['Email Providers'] = email_providers\n",
    "df['Email Providers'].value_counts().head(5)"
   ]
  }
 ],
 "metadata": {
  "kernelspec": {
   "display_name": "Python 3 (ipykernel)",
   "language": "python",
   "name": "python3"
  },
  "language_info": {
   "codemirror_mode": {
    "name": "ipython",
    "version": 3
   },
   "file_extension": ".py",
   "mimetype": "text/x-python",
   "name": "python",
   "nbconvert_exporter": "python",
   "pygments_lexer": "ipython3",
   "version": "3.9.7"
  }
 },
 "nbformat": 4,
 "nbformat_minor": 5
}
