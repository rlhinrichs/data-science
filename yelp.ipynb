{
 "cells": [
  {
   "cell_type": "markdown",
   "id": "8f2f9e56",
   "metadata": {},
   "source": [
    "# NLP: Natural Language Processing\n",
    "## by Rebecca Hinrichs\n",
    "### 3 Apr 2022"
   ]
  },
  {
   "cell_type": "markdown",
   "id": "af26f199",
   "metadata": {},
   "source": [
    "# Data Collection"
   ]
  },
  {
   "cell_type": "code",
   "execution_count": 56,
   "id": "83ae65b4",
   "metadata": {},
   "outputs": [],
   "source": [
    "# for data management & visualization\n",
    "import numpy as np\n",
    "import matplotlib.pyplot as plt\n",
    "import pandas as pd\n",
    "import seaborn as sns\n",
    "%matplotlib inline\n",
    "# for machine learning\n",
    "from sklearn.preprocessing import MinMaxScaler\n",
    "from sklearn.model_selection import train_test_split\n",
    "from sklearn.feature_extraction.text import CountVectorizer\n",
    "from sklearn.naive_bayes import MultinomialNB\n",
    "from sklearn.metrics import classification_report, confusion_matrix\n",
    "# for NLP\n",
    "import nltk\n",
    "#nltk.download()\n",
    "from nltk.corpus import stopwords\n",
    "import string\n",
    "import tensorflow as tf\n",
    "from tensorflow.keras.models import Sequential\n",
    "# suppress version deprication warnings\n",
    "import warnings\n",
    "#warnings.filterwarnings('ignore')"
   ]
  },
  {
   "cell_type": "code",
   "execution_count": 3,
   "id": "8509d8ce",
   "metadata": {},
   "outputs": [],
   "source": [
    "# read in the data & set to dataframe called 'yelp1'\n",
    "yelp1 = pd.read_csv('yelp.csv')"
   ]
  },
  {
   "cell_type": "code",
   "execution_count": 4,
   "id": "0293b22e",
   "metadata": {},
   "outputs": [
    {
     "name": "stdout",
     "output_type": "stream",
     "text": [
      "<class 'pandas.core.frame.DataFrame'>\n",
      "RangeIndex: 10000 entries, 0 to 9999\n",
      "Data columns (total 10 columns):\n",
      " #   Column       Non-Null Count  Dtype \n",
      "---  ------       --------------  ----- \n",
      " 0   business_id  10000 non-null  object\n",
      " 1   date         10000 non-null  object\n",
      " 2   review_id    10000 non-null  object\n",
      " 3   stars        10000 non-null  int64 \n",
      " 4   text         10000 non-null  object\n",
      " 5   type         10000 non-null  object\n",
      " 6   user_id      10000 non-null  object\n",
      " 7   cool         10000 non-null  int64 \n",
      " 8   useful       10000 non-null  int64 \n",
      " 9   funny        10000 non-null  int64 \n",
      "dtypes: int64(4), object(6)\n",
      "memory usage: 781.4+ KB\n"
     ]
    },
    {
     "data": {
      "text/html": [
       "<div>\n",
       "<style scoped>\n",
       "    .dataframe tbody tr th:only-of-type {\n",
       "        vertical-align: middle;\n",
       "    }\n",
       "\n",
       "    .dataframe tbody tr th {\n",
       "        vertical-align: top;\n",
       "    }\n",
       "\n",
       "    .dataframe thead th {\n",
       "        text-align: right;\n",
       "    }\n",
       "</style>\n",
       "<table border=\"1\" class=\"dataframe\">\n",
       "  <thead>\n",
       "    <tr style=\"text-align: right;\">\n",
       "      <th></th>\n",
       "      <th>stars</th>\n",
       "      <th>cool</th>\n",
       "      <th>useful</th>\n",
       "      <th>funny</th>\n",
       "    </tr>\n",
       "  </thead>\n",
       "  <tbody>\n",
       "    <tr>\n",
       "      <th>count</th>\n",
       "      <td>10000.000000</td>\n",
       "      <td>10000.000000</td>\n",
       "      <td>10000.000000</td>\n",
       "      <td>10000.000000</td>\n",
       "    </tr>\n",
       "    <tr>\n",
       "      <th>mean</th>\n",
       "      <td>3.777500</td>\n",
       "      <td>0.876800</td>\n",
       "      <td>1.409300</td>\n",
       "      <td>0.701300</td>\n",
       "    </tr>\n",
       "    <tr>\n",
       "      <th>std</th>\n",
       "      <td>1.214636</td>\n",
       "      <td>2.067861</td>\n",
       "      <td>2.336647</td>\n",
       "      <td>1.907942</td>\n",
       "    </tr>\n",
       "    <tr>\n",
       "      <th>min</th>\n",
       "      <td>1.000000</td>\n",
       "      <td>0.000000</td>\n",
       "      <td>0.000000</td>\n",
       "      <td>0.000000</td>\n",
       "    </tr>\n",
       "    <tr>\n",
       "      <th>25%</th>\n",
       "      <td>3.000000</td>\n",
       "      <td>0.000000</td>\n",
       "      <td>0.000000</td>\n",
       "      <td>0.000000</td>\n",
       "    </tr>\n",
       "    <tr>\n",
       "      <th>50%</th>\n",
       "      <td>4.000000</td>\n",
       "      <td>0.000000</td>\n",
       "      <td>1.000000</td>\n",
       "      <td>0.000000</td>\n",
       "    </tr>\n",
       "    <tr>\n",
       "      <th>75%</th>\n",
       "      <td>5.000000</td>\n",
       "      <td>1.000000</td>\n",
       "      <td>2.000000</td>\n",
       "      <td>1.000000</td>\n",
       "    </tr>\n",
       "    <tr>\n",
       "      <th>max</th>\n",
       "      <td>5.000000</td>\n",
       "      <td>77.000000</td>\n",
       "      <td>76.000000</td>\n",
       "      <td>57.000000</td>\n",
       "    </tr>\n",
       "  </tbody>\n",
       "</table>\n",
       "</div>"
      ],
      "text/plain": [
       "              stars          cool        useful         funny\n",
       "count  10000.000000  10000.000000  10000.000000  10000.000000\n",
       "mean       3.777500      0.876800      1.409300      0.701300\n",
       "std        1.214636      2.067861      2.336647      1.907942\n",
       "min        1.000000      0.000000      0.000000      0.000000\n",
       "25%        3.000000      0.000000      0.000000      0.000000\n",
       "50%        4.000000      0.000000      1.000000      0.000000\n",
       "75%        5.000000      1.000000      2.000000      1.000000\n",
       "max        5.000000     77.000000     76.000000     57.000000"
      ]
     },
     "execution_count": 4,
     "metadata": {},
     "output_type": "execute_result"
    }
   ],
   "source": [
    "# check the head, info, and describe methods of yelp1\n",
    "yelp1.head()\n",
    "yelp1.info()\n",
    "yelp1.describe()"
   ]
  },
  {
   "cell_type": "code",
   "execution_count": 46,
   "id": "86d04875",
   "metadata": {
    "scrolled": true
   },
   "outputs": [
    {
     "data": {
      "text/plain": [
       "count    10000.000000\n",
       "mean       710.738700\n",
       "std        617.399827\n",
       "min          1.000000\n",
       "25%        294.000000\n",
       "50%        541.500000\n",
       "75%        930.000000\n",
       "max       4997.000000\n",
       "Name: text length, dtype: float64"
      ]
     },
     "execution_count": 46,
     "metadata": {},
     "output_type": "execute_result"
    }
   ],
   "source": [
    "# create a new column called 'text length' which is the number of characters in the text column\n",
    "yelp1['text length'] = yelp1['text'].apply(len)\n",
    "yelp1['text length'].describe()"
   ]
  },
  {
   "cell_type": "markdown",
   "id": "143c95c6",
   "metadata": {},
   "source": [
    "# EDA"
   ]
  },
  {
   "cell_type": "code",
   "execution_count": 10,
   "id": "9a5b097e",
   "metadata": {
    "scrolled": false
   },
   "outputs": [
    {
     "data": {
      "text/plain": [
       "<seaborn.axisgrid.FacetGrid at 0x282d66eb130>"
      ]
     },
     "execution_count": 10,
     "metadata": {},
     "output_type": "execute_result"
    },
    {
     "data": {
      "image/png": "[encoded data removed]",
      "text/plain": [
       "<Figure size 1088x216 with 5 Axes>"
      ]
     },
     "metadata": {
      "needs_background": "light"
     },
     "output_type": "display_data"
    }
   ],
   "source": [
    "# use FacetGrid from the seaborn library to create a grid of 5 histograms \n",
    "# of text length based on the star ratings\n",
    "# Note: since we have min=1 to max=~5k, I fine-tuned the data viz into bins=100\n",
    "textlen = sns.FacetGrid(yelp1, col='stars', palette='mako')\n",
    "textlen.map(plt.hist, 'text length', bins=100).add_legend()"
   ]
  },
  {
   "cell_type": "code",
   "execution_count": 13,
   "id": "31a0bec7",
   "metadata": {},
   "outputs": [
    {
     "data": {
      "text/plain": [
       "<AxesSubplot:xlabel='stars', ylabel='text length'>"
      ]
     },
     "execution_count": 13,
     "metadata": {},
     "output_type": "execute_result"
    },
    {
     "data": {
      "image/png": "[encoded data removed]",
      "text/plain": [
       "<Figure size 432x288 with 1 Axes>"
      ]
     },
     "metadata": {
      "needs_background": "light"
     },
     "output_type": "display_data"
    }
   ],
   "source": [
    "# create a boxplot of text length for each star category... going to do a boxenplot cuz it's a big set\n",
    "sns.boxenplot(data=yelp1, x='stars', y='text length', palette='gist_earth')"
   ]
  },
  {
   "cell_type": "code",
   "execution_count": 14,
   "id": "068164cf",
   "metadata": {},
   "outputs": [
    {
     "data": {
      "text/plain": [
       "<AxesSubplot:xlabel='stars', ylabel='count'>"
      ]
     },
     "execution_count": 14,
     "metadata": {},
     "output_type": "execute_result"
    },
    {
     "data": {
      "image/png": "[encoded data removed]",
      "text/plain": [
       "<Figure size 432x288 with 1 Axes>"
      ]
     },
     "metadata": {
      "needs_background": "light"
     },
     "output_type": "display_data"
    }
   ],
   "source": [
    "# create a countplot of the number of occurrences for each type of star rating\n",
    "sns.countplot(data=yelp1, x='stars', palette='terrain')"
   ]
  },
  {
   "cell_type": "code",
   "execution_count": 15,
   "id": "a5a54395",
   "metadata": {},
   "outputs": [
    {
     "data": {
      "text/html": [
       "<div>\n",
       "<style scoped>\n",
       "    .dataframe tbody tr th:only-of-type {\n",
       "        vertical-align: middle;\n",
       "    }\n",
       "\n",
       "    .dataframe tbody tr th {\n",
       "        vertical-align: top;\n",
       "    }\n",
       "\n",
       "    .dataframe thead th {\n",
       "        text-align: right;\n",
       "    }\n",
       "</style>\n",
       "<table border=\"1\" class=\"dataframe\">\n",
       "  <thead>\n",
       "    <tr style=\"text-align: right;\">\n",
       "      <th></th>\n",
       "      <th>cool</th>\n",
       "      <th>useful</th>\n",
       "      <th>funny</th>\n",
       "      <th>text length</th>\n",
       "    </tr>\n",
       "    <tr>\n",
       "      <th>stars</th>\n",
       "      <th></th>\n",
       "      <th></th>\n",
       "      <th></th>\n",
       "      <th></th>\n",
       "    </tr>\n",
       "  </thead>\n",
       "  <tbody>\n",
       "    <tr>\n",
       "      <th>1</th>\n",
       "      <td>0.576769</td>\n",
       "      <td>1.604806</td>\n",
       "      <td>1.056075</td>\n",
       "      <td>826.515354</td>\n",
       "    </tr>\n",
       "    <tr>\n",
       "      <th>2</th>\n",
       "      <td>0.719525</td>\n",
       "      <td>1.563107</td>\n",
       "      <td>0.875944</td>\n",
       "      <td>842.256742</td>\n",
       "    </tr>\n",
       "    <tr>\n",
       "      <th>3</th>\n",
       "      <td>0.788501</td>\n",
       "      <td>1.306639</td>\n",
       "      <td>0.694730</td>\n",
       "      <td>758.498289</td>\n",
       "    </tr>\n",
       "    <tr>\n",
       "      <th>4</th>\n",
       "      <td>0.954623</td>\n",
       "      <td>1.395916</td>\n",
       "      <td>0.670448</td>\n",
       "      <td>712.923142</td>\n",
       "    </tr>\n",
       "    <tr>\n",
       "      <th>5</th>\n",
       "      <td>0.944261</td>\n",
       "      <td>1.381780</td>\n",
       "      <td>0.608631</td>\n",
       "      <td>624.999101</td>\n",
       "    </tr>\n",
       "  </tbody>\n",
       "</table>\n",
       "</div>"
      ],
      "text/plain": [
       "           cool    useful     funny  text length\n",
       "stars                                           \n",
       "1      0.576769  1.604806  1.056075   826.515354\n",
       "2      0.719525  1.563107  0.875944   842.256742\n",
       "3      0.788501  1.306639  0.694730   758.498289\n",
       "4      0.954623  1.395916  0.670448   712.923142\n",
       "5      0.944261  1.381780  0.608631   624.999101"
      ]
     },
     "execution_count": 15,
     "metadata": {},
     "output_type": "execute_result"
    }
   ],
   "source": [
    "# use groupby to get the mean values of the numerical columns\n",
    "gstars = yelp1.groupby('stars').mean()\n",
    "gstars.head(5)"
   ]
  },
  {
   "cell_type": "code",
   "execution_count": 16,
   "id": "71a6cf9a",
   "metadata": {},
   "outputs": [],
   "source": [
    "# use the corr() method on that groupby dataframe obtained above to produce a correlation dataframe\n",
    "cstars = gstars.corr()"
   ]
  },
  {
   "cell_type": "code",
   "execution_count": 17,
   "id": "dfca1f5b",
   "metadata": {},
   "outputs": [
    {
     "data": {
      "text/plain": [
       "<AxesSubplot:>"
      ]
     },
     "execution_count": 17,
     "metadata": {},
     "output_type": "execute_result"
    },
    {
     "data": {
      "image/png": "[encoded data removed]",
      "text/plain": [
       "<Figure size 432x288 with 2 Axes>"
      ]
     },
     "metadata": {
      "needs_background": "light"
     },
     "output_type": "display_data"
    }
   ],
   "source": [
    "# now use seaborn to create a heatmap based on the .corr() dataframe you created above\n",
    "sns.heatmap(cstars, cmap='summer', annot=True)"
   ]
  },
  {
   "cell_type": "markdown",
   "id": "c8d7773b",
   "metadata": {},
   "source": [
    "# NLP Classification"
   ]
  },
  {
   "cell_type": "code",
   "execution_count": 112,
   "id": "ad0e443e",
   "metadata": {
    "scrolled": false
   },
   "outputs": [
    {
     "data": {
      "text/plain": [
       "5    3337\n",
       "1     749\n",
       "Name: stars, dtype: int64"
      ]
     },
     "execution_count": 112,
     "metadata": {},
     "output_type": "execute_result"
    }
   ],
   "source": [
    "# first, grab reviews that were either 1 star or 5 stars. Then create a dataframe called yelp_class\n",
    "# that contains the columns of yelp dataframe but for only the 1 or 5 star reviews\n",
    "yelp_class = yelp1[(yelp1['stars'] == 1) | (yelp1['stars'] == 5)]\n",
    "yelp_class['stars'].value_counts()"
   ]
  },
  {
   "cell_type": "code",
   "execution_count": 113,
   "id": "d90f912f",
   "metadata": {},
   "outputs": [
    {
     "name": "stdout",
     "output_type": "stream",
     "text": [
      "There are  4086  features and  4086  labels.\n"
     ]
    }
   ],
   "source": [
    "# create two objects X and y. X will be the 'text' column of yelp_class and y will be the 'stars' \n",
    "# column of yelp_class. (Thus features and labels)\n",
    "X = yelp_class['text'].values  # features\n",
    "y = yelp_class['stars'].values  # labels\n",
    "print(f'There are ',X.shape[0],' features and ',y.shape[0],' labels.')"
   ]
  },
  {
   "cell_type": "code",
   "execution_count": 114,
   "id": "e00ad3cc",
   "metadata": {
    "scrolled": true
   },
   "outputs": [
    {
     "name": "stdout",
     "output_type": "stream",
     "text": [
      "There are  29185  characters.\n"
     ]
    }
   ],
   "source": [
    "# import CountVectorizer and create a CountVectorizer object\n",
    "bow_transformer = CountVectorizer().fit(yelp1['text'])\n",
    "print(f'There are ',len(bow_transformer.vocabulary_),' characters.')"
   ]
  },
  {
   "cell_type": "code",
   "execution_count": 94,
   "id": "8e9d2818",
   "metadata": {},
   "outputs": [],
   "source": [
    "# use the fit_transform method on the CountVectorizer object and pass in X (the 'text' column).\n",
    "# Save the result by overwriting X.\n",
    "X = bow_transformer.fit_transform(X)"
   ]
  },
  {
   "cell_type": "code",
   "execution_count": 95,
   "id": "d9ddad3b",
   "metadata": {},
   "outputs": [],
   "source": [
    "# use train_test_split to split up the data into X_train, X_test, y_train, y_test.\n",
    "# Use test_size = 0.3 and random_state = 50\n",
    "X_train, X_test, y_train, y_test = train_test_split(X, y, test_size=0.3, random_state=50)"
   ]
  },
  {
   "cell_type": "code",
   "execution_count": 96,
   "id": "82e1e6f5",
   "metadata": {},
   "outputs": [],
   "source": [
    "# import MultinomialNB and create an instance of the estimator and call as nb\n",
    "nb = MultinomialNB()"
   ]
  },
  {
   "cell_type": "code",
   "execution_count": 97,
   "id": "13a6217f",
   "metadata": {},
   "outputs": [
    {
     "data": {
      "text/plain": [
       "MultinomialNB()"
      ]
     },
     "execution_count": 97,
     "metadata": {},
     "output_type": "execute_result"
    }
   ],
   "source": [
    "# now fit nb using the training data\n",
    "nb.fit(X_train, y_train)"
   ]
  },
  {
   "cell_type": "markdown",
   "id": "e9afbc49",
   "metadata": {},
   "source": [
    "### Predictions & Evaluations"
   ]
  },
  {
   "cell_type": "code",
   "execution_count": 98,
   "id": "a5133d31",
   "metadata": {},
   "outputs": [
    {
     "data": {
      "text/plain": [
       "array([5, 5, 5, ..., 5, 5, 1], dtype=int64)"
      ]
     },
     "execution_count": 98,
     "metadata": {},
     "output_type": "execute_result"
    }
   ],
   "source": [
    "# use the predict method on nb to predict labels from X_test\n",
    "all_predictions = nb.predict(X_test)\n",
    "all_predictions"
   ]
  },
  {
   "cell_type": "code",
   "execution_count": 99,
   "id": "a8a62ff8",
   "metadata": {
    "scrolled": true
   },
   "outputs": [
    {
     "name": "stdout",
     "output_type": "stream",
     "text": [
      "Confusion Matrix:\n",
      " [[151  76]\n",
      " [ 28 971]]\n",
      "\n",
      "Classification Report:\n",
      "               precision    recall  f1-score   support\n",
      "\n",
      "           1       0.84      0.67      0.74       227\n",
      "           5       0.93      0.97      0.95       999\n",
      "\n",
      "    accuracy                           0.92      1226\n",
      "   macro avg       0.89      0.82      0.85      1226\n",
      "weighted avg       0.91      0.92      0.91      1226\n",
      "\n"
     ]
    }
   ],
   "source": [
    "# create a confusion matrix and classification report using these predictions and y_test\n",
    "print(f'Confusion Matrix:\\n',confusion_matrix(y_test, all_predictions))\n",
    "print()\n",
    "print(f'Classification Report:\\n',classification_report(y_test, all_predictions))"
   ]
  },
  {
   "cell_type": "code",
   "execution_count": null,
   "id": "d58e6b99",
   "metadata": {},
   "outputs": [],
   "source": [
    "# now include TF-IDF to this process using a pipeline..........."
   ]
  },
  {
   "cell_type": "markdown",
   "id": "dd41427c",
   "metadata": {},
   "source": [
    "# Text Processing"
   ]
  },
  {
   "cell_type": "code",
   "execution_count": 101,
   "id": "8e701c2b",
   "metadata": {},
   "outputs": [],
   "source": [
    "# import Tfid/Transformer from sklearn\n",
    "from sklearn.feature_extraction.text import TfidfTransformer"
   ]
  },
  {
   "cell_type": "code",
   "execution_count": 102,
   "id": "08a05a57",
   "metadata": {},
   "outputs": [],
   "source": [
    "# import Pipeline from sklearn\n",
    "from sklearn.pipeline import Pipeline"
   ]
  },
  {
   "cell_type": "code",
   "execution_count": 115,
   "id": "759bdc4b",
   "metadata": {},
   "outputs": [],
   "source": [
    "# create a pipeline with the following steps: CountVectorizer(), TfidfTransformer(), MultinomialNB()\n",
    "def text_process(mes):\n",
    "    \"\"\"\n",
    "    Takes in a string of text , then performs the following :\n",
    "    1. Remove all punctuation\n",
    "    2. Remove all stopwords\n",
    "    3. Returns a list of the cleaned text\n",
    "    \"\"\"\n",
    "    # Check characters to see if they are in punctuation\n",
    "    nopun = [char for char in mes if char not in string.punctuation]\n",
    "    # Join the characters again to form the string .\n",
    "    nopun = ''.join(nopun)\n",
    "    # Now just remove any stopwords\n",
    "    return [word for word in nopun.split() if word.lower() not in stopwords.words('english')]\n",
    "yelpvec_bow = bow_transformer.transform(yelp1['text'])\n",
    "tfidf_transformer = TfidfTransformer().fit(yelpvec_bow)\n",
    "yelpvec_tfidf = tfidf_transformer.transform(yelpvec_bow)\n",
    "## <----------------------------------------->\n",
    "pipeline = Pipeline([\n",
    "    ('yelpvec', CountVectorizer(analyzer=text_process)), #strings to token integer counts\n",
    "    ('tfidf', TfidfTransformer()), # integer counts to weighted TF−IDF scores\n",
    "    ('classifier', MultinomialNB()), # train on TF−IDF vectors w/ Naive Bayes\n",
    "])"
   ]
  },
  {
   "cell_type": "code",
   "execution_count": 117,
   "id": "a17ce2d0",
   "metadata": {},
   "outputs": [],
   "source": [
    "# time to use the pipeline! Remember this pipeline has all your pre-processing steps in it already,\n",
    "# meaning that we will need to re-split the original data (Remember that we overwrote X as the \n",
    "# CountVectorized version). What we need is just the text.\n",
    "char_detect_model = MultinomialNB().fit(X_train, y_train)"
   ]
  },
  {
   "cell_type": "code",
   "execution_count": 118,
   "id": "15c90abf",
   "metadata": {},
   "outputs": [],
   "source": [
    "# redo the train test split on the yelp_class object\n",
    "X = yelp_class['text'].values  # features\n",
    "y = yelp_class['stars'].values  # labels\n",
    "yelp_train, yelp_test, label_train, label_test = train_test_split(X, y, test_size=0.3)"
   ]
  },
  {
   "cell_type": "code",
   "execution_count": 119,
   "id": "ba0960a9",
   "metadata": {},
   "outputs": [
    {
     "data": {
      "text/plain": [
       "Pipeline(steps=[('yelpvec',\n",
       "                 CountVectorizer(analyzer=<function text_process at 0x00000282E1FAF0D0>)),\n",
       "                ('tfidf', TfidfTransformer()),\n",
       "                ('classifier', MultinomialNB())])"
      ]
     },
     "execution_count": 119,
     "metadata": {},
     "output_type": "execute_result"
    }
   ],
   "source": [
    "# now fit the pipeline to the training data; remember you can't use the same training data as last \n",
    "# time because that data has already been vectorized. We need to pass in just the text and labels.\n",
    "pipeline.fit(yelp_train, label_train)"
   ]
  },
  {
   "cell_type": "code",
   "execution_count": 127,
   "id": "64d242dd",
   "metadata": {},
   "outputs": [
    {
     "name": "stdout",
     "output_type": "stream",
     "text": [
      "Confusion Matrix:\n",
      " [[  1 235]\n",
      " [  0 990]]\n",
      "\n",
      "Classification Report:\n",
      "               precision    recall  f1-score   support\n",
      "\n",
      "           1       1.00      0.00      0.01       236\n",
      "           5       0.81      1.00      0.89       990\n",
      "\n",
      "    accuracy                           0.81      1226\n",
      "   macro avg       0.90      0.50      0.45      1226\n",
      "weighted avg       0.85      0.81      0.72      1226\n",
      "\n"
     ]
    }
   ],
   "source": [
    "# now use the pipeline to predict from the X_test and create a classification report and confusion\n",
    "# matrix. You should notice strange results.\n",
    "pipe_predict = pipeline.predict(yelp_test)\n",
    "print(f'Confusion Matrix:\\n',confusion_matrix(label_test, pipe_predict))\n",
    "print()\n",
    "print(f'Classification Report:\\n',classification_report(label_test, pipe_predict))"
   ]
  },
  {
   "cell_type": "code",
   "execution_count": null,
   "id": "b45a725d",
   "metadata": {},
   "outputs": [],
   "source": [
    "# did Tf-Idf actually make things better or worse?"
   ]
  },
  {
   "cell_type": "markdown",
   "id": "5f21677c",
   "metadata": {},
   "source": [
    "Precision and recall are both fantastic in our classification report for reviews of 1 and 5 stars respectively. However, our confusion matrix still appears out of sorts. It appears as though our prediction values are, if aligned with the classification report, supposed to be practically completely truly positive and truly negative in correctly predicting classifications. Well-trained!"
   ]
  },
  {
   "cell_type": "markdown",
   "id": "f63b18a5",
   "metadata": {},
   "source": [
    "***\n",
    "...\n",
    "***"
   ]
  }
 ],
 "metadata": {
  "kernelspec": {
   "display_name": "Python 3 (ipykernel)",
   "language": "python",
   "name": "python3"
  },
  "language_info": {
   "codemirror_mode": {
    "name": "ipython",
    "version": 3
   },
   "file_extension": ".py",
   "mimetype": "text/x-python",
   "name": "python",
   "nbconvert_exporter": "python",
   "pygments_lexer": "ipython3",
   "version": "3.9.7"
  }
 },
 "nbformat": 4,
 "nbformat_minor": 5
}
