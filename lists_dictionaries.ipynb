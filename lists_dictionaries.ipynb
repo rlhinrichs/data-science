{
 "cells": [
  {
   "cell_type": "code",
   "execution_count": null,
   "id": "c30af2fc",
   "metadata": {},
   "outputs": [],
   "source": [
    "## Rebecca Hinrichs\n",
    "## DATA 3401\n",
    "## 20 Jan 2022"
   ]
  },
  {
   "cell_type": "code",
   "execution_count": null,
   "id": "4a063102",
   "metadata": {},
   "outputs": [],
   "source": [
    "## Grocery Store List"
   ]
  },
  {
   "cell_type": "code",
   "execution_count": null,
   "id": "356cffe3",
   "metadata": {},
   "outputs": [],
   "source": [
    "# Make a Grocery List and print including: Milk, Bread, Eggs, Peanut Butter, Jelly\n",
    "groceries = [\"milk\", \"bread\", \"eggs\", \"peanut butter\", \"jelly\"]\n",
    "print(groceries)"
   ]
  },
  {
   "cell_type": "code",
   "execution_count": null,
   "id": "47b4cffd",
   "metadata": {},
   "outputs": [],
   "source": [
    "# Change 'Peanut Butter' to 'Almond Butter'\n",
    "groceries[3] = \"almond butter\"\n",
    "print(groceries)"
   ]
  },
  {
   "cell_type": "code",
   "execution_count": null,
   "id": "a72a5adb",
   "metadata": {
    "scrolled": false
   },
   "outputs": [],
   "source": [
    "# Remove 'Jelly'\n",
    "groceries.remove(\"jelly\")\n",
    "print(groceries)"
   ]
  },
  {
   "cell_type": "code",
   "execution_count": null,
   "id": "c9125922",
   "metadata": {},
   "outputs": [],
   "source": [
    "# Add 'Coffee' to the list\n",
    "groceries.append(\"coffee\")\n",
    "print(groceries)"
   ]
  },
  {
   "cell_type": "code",
   "execution_count": null,
   "id": "ca497c30",
   "metadata": {},
   "outputs": [],
   "source": [
    "## Information in Dictionaries"
   ]
  },
  {
   "cell_type": "code",
   "execution_count": null,
   "id": "eb42bc00",
   "metadata": {},
   "outputs": [],
   "source": [
    "# Make a Dictionary including my pet's name, age, hobbies, and wake-up times, then print\n",
    "pet = {\"name\":\"Tipp\", \"age\":11, \"hobbies\":[\"going for a walk\", \"riding in a car\", \"eating treats\", \"sleeping\"], \"wakeup times\":[\"4:00\", \"4:30\", \"6:00\"]}\n",
    "print(pet)"
   ]
  },
  {
   "cell_type": "code",
   "execution_count": null,
   "id": "2726b7f8",
   "metadata": {},
   "outputs": [],
   "source": [
    "# Print my pet's name and age\n",
    "print(\"pet['name']: \", pet['name'], \"      pet['age']: \", pet['age'])"
   ]
  },
  {
   "cell_type": "code",
   "execution_count": null,
   "id": "22684e8b",
   "metadata": {
    "scrolled": false
   },
   "outputs": [],
   "source": [
    "# Print number of pet hobbies\n",
    "print(f\"My pet has {len(pet['hobbies'])} hobbies.\")"
   ]
  },
  {
   "cell_type": "code",
   "execution_count": null,
   "id": "52b11639",
   "metadata": {},
   "outputs": [],
   "source": [
    "# Print my pet's favorite hobby\n",
    "print(f\"His favorite hobby is {pet['hobbies'][1]}.\")"
   ]
  },
  {
   "cell_type": "code",
   "execution_count": null,
   "id": "2de1f9a8",
   "metadata": {},
   "outputs": [],
   "source": [
    "# Print my pet's usual wake-up time\n",
    "print(f\"He typically wakes up at {pet['wakeup times'][1]}am every day.\")"
   ]
  },
  {
   "cell_type": "code",
   "execution_count": null,
   "id": "44d548ce",
   "metadata": {},
   "outputs": [],
   "source": []
  }
 ],
 "metadata": {
  "kernelspec": {
   "display_name": "Python 3 (ipykernel)",
   "language": "python",
   "name": "python3"
  },
  "language_info": {
   "codemirror_mode": {
    "name": "ipython",
    "version": 3
   },
   "file_extension": ".py",
   "mimetype": "text/x-python",
   "name": "python",
   "nbconvert_exporter": "python",
   "pygments_lexer": "ipython3",
   "version": "3.9.7"
  }
 },
 "nbformat": 4,
 "nbformat_minor": 5
}
